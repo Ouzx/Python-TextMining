{
 "cells": [
  {
   "cell_type": "markdown",
   "metadata": {},
   "source": [
    "Bu proje verileri setindeki sinif farkinin azaltildiginda olusacak sonuclari inceliyor. Esas proje `main.ipynb`"
   ]
  },
  {
   "cell_type": "markdown",
   "metadata": {},
   "source": [
    "# Gerekli Araclarin Dahil Edilmesi"
   ]
  },
  {
   "cell_type": "code",
   "execution_count": 50,
   "metadata": {},
   "outputs": [],
   "source": [
    "import numpy as np\n",
    "import pandas as pd\n",
    "\n",
    "from sklearn.feature_extraction.text import TfidfVectorizer\n",
    "from sklearn.feature_selection import SelectFromModel\n",
    "from sklearn.linear_model import LogisticRegression\n",
    "from sklearn.metrics import classification_report\n",
    "from sklearn.svm import LinearSVC\n",
    "from sklearn.model_selection import train_test_split\n",
    "\n",
    "import nltk\n",
    "from nltk.stem.porter import *\n",
    "\n",
    "import re\n",
    "\n",
    "from vaderSentiment.vaderSentiment import SentimentIntensityAnalyzer as VS\n",
    "\n",
    "from textstat.textstat import *\n",
    "\n",
    "import matplotlib.pyplot as plt\n",
    "import seaborn\n",
    "\n",
    "%matplotlib inline\n"
   ]
  },
  {
   "cell_type": "markdown",
   "metadata": {},
   "source": [
    "# Veri setinin yuklenmesi"
   ]
  },
  {
   "cell_type": "code",
   "execution_count": 51,
   "metadata": {},
   "outputs": [],
   "source": [
    "with open(\"data/labeled_data.p\", 'rb') as f:\n",
    "    df = pd.read_pickle(f)"
   ]
  },
  {
   "cell_type": "code",
   "execution_count": 52,
   "metadata": {},
   "outputs": [
    {
     "data": {
      "text/html": [
       "<div>\n",
       "<style scoped>\n",
       "    .dataframe tbody tr th:only-of-type {\n",
       "        vertical-align: middle;\n",
       "    }\n",
       "\n",
       "    .dataframe tbody tr th {\n",
       "        vertical-align: top;\n",
       "    }\n",
       "\n",
       "    .dataframe thead th {\n",
       "        text-align: right;\n",
       "    }\n",
       "</style>\n",
       "<table border=\"1\" class=\"dataframe\">\n",
       "  <thead>\n",
       "    <tr style=\"text-align: right;\">\n",
       "      <th></th>\n",
       "      <th>count</th>\n",
       "      <th>hate_speech</th>\n",
       "      <th>offensive_language</th>\n",
       "      <th>neither</th>\n",
       "      <th>class</th>\n",
       "      <th>tweet</th>\n",
       "    </tr>\n",
       "  </thead>\n",
       "  <tbody>\n",
       "    <tr>\n",
       "      <th>0</th>\n",
       "      <td>3</td>\n",
       "      <td>0</td>\n",
       "      <td>0</td>\n",
       "      <td>3</td>\n",
       "      <td>2</td>\n",
       "      <td>!!! RT @mayasolovely: As a woman you shouldn't...</td>\n",
       "    </tr>\n",
       "    <tr>\n",
       "      <th>1</th>\n",
       "      <td>3</td>\n",
       "      <td>0</td>\n",
       "      <td>3</td>\n",
       "      <td>0</td>\n",
       "      <td>1</td>\n",
       "      <td>!!!!! RT @mleew17: boy dats cold...tyga dwn ba...</td>\n",
       "    </tr>\n",
       "    <tr>\n",
       "      <th>2</th>\n",
       "      <td>3</td>\n",
       "      <td>0</td>\n",
       "      <td>3</td>\n",
       "      <td>0</td>\n",
       "      <td>1</td>\n",
       "      <td>!!!!!!! RT @UrKindOfBrand Dawg!!!! RT @80sbaby...</td>\n",
       "    </tr>\n",
       "    <tr>\n",
       "      <th>3</th>\n",
       "      <td>3</td>\n",
       "      <td>0</td>\n",
       "      <td>2</td>\n",
       "      <td>1</td>\n",
       "      <td>1</td>\n",
       "      <td>!!!!!!!!! RT @C_G_Anderson: @viva_based she lo...</td>\n",
       "    </tr>\n",
       "    <tr>\n",
       "      <th>4</th>\n",
       "      <td>6</td>\n",
       "      <td>0</td>\n",
       "      <td>6</td>\n",
       "      <td>0</td>\n",
       "      <td>1</td>\n",
       "      <td>!!!!!!!!!!!!! RT @ShenikaRoberts: The shit you...</td>\n",
       "    </tr>\n",
       "    <tr>\n",
       "      <th>...</th>\n",
       "      <td>...</td>\n",
       "      <td>...</td>\n",
       "      <td>...</td>\n",
       "      <td>...</td>\n",
       "      <td>...</td>\n",
       "      <td>...</td>\n",
       "    </tr>\n",
       "    <tr>\n",
       "      <th>25291</th>\n",
       "      <td>3</td>\n",
       "      <td>0</td>\n",
       "      <td>2</td>\n",
       "      <td>1</td>\n",
       "      <td>1</td>\n",
       "      <td>you's a muthaf***in lie &amp;#8220;@LifeAsKing: @2...</td>\n",
       "    </tr>\n",
       "    <tr>\n",
       "      <th>25292</th>\n",
       "      <td>3</td>\n",
       "      <td>0</td>\n",
       "      <td>1</td>\n",
       "      <td>2</td>\n",
       "      <td>2</td>\n",
       "      <td>you've gone and broke the wrong heart baby, an...</td>\n",
       "    </tr>\n",
       "    <tr>\n",
       "      <th>25294</th>\n",
       "      <td>3</td>\n",
       "      <td>0</td>\n",
       "      <td>3</td>\n",
       "      <td>0</td>\n",
       "      <td>1</td>\n",
       "      <td>young buck wanna eat!!.. dat nigguh like I ain...</td>\n",
       "    </tr>\n",
       "    <tr>\n",
       "      <th>25295</th>\n",
       "      <td>6</td>\n",
       "      <td>0</td>\n",
       "      <td>6</td>\n",
       "      <td>0</td>\n",
       "      <td>1</td>\n",
       "      <td>youu got wild bitches tellin you lies</td>\n",
       "    </tr>\n",
       "    <tr>\n",
       "      <th>25296</th>\n",
       "      <td>3</td>\n",
       "      <td>0</td>\n",
       "      <td>0</td>\n",
       "      <td>3</td>\n",
       "      <td>2</td>\n",
       "      <td>~~Ruffled | Ntac Eileen Dahlia - Beautiful col...</td>\n",
       "    </tr>\n",
       "  </tbody>\n",
       "</table>\n",
       "<p>24783 rows × 6 columns</p>\n",
       "</div>"
      ],
      "text/plain": [
       "       count  hate_speech  offensive_language  neither class  \\\n",
       "0          3            0                   0        3     2   \n",
       "1          3            0                   3        0     1   \n",
       "2          3            0                   3        0     1   \n",
       "3          3            0                   2        1     1   \n",
       "4          6            0                   6        0     1   \n",
       "...      ...          ...                 ...      ...   ...   \n",
       "25291      3            0                   2        1     1   \n",
       "25292      3            0                   1        2     2   \n",
       "25294      3            0                   3        0     1   \n",
       "25295      6            0                   6        0     1   \n",
       "25296      3            0                   0        3     2   \n",
       "\n",
       "                                                   tweet  \n",
       "0      !!! RT @mayasolovely: As a woman you shouldn't...  \n",
       "1      !!!!! RT @mleew17: boy dats cold...tyga dwn ba...  \n",
       "2      !!!!!!! RT @UrKindOfBrand Dawg!!!! RT @80sbaby...  \n",
       "3      !!!!!!!!! RT @C_G_Anderson: @viva_based she lo...  \n",
       "4      !!!!!!!!!!!!! RT @ShenikaRoberts: The shit you...  \n",
       "...                                                  ...  \n",
       "25291  you's a muthaf***in lie &#8220;@LifeAsKing: @2...  \n",
       "25292  you've gone and broke the wrong heart baby, an...  \n",
       "25294  young buck wanna eat!!.. dat nigguh like I ain...  \n",
       "25295              youu got wild bitches tellin you lies  \n",
       "25296  ~~Ruffled | Ntac Eileen Dahlia - Beautiful col...  \n",
       "\n",
       "[24783 rows x 6 columns]"
      ]
     },
     "execution_count": 52,
     "metadata": {},
     "output_type": "execute_result"
    }
   ],
   "source": [
    "df"
   ]
  },
  {
   "cell_type": "code",
   "execution_count": 53,
   "metadata": {},
   "outputs": [
    {
     "data": {
      "text/html": [
       "<div>\n",
       "<style scoped>\n",
       "    .dataframe tbody tr th:only-of-type {\n",
       "        vertical-align: middle;\n",
       "    }\n",
       "\n",
       "    .dataframe tbody tr th {\n",
       "        vertical-align: top;\n",
       "    }\n",
       "\n",
       "    .dataframe thead th {\n",
       "        text-align: right;\n",
       "    }\n",
       "</style>\n",
       "<table border=\"1\" class=\"dataframe\">\n",
       "  <thead>\n",
       "    <tr style=\"text-align: right;\">\n",
       "      <th></th>\n",
       "      <th>count</th>\n",
       "      <th>hate_speech</th>\n",
       "      <th>offensive_language</th>\n",
       "      <th>neither</th>\n",
       "    </tr>\n",
       "  </thead>\n",
       "  <tbody>\n",
       "    <tr>\n",
       "      <th>count</th>\n",
       "      <td>24783.000000</td>\n",
       "      <td>24783.000000</td>\n",
       "      <td>24783.000000</td>\n",
       "      <td>24783.000000</td>\n",
       "    </tr>\n",
       "    <tr>\n",
       "      <th>mean</th>\n",
       "      <td>3.243473</td>\n",
       "      <td>0.280515</td>\n",
       "      <td>2.413711</td>\n",
       "      <td>0.549247</td>\n",
       "    </tr>\n",
       "    <tr>\n",
       "      <th>std</th>\n",
       "      <td>0.883060</td>\n",
       "      <td>0.631851</td>\n",
       "      <td>1.399459</td>\n",
       "      <td>1.113299</td>\n",
       "    </tr>\n",
       "    <tr>\n",
       "      <th>min</th>\n",
       "      <td>3.000000</td>\n",
       "      <td>0.000000</td>\n",
       "      <td>0.000000</td>\n",
       "      <td>0.000000</td>\n",
       "    </tr>\n",
       "    <tr>\n",
       "      <th>25%</th>\n",
       "      <td>3.000000</td>\n",
       "      <td>0.000000</td>\n",
       "      <td>2.000000</td>\n",
       "      <td>0.000000</td>\n",
       "    </tr>\n",
       "    <tr>\n",
       "      <th>50%</th>\n",
       "      <td>3.000000</td>\n",
       "      <td>0.000000</td>\n",
       "      <td>3.000000</td>\n",
       "      <td>0.000000</td>\n",
       "    </tr>\n",
       "    <tr>\n",
       "      <th>75%</th>\n",
       "      <td>3.000000</td>\n",
       "      <td>0.000000</td>\n",
       "      <td>3.000000</td>\n",
       "      <td>0.000000</td>\n",
       "    </tr>\n",
       "    <tr>\n",
       "      <th>max</th>\n",
       "      <td>9.000000</td>\n",
       "      <td>7.000000</td>\n",
       "      <td>9.000000</td>\n",
       "      <td>9.000000</td>\n",
       "    </tr>\n",
       "  </tbody>\n",
       "</table>\n",
       "</div>"
      ],
      "text/plain": [
       "              count   hate_speech  offensive_language       neither\n",
       "count  24783.000000  24783.000000        24783.000000  24783.000000\n",
       "mean       3.243473      0.280515            2.413711      0.549247\n",
       "std        0.883060      0.631851            1.399459      1.113299\n",
       "min        3.000000      0.000000            0.000000      0.000000\n",
       "25%        3.000000      0.000000            2.000000      0.000000\n",
       "50%        3.000000      0.000000            3.000000      0.000000\n",
       "75%        3.000000      0.000000            3.000000      0.000000\n",
       "max        9.000000      7.000000            9.000000      9.000000"
      ]
     },
     "execution_count": 53,
     "metadata": {},
     "output_type": "execute_result"
    }
   ],
   "source": [
    "df.describe()\n"
   ]
  },
  {
   "cell_type": "code",
   "execution_count": 54,
   "metadata": {},
   "outputs": [
    {
     "data": {
      "text/plain": [
       "Index(['count', 'hate_speech', 'offensive_language', 'neither', 'class',\n",
       "       'tweet'],\n",
       "      dtype='object')"
      ]
     },
     "execution_count": 54,
     "metadata": {},
     "output_type": "execute_result"
    }
   ],
   "source": [
    "df.columns\n"
   ]
  },
  {
   "cell_type": "markdown",
   "metadata": {},
   "source": [
    "# Kolon Yapisi\n",
    "\n",
    "count = Her tweetin kac adet CrowdFlower kullanicisi tarafindan etiketlendiginin sayisi. (Her tweet en az 3 adet kullanici tarafindan etiketlenmistir.)\n",
    "\n",
    "hate_speech = Kac CF kullanicisinin tweeti 'Nefret Soylemi' olarak etiketlediginin sayisi.\n",
    "\n",
    "offensive_language = Kac CF kullanicisinin tweeti 'Ofansif Dil' olarak etiketlediginin sayisi.\n",
    "\n",
    "neither = Kac CF kullanicisinin tweeti 'Ne Nefret Soylemi ne de Ofansif Dil' olarak etiketlediginin sayisi.\n",
    "\n",
    "# Siniflandirma Yapisi\n",
    "\n",
    "    0 - Nefret Soylemi\n",
    "    1 - Ofansif Dil\n",
    "    2 - Neither\n",
    "\n"
   ]
  },
  {
   "cell_type": "code",
   "execution_count": 55,
   "metadata": {},
   "outputs": [
    {
     "data": {
      "text/plain": [
       "<AxesSubplot:>"
      ]
     },
     "execution_count": 55,
     "metadata": {},
     "output_type": "execute_result"
    },
    {
     "data": {
      "image/png": "[encoded data removed]",
      "text/plain": [
       "<Figure size 432x288 with 1 Axes>"
      ]
     },
     "metadata": {
      "needs_background": "light"
     },
     "output_type": "display_data"
    }
   ],
   "source": [
    "df['class'].hist()"
   ]
  },
  {
   "cell_type": "code",
   "execution_count": 56,
   "metadata": {},
   "outputs": [
    {
     "name": "stdout",
     "output_type": "stream",
     "text": [
      "1430 1430 1430\n"
     ]
    },
    {
     "data": {
      "text/plain": [
       "<AxesSubplot:>"
      ]
     },
     "execution_count": 56,
     "metadata": {},
     "output_type": "execute_result"
    },
    {
     "data": {
      "image/png": "[encoded data removed]",
      "text/plain": [
       "<Figure size 432x288 with 1 Axes>"
      ]
     },
     "metadata": {
      "needs_background": "light"
     },
     "output_type": "display_data"
    }
   ],
   "source": [
    "# iterate through the dataframe check class is equal to offensive_language\n",
    "i0 = 0\n",
    "i1 = 0\n",
    "i2 = 0\n",
    "j = 1430\n",
    "for index, row in df.iterrows():\n",
    "    if row['class'] == 0:\n",
    "        if i0 == j:\n",
    "            df = df.drop(index)\n",
    "        else:\n",
    "            i0 += 1\n",
    "    elif row['class'] == 1:\n",
    "        if i1 == j:\n",
    "            df = df.drop(index)\n",
    "        else:\n",
    "            i1 += 1\n",
    "    elif row['class'] == 2:\n",
    "        if i2 == j:\n",
    "            df = df.drop(index)\n",
    "        else:\n",
    "            i2 += 1\n",
    "    \n",
    "        \n",
    "print(i0, i1, i2)\n",
    "\n",
    "df['class'].hist()\n"
   ]
  },
  {
   "cell_type": "markdown",
   "metadata": {},
   "source": [
    "# Metin Koleksiyonunun Belirlenmesi\n",
    "\n",
    "Histogram uzerinden de goruldugu gibi 'Ofansif Dil' kullanilmis tweetlerin sayisi cok daha fazla. 'Ne Ofansif Dil ne de Nefret Soylemi' barindiran tweetler ise 'Nefret Soylemi' barindiran tweetlerden daha fazla.\n",
    "\n",
    "Bu durum 'Metin Madenciligi' icin cok da olumlu bir durum degil. Ancak buradan soyle bir sonuc cikarabiliriz.\n",
    "Ancak aciklamaya baslamadan once bir adim oncesine gitmemiz gerekiyor. Yani:\n",
    "\n",
    "Verilerin Toplanmasi\n",
    "Metin Madenciligi yaparken dikkat etmemiz gereken hususlardan birisi olusturacagimiz modelin hangi alanda calisacagidir. Ornek vermek gerekirse 'TIP' dunyasinda kullanilan terimlerle 'BILISIM' dunyasinda kullanilan kelimeler yazilis olarak ayni olsa da anlam olarak farkli seyleri ifade edebilirler. Dolayisiyle toplayacagimiz verileri ilgili alandan, ilgili konudan toplamamiz gerekir.\n",
    "\n",
    "Twitter ise her insanin her konudan bahsedebildigi bir platformdur. Icerik olarak cok zengindir. Ancak filtreleme yapmak biraz zordur.\n",
    "\n",
    "Veri setini olusturan kisi bu konu su sekilde bir yol bulmus:\n",
    "\n",
    "Tweetler https://hatebase.org adresinde bulunan kelimeleri icerip icermeme durumlarina gore twitter uzerinde 'Scrape' edilmistir. \n",
    "\n",
    "---------------------------------\n",
    "\n",
    "Insan dilinin ne kadar karmasik bir yapi oldugunu sadece yukaridaki histograma bakarak da anlayabiliriz. 'Tweetler nefret soylemi/kufur barindiran tweetler arasindan seciliyor ve ona ragmen \"Ne ofansif ne nefret soylemi\" barindiran tweetler sadece nefret soylemi barindiran tweetlerden daha fazla cikiyor. 😊 🌪⛈'\n",
    "\n",
    "---------------------------------\n",
    "\n",
    "Tum bunlara ragmen cikan sonuclar bizim gibi baslangic seviyesindeki iki ogrenci icin tatmin edici durumda.\n",
    "\n"
   ]
  },
  {
   "cell_type": "code",
   "execution_count": 57,
   "metadata": {},
   "outputs": [],
   "source": [
    "tweets = df.tweet"
   ]
  },
  {
   "cell_type": "markdown",
   "metadata": {},
   "source": [
    "# Metin On Isleme"
   ]
  },
  {
   "cell_type": "code",
   "execution_count": 58,
   "metadata": {},
   "outputs": [],
   "source": [
    "# Stop wordsler belirlenir\n",
    "stopwords = nltk.corpus.stopwords.words('english')\n",
    "\n",
    "# Twitter'a ozel terimler belirlenir.\n",
    "exclusions_for_twitter = ['#ff', 'ff', 'rt']\n",
    "\n",
    "# Belirlenen terimler stopwords listesine eklenir.\n",
    "stopwords.extend(exclusions_for_twitter)\n",
    "\n",
    "stemmer = PorterStemmer()\n",
    "\n",
    "def pre_process(txt_string):\n",
    "    \"\"\"\n",
    "    RegEXP\n",
    "        - URL\n",
    "        - Strip\n",
    "        - Mentions\n",
    "\n",
    "        !hastaghler nefret soylemi barindirabileceginden dolayi hashtagler dahil edilmemistir.\n",
    "    \"\"\"\n",
    "\n",
    "    space_pattern = '\\s+'\n",
    "    url_pattern = 'http[s]?://(?:[a-zA-Z]|[0-9]|[$-_@.&+]| [!*\\(\\),]|(?:%[0-9a-fA-F][0-9a-fA-F]))+'\n",
    "    mention_pattern = '@[\\w\\-]+'\n",
    "\n",
    "    parsed_text = re.sub(space_pattern, ' ', txt_string) # birden fazla bosluk varsa bunu teke dusur\n",
    "    parsed_text = re.sub(url_pattern, '', parsed_text) # URLleri sil\n",
    "    parsed_text = re.sub(mention_pattern, '', parsed_text) # Mentionleri sil\n",
    "\n",
    "    return parsed_text\n",
    "\n",
    "def tokenize(tweet):\n",
    "    # noktalama isaretleri, bosluklar silinir, kelimeler kokune indirilir (stemming) ve tweetin tamami kucuk harfe cekilir.\n",
    "    tweet = \" \".join(re.split(\"[^a-zA-Z]*\", tweet.lower())).strip()\n",
    "    tokens = [stemmer.stem(t) for t in tweet.split()]\n",
    "    return tokens\n",
    "\n",
    "\n",
    "def basic_tokenize(tweet):\n",
    "    # Stemming yapmadan tokenlestirme dilbilgisel etiketler icin kullan\n",
    "    tweet = \" \".join(re.split(\"[^a-zA-Z.,!?]*\", tweet.lower())).strip()\n",
    "    return tweet.split()\n"
   ]
  },
  {
   "cell_type": "markdown",
   "metadata": {},
   "source": [
    "# Terim Dokuman Matrisinin Olusturulmasi"
   ]
  },
  {
   "cell_type": "code",
   "execution_count": 59,
   "metadata": {},
   "outputs": [
    {
     "name": "stderr",
     "output_type": "stream",
     "text": [
      "c:\\Users\\oguzk\\Desktop\\TM\\Python TextMining\\.venv\\lib\\site-packages\\sklearn\\feature_extraction\\text.py:396: UserWarning: Your stop_words may be inconsistent with your preprocessing. Tokenizing the stop words generated tokens ['b', 'c', 'e', 'f', 'g', 'h', 'j', 'l', 'n', 'p', 'r', 'u', 'v', 'w'] not in stop_words.\n",
      "  warnings.warn(\n"
     ]
    }
   ],
   "source": [
    "vectorizer = TfidfVectorizer(\n",
    "    tokenizer=tokenize,\n",
    "    preprocessor=pre_process,\n",
    "    ngram_range=(1, 3), # unigrams, bigrams, trigramslaolusturulur.\n",
    "    stop_words=stopwords,\n",
    "    use_idf=True,\n",
    "    smooth_idf=False,\n",
    "    norm=None,\n",
    "    decode_error='replace',\n",
    "    max_features=10000,\n",
    "    min_df=5,\n",
    "    max_df=0.75\n",
    ")\n",
    "\n",
    "# Terim dokuman matrisi\n",
    "tfidf = vectorizer.fit_transform(tweets).toarray()\n",
    "vocab = {v: i for i, v in enumerate(vectorizer.get_feature_names_out())} # featurelarla sozluk olusuturuluyor\n",
    "idf_vals = vectorizer.idf_\n",
    "\n",
    "# Terim dokuman puanlari\n",
    "# idf_dict = {i: idf_vals[i] for i in vocab.values()}\n"
   ]
  },
  {
   "cell_type": "markdown",
   "metadata": {},
   "source": [
    "# Dil Bilgisel Etiketleme"
   ]
  },
  {
   "cell_type": "code",
   "execution_count": 60,
   "metadata": {},
   "outputs": [],
   "source": [
    "tweet_tags = [] # tweetlerin dil bilgisel etiketleri \n",
    "for t in tweets:\n",
    "    tokens = basic_tokenize(pre_process(t))\n",
    "    tags = nltk.pos_tag(tokens)\n",
    "    tag_list = [x[1] for x in tags]\n",
    "    tag_str = \" \".join(tag_list)\n",
    "    tweet_tags.append(tag_str)\n",
    "\n",
    "pos_vectorizer = TfidfVectorizer(\n",
    "    tokenizer=None,\n",
    "    lowercase=False,\n",
    "    preprocessor=None,\n",
    "    ngram_range=(1, 3),\n",
    "    stop_words=None,\n",
    "    use_idf=False,\n",
    "    smooth_idf=False,\n",
    "    norm=None,\n",
    "    decode_error='replace',\n",
    "    max_features=5000,\n",
    "    min_df=5,\n",
    "    max_df=0.75,\n",
    ")\n",
    "\n",
    "pos = pos_vectorizer.fit_transform(pd.Series(tweet_tags)).toarray()\n",
    "\n",
    "pos_vocab = {v: i for i, v in enumerate(\n",
    "    pos_vectorizer.get_feature_names_out())}\n"
   ]
  },
  {
   "cell_type": "markdown",
   "metadata": {},
   "source": [
    "# Ozellik Cikarimi"
   ]
  },
  {
   "cell_type": "code",
   "execution_count": 61,
   "metadata": {},
   "outputs": [],
   "source": [
    "sentiment_analyzer = VS()\n",
    "\n",
    "\n",
    "def count_twitter_objs(text_string):\n",
    "    \"\"\"\n",
    "    Bu kisimda twittera ait ozelliklerin sayisi bulunur.\n",
    "    1) urller URLHERE\n",
    "    2) mentionlar MENTIONHERE\n",
    "    3) hashtagler HASHTAGHERE\n",
    "        ile degistirilir.\n",
    "    \n",
    "    Boylelikle tweet icersinde bu ozelliklerden kacar adet oldugu hesaplanir.\n",
    "    Hesaplanan degerler tuple olarak return edilir.\n",
    "    \"\"\"\n",
    "    space_pattern = '\\s+'\n",
    "    giant_url_regex = ('http[s]?://(?:[a-zA-Z]|[0-9]|[$-_@.&+]|'\n",
    "                       '[!*\\(\\),]|(?:%[0-9a-fA-F][0-9a-fA-F]))+')\n",
    "    mention_regex = '@[\\w\\-]+'\n",
    "    hashtag_regex = '#[\\w\\-]+'\n",
    "    parsed_text = re.sub(space_pattern, ' ', text_string)\n",
    "    parsed_text = re.sub(giant_url_regex, 'URLHERE', parsed_text)\n",
    "    parsed_text = re.sub(mention_regex, 'MENTIONHERE', parsed_text)\n",
    "    parsed_text = re.sub(hashtag_regex, 'HASHTAGHERE', parsed_text)\n",
    "    return(parsed_text.count('URLHERE'), parsed_text.count('MENTIONHERE'), parsed_text.count('HASHTAGHERE'))\n",
    "\n",
    "\n",
    "def other_features(tweet):\n",
    "    \"\"\"\n",
    "        Tweete ait ekstra ozellikleri bu kisimda Hesaplariz.\n",
    "        1) Tweet'in duygu analizi sonuclari: VADER (Valence Aware Dictionary and sEntiment Reasoner)\n",
    "            - Pos\n",
    "            - Neg\n",
    "            - Neut\n",
    "            - Compound: pozitif, negatif, ve neutrik puanlari toplaminda ortalama puan -1 ile 1 arasinda deger alir.\n",
    "        2) Kelime sayisi\n",
    "        3) Hece sayisi\n",
    "        3) Harf/Karakter sayisi\n",
    "        4) Tweetin uzunlugu\n",
    "        5) Ortalama Hece sayisi\n",
    "        6) Essiz terim sayisi\n",
    "        7) Terim sayisi\n",
    "        8) Okunabilirlik puanlari\n",
    "    \"\"\"\n",
    "    sentiment = sentiment_analyzer.polarity_scores(tweet)\n",
    "\n",
    "    words = pre_process(tweet)  # Get text only\n",
    "\n",
    "    syllables = textstat.syllable_count(words)\n",
    "    num_chars = sum(len(w) for w in words)\n",
    "    num_chars_total = len(tweet)\n",
    "    num_terms = len(tweet.split())\n",
    "    num_words = len(words.split())\n",
    "    avg_syl = round(float((syllables+0.001))/float(num_words+0.001), 4)\n",
    "    num_unique_terms = len(set(words.split()))\n",
    "\n",
    "    # Okunabilirlik puanlari\n",
    "    # https://readable.com/readability/flesch-reading-ease-flesch-kincaid-grade-level/\n",
    "    # FKRA: Okuma Seviyesi\n",
    "    # FRE: Kolaylik Seviyesi\n",
    "    FKRA = round(float(0.39 * float(num_words)/1.0) +\n",
    "                 float(11.8 * avg_syl) - 15.59, 1)\n",
    "    FRE = round(206.835 - 1.015*(float(num_words)/1.0) -\n",
    "                (84.6*float(avg_syl)), 2)\n",
    "\n",
    "\n",
    "    twitter_objs = count_twitter_objs(tweet)\n",
    "    retweet = 0\n",
    "    if \"rt\" in words:\n",
    "        retweet = 1\n",
    "\n",
    "    features = [FKRA, FRE, syllables, avg_syl, num_chars, num_chars_total, num_terms, num_words,\n",
    "                num_unique_terms, sentiment['neg'], sentiment['pos'], sentiment['neu'], sentiment['compound'],\n",
    "                twitter_objs[2], twitter_objs[1],\n",
    "                twitter_objs[0], retweet]\n",
    "                \n",
    "    return features\n",
    "\n",
    "# tweetlere ait ozellikleri cikaririz/hesaplariz.\n",
    "def get_feature_array(tweets):\n",
    "    feats = []\n",
    "    for t in tweets:\n",
    "        feats.append(other_features(t))\n",
    "    return np.array(feats)\n",
    "\n",
    "# olusturdugumuz ozelliklerin isimleri\n",
    "other_features_names = [\"FKRA\", \"FRE\", \"num_syllables\", \"avg_syl_per_word\", \"num_chars\", \"num_chars_total\",\n",
    "                        \"num_terms\", \"num_words\", \"num_unique_words\", \"vader neg\", \"vader pos\", \"vader neu\",\n",
    "                        \"vader compound\", \"num_hashtags\", \"num_mentions\", \"num_urls\", \"is_retweet\"]\n",
    "\n",
    "# elde edilen tum featurelar\n",
    "feats = get_feature_array(tweets)\n",
    "\n",
    "\n",
    "M = np.concatenate([tfidf, pos, feats], axis=1)\n"
   ]
  },
  {
   "cell_type": "code",
   "execution_count": 62,
   "metadata": {},
   "outputs": [
    {
     "data": {
      "text/plain": [
       "(4290, 2732)"
      ]
     },
     "execution_count": 62,
     "metadata": {},
     "output_type": "execute_result"
    }
   ],
   "source": [
    "M.shape\n"
   ]
  },
  {
   "cell_type": "code",
   "execution_count": 63,
   "metadata": {},
   "outputs": [],
   "source": [
    "# Tum ozellik isimlerinin bir listesini olusturuyoruz.\n",
    "variables = ['']*len(vocab)\n",
    "for k, v in vocab.items():\n",
    "    variables[v] = k\n",
    "\n",
    "pos_variables = ['']*len(pos_vocab)\n",
    "for k, v in pos_vocab.items():\n",
    "    pos_variables[v] = k\n",
    "\n",
    "feature_names = variables+pos_variables+other_features_names\n"
   ]
  },
  {
   "cell_type": "markdown",
   "metadata": {},
   "source": [
    "# Modelin Calisitirilmasi"
   ]
  },
  {
   "cell_type": "code",
   "execution_count": 64,
   "metadata": {},
   "outputs": [],
   "source": [
    "X = pd.DataFrame(M)\n",
    "y = df['class'].astype(int)\n",
    "X_train, X_test, y_train, y_test = train_test_split(\n",
    "    X, y, test_size=0.33, random_state=42)\n"
   ]
  },
  {
   "cell_type": "code",
   "execution_count": 65,
   "metadata": {},
   "outputs": [],
   "source": [
    "# Bu kisimda feature onemlerini Logistic Regression ile hesapliyoruz.\n",
    "# l1: katsayıların büyüklüğünün mutlak değerine eşit\n",
    "# select = SelectFromModel(LogisticRegression(\n",
    "#     class_weight='balanced', penalty=\"l1\", C=0.01, solver='liblinear'))\n",
    "# X_ = select.fit_transform(X, y)\n"
   ]
  },
  {
   "cell_type": "markdown",
   "metadata": {},
   "source": [
    "# Linear SVC (Support Vector Classifier)"
   ]
  },
  {
   "cell_type": "code",
   "execution_count": 66,
   "metadata": {},
   "outputs": [
    {
     "name": "stderr",
     "output_type": "stream",
     "text": [
      "c:\\Users\\oguzk\\Desktop\\TM\\Python TextMining\\.venv\\lib\\site-packages\\sklearn\\svm\\_base.py:1206: ConvergenceWarning: Liblinear failed to converge, increase the number of iterations.\n",
      "  warnings.warn(\n"
     ]
    }
   ],
   "source": [
    "# l2: katsayıların büyüklüğünün karesine eşit\n",
    "model = LinearSVC(class_weight='balanced', C=0.01, penalty='l2', max_iter=3000).fit(X_train, y_train)\n"
   ]
  },
  {
   "cell_type": "code",
   "execution_count": 67,
   "metadata": {},
   "outputs": [],
   "source": [
    "y_preds = model.predict(X_test)\n"
   ]
  },
  {
   "cell_type": "code",
   "execution_count": 68,
   "metadata": {},
   "outputs": [
    {
     "name": "stdout",
     "output_type": "stream",
     "text": [
      "              precision    recall  f1-score   support\n",
      "\n",
      "           0       0.66      0.64      0.65       453\n",
      "           1       0.71      0.73      0.72       491\n",
      "           2       0.74      0.74      0.74       472\n",
      "\n",
      "    accuracy                           0.70      1416\n",
      "   macro avg       0.70      0.70      0.70      1416\n",
      "weighted avg       0.70      0.70      0.70      1416\n",
      "\n"
     ]
    }
   ],
   "source": [
    "report = classification_report(y_test, y_preds)\n",
    "print(report)\n"
   ]
  },
  {
   "cell_type": "code",
   "execution_count": 69,
   "metadata": {},
   "outputs": [
    {
     "data": {
      "image/png": "[encoded data removed]",
      "text/plain": [
       "<Figure size 360x360 with 1 Axes>"
      ]
     },
     "metadata": {
      "needs_background": "light"
     },
     "output_type": "display_data"
    }
   ],
   "source": [
    "from sklearn.metrics import confusion_matrix\n",
    "confusion_matrix = confusion_matrix(y_test, y_preds)\n",
    "matrix_proportions = np.zeros((3, 3))\n",
    "for i in range(0, 3):\n",
    "    matrix_proportions[i, :] = confusion_matrix[i, :] / \\\n",
    "        float(confusion_matrix[i, :].sum())\n",
    "# NeNo(Neutral): Ne Nefret Ne Ofansif\n",
    "names = ['Nefret', 'Ofansif', 'NeNo']\n",
    "confusion_df = pd.DataFrame(matrix_proportions, index=names, columns=names)\n",
    "plt.figure(figsize=(5, 5))\n",
    "seaborn.heatmap(confusion_df, annot=True, annot_kws={\n",
    "                \"size\": 12}, cmap='gist_gray_r', cbar=False, square=True, fmt='.2f')\n",
    "plt.ylabel(r'Dogru Kategoriler', fontsize=14)\n",
    "plt.xlabel(r'Tahmin Edilen Kategoriler', fontsize=14)\n",
    "plt.tick_params(labelsize=12)\n"
   ]
  },
  {
   "cell_type": "markdown",
   "metadata": {},
   "source": [
    "# Logistic Regression"
   ]
  },
  {
   "cell_type": "code",
   "execution_count": 70,
   "metadata": {},
   "outputs": [],
   "source": [
    "model = LogisticRegression(class_weight='balanced',\n",
    "                           penalty='l2', C=0.01, max_iter=3000).fit(X_train, y_train)\n"
   ]
  },
  {
   "cell_type": "code",
   "execution_count": 71,
   "metadata": {},
   "outputs": [],
   "source": [
    "y_preds = model.predict(X_test)\n"
   ]
  },
  {
   "cell_type": "code",
   "execution_count": 72,
   "metadata": {},
   "outputs": [
    {
     "name": "stdout",
     "output_type": "stream",
     "text": [
      "              precision    recall  f1-score   support\n",
      "\n",
      "           0       0.70      0.66      0.68       453\n",
      "           1       0.77      0.77      0.77       491\n",
      "           2       0.77      0.80      0.78       472\n",
      "\n",
      "    accuracy                           0.75      1416\n",
      "   macro avg       0.74      0.74      0.74      1416\n",
      "weighted avg       0.74      0.75      0.74      1416\n",
      "\n"
     ]
    }
   ],
   "source": [
    "report = classification_report(y_test, y_preds)\n",
    "print(report)\n"
   ]
  },
  {
   "cell_type": "code",
   "execution_count": 73,
   "metadata": {},
   "outputs": [
    {
     "data": {
      "image/png": "[encoded data removed]",
      "text/plain": [
       "<Figure size 360x360 with 1 Axes>"
      ]
     },
     "metadata": {
      "needs_background": "light"
     },
     "output_type": "display_data"
    }
   ],
   "source": [
    "from sklearn.metrics import confusion_matrix\n",
    "confusion_matrix = confusion_matrix(y_test, y_preds)\n",
    "matrix_proportions = np.zeros((3, 3))\n",
    "for i in range(0, 3):\n",
    "    matrix_proportions[i, :] = confusion_matrix[i, :] / \\\n",
    "        float(confusion_matrix[i, :].sum())\n",
    "# NeNo(Neutral): Ne Nefret Ne Ofansif\n",
    "names = ['Nefret', 'Ofansif', 'NeNo']\n",
    "confusion_df = pd.DataFrame(matrix_proportions, index=names, columns=names)\n",
    "plt.figure(figsize=(5, 5))\n",
    "seaborn.heatmap(confusion_df, annot=True, annot_kws={\n",
    "                \"size\": 12}, cmap='gist_gray_r', cbar=False, square=True, fmt='.2f')\n",
    "plt.ylabel(r'Dogru Kategoriler', fontsize=14)\n",
    "plt.xlabel(r'Tahmin Edilen Kategoriler', fontsize=14)\n",
    "plt.tick_params(labelsize=12)\n"
   ]
  },
  {
   "cell_type": "markdown",
   "metadata": {},
   "source": [
    "# Naive Bayes"
   ]
  },
  {
   "cell_type": "code",
   "execution_count": 74,
   "metadata": {},
   "outputs": [],
   "source": [
    "# import naive bayes\n",
    "from sklearn.naive_bayes import BernoulliNB"
   ]
  },
  {
   "cell_type": "code",
   "execution_count": 75,
   "metadata": {},
   "outputs": [
    {
     "name": "stdout",
     "output_type": "stream",
     "text": [
      "              precision    recall  f1-score   support\n",
      "\n",
      "           0       0.61      0.61      0.61       453\n",
      "           1       0.70      0.69      0.69       491\n",
      "           2       0.69      0.70      0.70       472\n",
      "\n",
      "    accuracy                           0.67      1416\n",
      "   macro avg       0.67      0.67      0.67      1416\n",
      "weighted avg       0.67      0.67      0.67      1416\n",
      "\n"
     ]
    }
   ],
   "source": [
    "model = BernoulliNB().fit(X_train, y_train)\n",
    "y_preds = model.predict(X_test)\n",
    "report = classification_report(y_test, y_preds)\n",
    "print(report)\n"
   ]
  },
  {
   "cell_type": "code",
   "execution_count": 76,
   "metadata": {},
   "outputs": [
    {
     "data": {
      "image/png": "[encoded data removed]",
      "text/plain": [
       "<Figure size 360x360 with 1 Axes>"
      ]
     },
     "metadata": {
      "needs_background": "light"
     },
     "output_type": "display_data"
    }
   ],
   "source": [
    "from sklearn.metrics import confusion_matrix\n",
    "confusion_matrix = confusion_matrix(y_test, y_preds)\n",
    "matrix_proportions = np.zeros((3, 3))\n",
    "for i in range(0, 3):\n",
    "    matrix_proportions[i, :] = confusion_matrix[i, :] / \\\n",
    "        float(confusion_matrix[i, :].sum())\n",
    "# NeNo(Neutral): Ne Nefret Ne Ofansif\n",
    "names = ['Nefret', 'Ofansif', 'NeNo']\n",
    "confusion_df = pd.DataFrame(matrix_proportions, index=names, columns=names)\n",
    "plt.figure(figsize=(5, 5))\n",
    "seaborn.heatmap(confusion_df, annot=True, annot_kws={\n",
    "                \"size\": 12}, cmap='gist_gray_r', cbar=False, square=True, fmt='.2f')\n",
    "plt.ylabel(r'Dogru Kategoriler', fontsize=14)\n",
    "plt.xlabel(r'Tahmin Edilen Kategoriler', fontsize=14)\n",
    "plt.tick_params(labelsize=12)\n"
   ]
  },
  {
   "cell_type": "markdown",
   "metadata": {},
   "source": [
    "# Ensemble Learning / Random Forest"
   ]
  },
  {
   "cell_type": "code",
   "execution_count": 77,
   "metadata": {},
   "outputs": [],
   "source": [
    "# ENSEMBLE LEARNING\n",
    "# import ensemble learning\n",
    "from sklearn.ensemble import RandomForestClassifier"
   ]
  },
  {
   "cell_type": "code",
   "execution_count": 78,
   "metadata": {},
   "outputs": [
    {
     "name": "stdout",
     "output_type": "stream",
     "text": [
      "              precision    recall  f1-score   support\n",
      "\n",
      "           0       0.70      0.65      0.67       453\n",
      "           1       0.81      0.73      0.76       491\n",
      "           2       0.71      0.83      0.77       472\n",
      "\n",
      "    accuracy                           0.74      1416\n",
      "   macro avg       0.74      0.74      0.74      1416\n",
      "weighted avg       0.74      0.74      0.74      1416\n",
      "\n"
     ]
    }
   ],
   "source": [
    "model = RandomForestClassifier().fit(X_train, y_train)\n",
    "y_preds = model.predict(X_test)\n",
    "report = classification_report(y_test, y_preds)\n",
    "print(report)\n"
   ]
  },
  {
   "cell_type": "code",
   "execution_count": 79,
   "metadata": {},
   "outputs": [
    {
     "data": {
      "image/png": "[encoded data removed]",
      "text/plain": [
       "<Figure size 360x360 with 1 Axes>"
      ]
     },
     "metadata": {
      "needs_background": "light"
     },
     "output_type": "display_data"
    }
   ],
   "source": [
    "from sklearn.metrics import confusion_matrix\n",
    "confusion_matrix = confusion_matrix(y_test, y_preds)\n",
    "matrix_proportions = np.zeros((3, 3))\n",
    "for i in range(0, 3):\n",
    "    matrix_proportions[i, :] = confusion_matrix[i, :] / \\\n",
    "        float(confusion_matrix[i, :].sum())\n",
    "# NeNo(Neutral): Ne Nefret Ne Ofansif\n",
    "names = ['Nefret', 'Ofansif', 'NeNo']\n",
    "confusion_df = pd.DataFrame(matrix_proportions, index=names, columns=names)\n",
    "plt.figure(figsize=(5, 5))\n",
    "seaborn.heatmap(confusion_df, annot=True, annot_kws={\n",
    "                \"size\": 12}, cmap='gist_gray_r', cbar=False, square=True, fmt='.2f')\n",
    "plt.ylabel(r'Dogru Kategoriler', fontsize=14)\n",
    "plt.xlabel(r'Tahmin Edilen Kategoriler', fontsize=14)\n",
    "plt.tick_params(labelsize=12)\n"
   ]
  },
  {
   "cell_type": "markdown",
   "metadata": {},
   "source": [
    "# Degerlendirme ve Yorumlama\n",
    "\n",
    "Veri siniflari arasindaki farki birbirine yaklastirdiktan sonra butun modellerde performans dustu.\n",
    "Bunun sebebi veri setinde verilerin kesin bir cizgiyle ayrisamamasidir."
   ]
  }
 ],
 "metadata": {
  "interpreter": {
   "hash": "483e60560aff6340159f8d693b80c36af731560b41aec0164ee70b63c767eb67"
  },
  "kernelspec": {
   "display_name": "Python 3.9.6 ('.venv': venv)",
   "language": "python",
   "name": "python3"
  },
  "language_info": {
   "codemirror_mode": {
    "name": "ipython",
    "version": 3
   },
   "file_extension": ".py",
   "mimetype": "text/x-python",
   "name": "python",
   "nbconvert_exporter": "python",
   "pygments_lexer": "ipython3",
   "version": "3.9.6"
  },
  "orig_nbformat": 4
 },
 "nbformat": 4,
 "nbformat_minor": 2
}
