{
 "cells": [
  {
   "cell_type": "markdown",
   "metadata": {
    "deletable": true,
    "editable": true
   },
   "source": [
    "# Replication for results in Davidson et al. 2017. \"Automated Hate Speech Detection and the Problem of Offensive Language\""
   ]
  },
  {
   "cell_type": "code",
   "execution_count": 10,
   "metadata": {
    "collapsed": false,
    "deletable": true,
    "editable": true
   },
   "outputs": [],
   "source": [
    "import pandas as pd\n",
    "import numpy as np\n",
    "import pickle\n",
    "import sys\n",
    "from sklearn.feature_extraction.text import TfidfVectorizer\n",
    "import nltk\n",
    "from nltk.stem.porter import *\n",
    "import string\n",
    "import re\n",
    "from vaderSentiment.vaderSentiment import SentimentIntensityAnalyzer as VS\n",
    "from textstat.textstat import *\n",
    "from sklearn.linear_model import LogisticRegression\n",
    "from sklearn.feature_selection import SelectFromModel\n",
    "from sklearn.metrics import classification_report\n",
    "from sklearn.svm import LinearSVC\n",
    "import matplotlib.pyplot as plt\n",
    "import seaborn\n",
    "%matplotlib inline"
   ]
  },
  {
   "cell_type": "markdown",
   "metadata": {
    "deletable": true,
    "editable": true
   },
   "source": [
    "## Loading the data"
   ]
  },
  {
   "cell_type": "code",
   "execution_count": 11,
   "metadata": {
    "collapsed": false,
    "deletable": true,
    "editable": true
   },
   "outputs": [],
   "source": [
    "# df = pickle.load(open(\"../data/labeled_data.p\",'rb'))\n",
    "# import pickle\n",
    "# with open(\"../data/labeled_data.p\", 'rb') as fo:\n",
    "#     df = pickle.load(fo, encoding='utf8')\n",
    "\n",
    "df = pd.read_pickle(open(\"../data/labeled_data.p\", 'rb'))\n"
   ]
  },
  {
   "cell_type": "code",
   "execution_count": 12,
   "metadata": {
    "collapsed": false,
    "deletable": true,
    "editable": true
   },
   "outputs": [
    {
     "data": {
      "text/html": [
       "<div>\n",
       "<style scoped>\n",
       "    .dataframe tbody tr th:only-of-type {\n",
       "        vertical-align: middle;\n",
       "    }\n",
       "\n",
       "    .dataframe tbody tr th {\n",
       "        vertical-align: top;\n",
       "    }\n",
       "\n",
       "    .dataframe thead th {\n",
       "        text-align: right;\n",
       "    }\n",
       "</style>\n",
       "<table border=\"1\" class=\"dataframe\">\n",
       "  <thead>\n",
       "    <tr style=\"text-align: right;\">\n",
       "      <th></th>\n",
       "      <th>count</th>\n",
       "      <th>hate_speech</th>\n",
       "      <th>offensive_language</th>\n",
       "      <th>neither</th>\n",
       "      <th>class</th>\n",
       "      <th>tweet</th>\n",
       "    </tr>\n",
       "  </thead>\n",
       "  <tbody>\n",
       "    <tr>\n",
       "      <th>0</th>\n",
       "      <td>3</td>\n",
       "      <td>0</td>\n",
       "      <td>0</td>\n",
       "      <td>3</td>\n",
       "      <td>2</td>\n",
       "      <td>!!! RT @mayasolovely: As a woman you shouldn't...</td>\n",
       "    </tr>\n",
       "    <tr>\n",
       "      <th>1</th>\n",
       "      <td>3</td>\n",
       "      <td>0</td>\n",
       "      <td>3</td>\n",
       "      <td>0</td>\n",
       "      <td>1</td>\n",
       "      <td>!!!!! RT @mleew17: boy dats cold...tyga dwn ba...</td>\n",
       "    </tr>\n",
       "    <tr>\n",
       "      <th>2</th>\n",
       "      <td>3</td>\n",
       "      <td>0</td>\n",
       "      <td>3</td>\n",
       "      <td>0</td>\n",
       "      <td>1</td>\n",
       "      <td>!!!!!!! RT @UrKindOfBrand Dawg!!!! RT @80sbaby...</td>\n",
       "    </tr>\n",
       "    <tr>\n",
       "      <th>3</th>\n",
       "      <td>3</td>\n",
       "      <td>0</td>\n",
       "      <td>2</td>\n",
       "      <td>1</td>\n",
       "      <td>1</td>\n",
       "      <td>!!!!!!!!! RT @C_G_Anderson: @viva_based she lo...</td>\n",
       "    </tr>\n",
       "    <tr>\n",
       "      <th>4</th>\n",
       "      <td>6</td>\n",
       "      <td>0</td>\n",
       "      <td>6</td>\n",
       "      <td>0</td>\n",
       "      <td>1</td>\n",
       "      <td>!!!!!!!!!!!!! RT @ShenikaRoberts: The shit you...</td>\n",
       "    </tr>\n",
       "    <tr>\n",
       "      <th>...</th>\n",
       "      <td>...</td>\n",
       "      <td>...</td>\n",
       "      <td>...</td>\n",
       "      <td>...</td>\n",
       "      <td>...</td>\n",
       "      <td>...</td>\n",
       "    </tr>\n",
       "    <tr>\n",
       "      <th>25291</th>\n",
       "      <td>3</td>\n",
       "      <td>0</td>\n",
       "      <td>2</td>\n",
       "      <td>1</td>\n",
       "      <td>1</td>\n",
       "      <td>you's a muthaf***in lie &amp;#8220;@LifeAsKing: @2...</td>\n",
       "    </tr>\n",
       "    <tr>\n",
       "      <th>25292</th>\n",
       "      <td>3</td>\n",
       "      <td>0</td>\n",
       "      <td>1</td>\n",
       "      <td>2</td>\n",
       "      <td>2</td>\n",
       "      <td>you've gone and broke the wrong heart baby, an...</td>\n",
       "    </tr>\n",
       "    <tr>\n",
       "      <th>25294</th>\n",
       "      <td>3</td>\n",
       "      <td>0</td>\n",
       "      <td>3</td>\n",
       "      <td>0</td>\n",
       "      <td>1</td>\n",
       "      <td>young buck wanna eat!!.. dat nigguh like I ain...</td>\n",
       "    </tr>\n",
       "    <tr>\n",
       "      <th>25295</th>\n",
       "      <td>6</td>\n",
       "      <td>0</td>\n",
       "      <td>6</td>\n",
       "      <td>0</td>\n",
       "      <td>1</td>\n",
       "      <td>youu got wild bitches tellin you lies</td>\n",
       "    </tr>\n",
       "    <tr>\n",
       "      <th>25296</th>\n",
       "      <td>3</td>\n",
       "      <td>0</td>\n",
       "      <td>0</td>\n",
       "      <td>3</td>\n",
       "      <td>2</td>\n",
       "      <td>~~Ruffled | Ntac Eileen Dahlia - Beautiful col...</td>\n",
       "    </tr>\n",
       "  </tbody>\n",
       "</table>\n",
       "<p>24783 rows × 6 columns</p>\n",
       "</div>"
      ],
      "text/plain": [
       "       count  hate_speech  offensive_language  neither class  \\\n",
       "0          3            0                   0        3     2   \n",
       "1          3            0                   3        0     1   \n",
       "2          3            0                   3        0     1   \n",
       "3          3            0                   2        1     1   \n",
       "4          6            0                   6        0     1   \n",
       "...      ...          ...                 ...      ...   ...   \n",
       "25291      3            0                   2        1     1   \n",
       "25292      3            0                   1        2     2   \n",
       "25294      3            0                   3        0     1   \n",
       "25295      6            0                   6        0     1   \n",
       "25296      3            0                   0        3     2   \n",
       "\n",
       "                                                   tweet  \n",
       "0      !!! RT @mayasolovely: As a woman you shouldn't...  \n",
       "1      !!!!! RT @mleew17: boy dats cold...tyga dwn ba...  \n",
       "2      !!!!!!! RT @UrKindOfBrand Dawg!!!! RT @80sbaby...  \n",
       "3      !!!!!!!!! RT @C_G_Anderson: @viva_based she lo...  \n",
       "4      !!!!!!!!!!!!! RT @ShenikaRoberts: The shit you...  \n",
       "...                                                  ...  \n",
       "25291  you's a muthaf***in lie &#8220;@LifeAsKing: @2...  \n",
       "25292  you've gone and broke the wrong heart baby, an...  \n",
       "25294  young buck wanna eat!!.. dat nigguh like I ain...  \n",
       "25295              youu got wild bitches tellin you lies  \n",
       "25296  ~~Ruffled | Ntac Eileen Dahlia - Beautiful col...  \n",
       "\n",
       "[24783 rows x 6 columns]"
      ]
     },
     "execution_count": 12,
     "metadata": {},
     "output_type": "execute_result"
    }
   ],
   "source": [
    "df"
   ]
  },
  {
   "cell_type": "code",
   "execution_count": 13,
   "metadata": {
    "collapsed": false,
    "deletable": true,
    "editable": true
   },
   "outputs": [
    {
     "data": {
      "text/html": [
       "<div>\n",
       "<style scoped>\n",
       "    .dataframe tbody tr th:only-of-type {\n",
       "        vertical-align: middle;\n",
       "    }\n",
       "\n",
       "    .dataframe tbody tr th {\n",
       "        vertical-align: top;\n",
       "    }\n",
       "\n",
       "    .dataframe thead th {\n",
       "        text-align: right;\n",
       "    }\n",
       "</style>\n",
       "<table border=\"1\" class=\"dataframe\">\n",
       "  <thead>\n",
       "    <tr style=\"text-align: right;\">\n",
       "      <th></th>\n",
       "      <th>count</th>\n",
       "      <th>hate_speech</th>\n",
       "      <th>offensive_language</th>\n",
       "      <th>neither</th>\n",
       "    </tr>\n",
       "  </thead>\n",
       "  <tbody>\n",
       "    <tr>\n",
       "      <th>count</th>\n",
       "      <td>24783.000000</td>\n",
       "      <td>24783.000000</td>\n",
       "      <td>24783.000000</td>\n",
       "      <td>24783.000000</td>\n",
       "    </tr>\n",
       "    <tr>\n",
       "      <th>mean</th>\n",
       "      <td>3.243473</td>\n",
       "      <td>0.280515</td>\n",
       "      <td>2.413711</td>\n",
       "      <td>0.549247</td>\n",
       "    </tr>\n",
       "    <tr>\n",
       "      <th>std</th>\n",
       "      <td>0.883060</td>\n",
       "      <td>0.631851</td>\n",
       "      <td>1.399459</td>\n",
       "      <td>1.113299</td>\n",
       "    </tr>\n",
       "    <tr>\n",
       "      <th>min</th>\n",
       "      <td>3.000000</td>\n",
       "      <td>0.000000</td>\n",
       "      <td>0.000000</td>\n",
       "      <td>0.000000</td>\n",
       "    </tr>\n",
       "    <tr>\n",
       "      <th>25%</th>\n",
       "      <td>3.000000</td>\n",
       "      <td>0.000000</td>\n",
       "      <td>2.000000</td>\n",
       "      <td>0.000000</td>\n",
       "    </tr>\n",
       "    <tr>\n",
       "      <th>50%</th>\n",
       "      <td>3.000000</td>\n",
       "      <td>0.000000</td>\n",
       "      <td>3.000000</td>\n",
       "      <td>0.000000</td>\n",
       "    </tr>\n",
       "    <tr>\n",
       "      <th>75%</th>\n",
       "      <td>3.000000</td>\n",
       "      <td>0.000000</td>\n",
       "      <td>3.000000</td>\n",
       "      <td>0.000000</td>\n",
       "    </tr>\n",
       "    <tr>\n",
       "      <th>max</th>\n",
       "      <td>9.000000</td>\n",
       "      <td>7.000000</td>\n",
       "      <td>9.000000</td>\n",
       "      <td>9.000000</td>\n",
       "    </tr>\n",
       "  </tbody>\n",
       "</table>\n",
       "</div>"
      ],
      "text/plain": [
       "              count   hate_speech  offensive_language       neither\n",
       "count  24783.000000  24783.000000        24783.000000  24783.000000\n",
       "mean       3.243473      0.280515            2.413711      0.549247\n",
       "std        0.883060      0.631851            1.399459      1.113299\n",
       "min        3.000000      0.000000            0.000000      0.000000\n",
       "25%        3.000000      0.000000            2.000000      0.000000\n",
       "50%        3.000000      0.000000            3.000000      0.000000\n",
       "75%        3.000000      0.000000            3.000000      0.000000\n",
       "max        9.000000      7.000000            9.000000      9.000000"
      ]
     },
     "execution_count": 13,
     "metadata": {},
     "output_type": "execute_result"
    }
   ],
   "source": [
    "df.describe()"
   ]
  },
  {
   "cell_type": "code",
   "execution_count": 14,
   "metadata": {
    "collapsed": false,
    "deletable": true,
    "editable": true
   },
   "outputs": [
    {
     "data": {
      "text/plain": [
       "Index(['count', 'hate_speech', 'offensive_language', 'neither', 'class',\n",
       "       'tweet'],\n",
       "      dtype='object')"
      ]
     },
     "execution_count": 14,
     "metadata": {},
     "output_type": "execute_result"
    }
   ],
   "source": [
    "df.columns"
   ]
  },
  {
   "cell_type": "markdown",
   "metadata": {
    "deletable": true,
    "editable": true
   },
   "source": [
    "### Columns key:\n",
    "count = number of CrowdFlower users who coded each tweet (min is 3, sometimes more users coded a tweet when judgments were determined to be unreliable by CF).\n",
    "\n",
    "\n",
    "hate_speech = number of CF users who judged the tweet to be hate speech.\n",
    "\n",
    "\n",
    "offensive_language = number of CF users who judged the tweet to be offensive.\n",
    "\n",
    "\n",
    "neither = number of CF users who judged the tweet to be neither offensive nor non-offensive.\n",
    "\n",
    "\n",
    "class = class label for majority of CF users.\n",
    "\n",
    "    0 - hate speech\n",
    "    1 - offensive  language\n",
    "    2 - neither\n",
    "\n",
    "tweet = raw tweet text\n"
   ]
  },
  {
   "cell_type": "code",
   "execution_count": 15,
   "metadata": {
    "collapsed": false,
    "deletable": true,
    "editable": true
   },
   "outputs": [
    {
     "data": {
      "text/plain": [
       "<AxesSubplot:>"
      ]
     },
     "execution_count": 15,
     "metadata": {},
     "output_type": "execute_result"
    },
    {
     "data": {
      "image/png": "[encoded data removed]",
      "text/plain": [
       "<Figure size 432x288 with 1 Axes>"
      ]
     },
     "metadata": {
      "needs_background": "light"
     },
     "output_type": "display_data"
    }
   ],
   "source": [
    "df['class'].hist()"
   ]
  },
  {
   "cell_type": "markdown",
   "metadata": {
    "deletable": true,
    "editable": true
   },
   "source": [
    "This histogram shows the imbalanced nature of the task - most tweets containing \"hate\" words as defined by Hatebase were \n",
    "only considered to be offensive by the CF coders. More tweets were considered to be neither hate speech nor offensive language than were considered hate speech."
   ]
  },
  {
   "cell_type": "code",
   "execution_count": 16,
   "metadata": {
    "collapsed": false,
    "deletable": true,
    "editable": true
   },
   "outputs": [],
   "source": [
    "tweets=df.tweet"
   ]
  },
  {
   "cell_type": "markdown",
   "metadata": {
    "deletable": true,
    "editable": true
   },
   "source": [
    "## Feature generation"
   ]
  },
  {
   "cell_type": "code",
   "execution_count": 17,
   "metadata": {
    "collapsed": false,
    "deletable": true,
    "editable": true
   },
   "outputs": [],
   "source": [
    "stopwords=stopwords = nltk.corpus.stopwords.words(\"english\")\n",
    "\n",
    "other_exclusions = [\"#ff\", \"ff\", \"rt\"]\n",
    "stopwords.extend(other_exclusions)\n",
    "\n",
    "stemmer = PorterStemmer()\n",
    "\n",
    "\n",
    "def preprocess(text_string):\n",
    "    \"\"\"\n",
    "    Accepts a text string and replaces:\n",
    "    1) urls with URLHERE\n",
    "    2) lots of whitespace with one instance\n",
    "    3) mentions with MENTIONHERE\n",
    "\n",
    "    This allows us to get standardized counts of urls and mentions\n",
    "    Without caring about specific people mentioned\n",
    "    \"\"\"\n",
    "    space_pattern = '\\s+'\n",
    "    giant_url_regex = ('http[s]?://(?:[a-zA-Z]|[0-9]|[$-_@.&+]|'\n",
    "        '[!*\\(\\),]|(?:%[0-9a-fA-F][0-9a-fA-F]))+')\n",
    "    mention_regex = '@[\\w\\-]+'\n",
    "    parsed_text = re.sub(space_pattern, ' ', text_string)\n",
    "    parsed_text = re.sub(giant_url_regex, '', parsed_text)\n",
    "    parsed_text = re.sub(mention_regex, '', parsed_text)\n",
    "    return parsed_text\n",
    "\n",
    "def tokenize(tweet):\n",
    "    \"\"\"Removes punctuation & excess whitespace, sets to lowercase,\n",
    "    and stems tweets. Returns a list of stemmed tokens.\"\"\"\n",
    "    tweet = \" \".join(re.split(\"[^a-zA-Z]*\", tweet.lower())).strip()\n",
    "    tokens = [stemmer.stem(t) for t in tweet.split()]\n",
    "    return tokens\n",
    "\n",
    "def basic_tokenize(tweet):\n",
    "    \"\"\"Same as tokenize but without the stemming\"\"\"\n",
    "    tweet = \" \".join(re.split(\"[^a-zA-Z.,!?]*\", tweet.lower())).strip()\n",
    "    return tweet.split()\n",
    "\n",
    "vectorizer = TfidfVectorizer(\n",
    "    tokenizer=tokenize,\n",
    "    preprocessor=preprocess,\n",
    "    ngram_range=(1, 3),\n",
    "    stop_words=stopwords,\n",
    "    use_idf=True,\n",
    "    smooth_idf=False,\n",
    "    norm=None,\n",
    "    decode_error='replace',\n",
    "    max_features=10000,\n",
    "    min_df=5,\n",
    "    max_df=0.75\n",
    "    )"
   ]
  },
  {
   "cell_type": "code",
   "execution_count": 18,
   "metadata": {
    "collapsed": false,
    "deletable": true,
    "editable": true
   },
   "outputs": [
    {
     "name": "stderr",
     "output_type": "stream",
     "text": [
      "c:\\Users\\oguzk\\Desktop\\Python TextMining\\.venv\\lib\\site-packages\\sklearn\\feature_extraction\\text.py:396: UserWarning: Your stop_words may be inconsistent with your preprocessing. Tokenizing the stop words generated tokens ['b', 'c', 'e', 'f', 'g', 'h', 'j', 'l', 'n', 'p', 'r', 'u', 'v', 'w'] not in stop_words.\n",
      "  warnings.warn(\n",
      "c:\\Users\\oguzk\\Desktop\\Python TextMining\\.venv\\lib\\site-packages\\sklearn\\utils\\deprecation.py:87: FutureWarning: Function get_feature_names is deprecated; get_feature_names is deprecated in 1.0 and will be removed in 1.2. Please use get_feature_names_out instead.\n",
      "  warnings.warn(msg, category=FutureWarning)\n"
     ]
    }
   ],
   "source": [
    "#Construct tfidf matrix and get relevant scores\n",
    "tfidf = vectorizer.fit_transform(tweets).toarray()\n",
    "vocab = {v:i for i, v in enumerate(vectorizer.get_feature_names())}\n",
    "idf_vals = vectorizer.idf_\n",
    "idf_dict = {i:idf_vals[i] for i in vocab.values()} #keys are indices; values are IDF scores"
   ]
  },
  {
   "cell_type": "code",
   "execution_count": 19,
   "metadata": {
    "collapsed": false,
    "deletable": true,
    "editable": true
   },
   "outputs": [],
   "source": [
    "#Get POS tags for tweets and save as a string\n",
    "tweet_tags = []\n",
    "for t in tweets:\n",
    "    tokens = basic_tokenize(preprocess(t))\n",
    "    tags = nltk.pos_tag(tokens)\n",
    "    tag_list = [x[1] for x in tags]\n",
    "    tag_str = \" \".join(tag_list)\n",
    "    tweet_tags.append(tag_str)"
   ]
  },
  {
   "cell_type": "code",
   "execution_count": 20,
   "metadata": {
    "collapsed": true,
    "deletable": true,
    "editable": true
   },
   "outputs": [],
   "source": [
    "#We can use the TFIDF vectorizer to get a token matrix for the POS tags\n",
    "pos_vectorizer = TfidfVectorizer(\n",
    "    tokenizer=None,\n",
    "    lowercase=False,\n",
    "    preprocessor=None,\n",
    "    ngram_range=(1, 3),\n",
    "    stop_words=None,\n",
    "    use_idf=False,\n",
    "    smooth_idf=False,\n",
    "    norm=None,\n",
    "    decode_error='replace',\n",
    "    max_features=5000,\n",
    "    min_df=5,\n",
    "    max_df=0.75,\n",
    "    )"
   ]
  },
  {
   "cell_type": "code",
   "execution_count": 21,
   "metadata": {
    "collapsed": true,
    "deletable": true,
    "editable": true
   },
   "outputs": [],
   "source": [
    "#Construct POS TF matrix and get vocab dict\n",
    "pos = pos_vectorizer.fit_transform(pd.Series(tweet_tags)).toarray()\n",
    "pos_vocab = {v:i for i, v in enumerate(pos_vectorizer.get_feature_names())}"
   ]
  },
  {
   "cell_type": "code",
   "execution_count": 22,
   "metadata": {
    "collapsed": true,
    "deletable": true,
    "editable": true
   },
   "outputs": [],
   "source": [
    "#Now get other features\n",
    "sentiment_analyzer = VS()\n",
    "\n",
    "def count_twitter_objs(text_string):\n",
    "    \"\"\"\n",
    "    Accepts a text string and replaces:\n",
    "    1) urls with URLHERE\n",
    "    2) lots of whitespace with one instance\n",
    "    3) mentions with MENTIONHERE\n",
    "    4) hashtags with HASHTAGHERE\n",
    "\n",
    "    This allows us to get standardized counts of urls and mentions\n",
    "    Without caring about specific people mentioned.\n",
    "    \n",
    "    Returns counts of urls, mentions, and hashtags.\n",
    "    \"\"\"\n",
    "    space_pattern = '\\s+'\n",
    "    giant_url_regex = ('http[s]?://(?:[a-zA-Z]|[0-9]|[$-_@.&+]|'\n",
    "        '[!*\\(\\),]|(?:%[0-9a-fA-F][0-9a-fA-F]))+')\n",
    "    mention_regex = '@[\\w\\-]+'\n",
    "    hashtag_regex = '#[\\w\\-]+'\n",
    "    parsed_text = re.sub(space_pattern, ' ', text_string)\n",
    "    parsed_text = re.sub(giant_url_regex, 'URLHERE', parsed_text)\n",
    "    parsed_text = re.sub(mention_regex, 'MENTIONHERE', parsed_text)\n",
    "    parsed_text = re.sub(hashtag_regex, 'HASHTAGHERE', parsed_text)\n",
    "    return(parsed_text.count('URLHERE'),parsed_text.count('MENTIONHERE'),parsed_text.count('HASHTAGHERE'))\n",
    "\n",
    "def other_features(tweet):\n",
    "    \"\"\"This function takes a string and returns a list of features.\n",
    "    These include Sentiment scores, Text and Readability scores,\n",
    "    as well as Twitter specific features\"\"\"\n",
    "    sentiment = sentiment_analyzer.polarity_scores(tweet)\n",
    "    \n",
    "    words = preprocess(tweet) #Get text only\n",
    "    \n",
    "    syllables = textstat.syllable_count(words)\n",
    "    num_chars = sum(len(w) for w in words)\n",
    "    num_chars_total = len(tweet)\n",
    "    num_terms = len(tweet.split())\n",
    "    num_words = len(words.split())\n",
    "    avg_syl = round(float((syllables+0.001))/float(num_words+0.001),4)\n",
    "    num_unique_terms = len(set(words.split()))\n",
    "    \n",
    "    ###Modified FK grade, where avg words per sentence is just num words/1\n",
    "    FKRA = round(float(0.39 * float(num_words)/1.0) + float(11.8 * avg_syl) - 15.59,1)\n",
    "    ##Modified FRE score, where sentence fixed to 1\n",
    "    FRE = round(206.835 - 1.015*(float(num_words)/1.0) - (84.6*float(avg_syl)),2)\n",
    "    \n",
    "    twitter_objs = count_twitter_objs(tweet)\n",
    "    retweet = 0\n",
    "    if \"rt\" in words:\n",
    "        retweet = 1\n",
    "    features = [FKRA, FRE,syllables, avg_syl, num_chars, num_chars_total, num_terms, num_words,\n",
    "                num_unique_terms, sentiment['neg'], sentiment['pos'], sentiment['neu'], sentiment['compound'],\n",
    "                twitter_objs[2], twitter_objs[1],\n",
    "                twitter_objs[0], retweet]\n",
    "    #features = pandas.DataFrame(features)\n",
    "    return features\n",
    "\n",
    "def get_feature_array(tweets):\n",
    "    feats=[]\n",
    "    for t in tweets:\n",
    "        feats.append(other_features(t))\n",
    "    return np.array(feats)"
   ]
  },
  {
   "cell_type": "code",
   "execution_count": 23,
   "metadata": {
    "collapsed": true,
    "deletable": true,
    "editable": true
   },
   "outputs": [],
   "source": [
    "other_features_names = [\"FKRA\", \"FRE\",\"num_syllables\", \"avg_syl_per_word\", \"num_chars\", \"num_chars_total\", \\\n",
    "                        \"num_terms\", \"num_words\", \"num_unique_words\", \"vader neg\",\"vader pos\",\"vader neu\", \\\n",
    "                        \"vader compound\", \"num_hashtags\", \"num_mentions\", \"num_urls\", \"is_retweet\"]"
   ]
  },
  {
   "cell_type": "code",
   "execution_count": 24,
   "metadata": {
    "collapsed": false,
    "deletable": true,
    "editable": true
   },
   "outputs": [],
   "source": [
    "feats = get_feature_array(tweets)"
   ]
  },
  {
   "cell_type": "code",
   "execution_count": 25,
   "metadata": {
    "collapsed": true,
    "deletable": true,
    "editable": true
   },
   "outputs": [],
   "source": [
    "#Now join them all up\n",
    "M = np.concatenate([tfidf,pos,feats],axis=1)"
   ]
  },
  {
   "cell_type": "code",
   "execution_count": 26,
   "metadata": {
    "collapsed": false,
    "deletable": true,
    "editable": true
   },
   "outputs": [
    {
     "data": {
      "text/plain": [
       "(24783, 4023)"
      ]
     },
     "execution_count": 26,
     "metadata": {},
     "output_type": "execute_result"
    }
   ],
   "source": [
    "M.shape"
   ]
  },
  {
   "cell_type": "code",
   "execution_count": 27,
   "metadata": {
    "collapsed": false,
    "deletable": true,
    "editable": true
   },
   "outputs": [],
   "source": [
    "#Finally get a list of variable names\n",
    "variables = ['']*len(vocab)\n",
    "for k,v in vocab.items():\n",
    "    variables[v] = k\n",
    "\n",
    "pos_variables = ['']*len(pos_vocab)\n",
    "for k,v in pos_vocab.items():\n",
    "    pos_variables[v] = k\n",
    "\n",
    "feature_names = variables+pos_variables+other_features_names"
   ]
  },
  {
   "cell_type": "markdown",
   "metadata": {
    "deletable": true,
    "editable": true
   },
   "source": [
    "# Running the model\n",
    "\n",
    "The best model was selected using a GridSearch with 5-fold CV."
   ]
  },
  {
   "cell_type": "code",
   "execution_count": 28,
   "metadata": {
    "collapsed": true,
    "deletable": true,
    "editable": true
   },
   "outputs": [],
   "source": [
    "X = pd.DataFrame(M)\n",
    "y = df['class'].astype(int)"
   ]
  },
  {
   "cell_type": "code",
   "execution_count": 29,
   "metadata": {
    "collapsed": false,
    "deletable": true,
    "editable": true
   },
   "outputs": [],
   "source": [
    "select = SelectFromModel(LogisticRegression(\n",
    "    class_weight='balanced', penalty=\"l1\", C=0.01, solver='liblinear'))\n",
    "X_ = select.fit_transform(X,y)\n"
   ]
  },
  {
   "cell_type": "code",
   "execution_count": 30,
   "metadata": {
    "collapsed": true,
    "deletable": true,
    "editable": true
   },
   "outputs": [
    {
     "name": "stderr",
     "output_type": "stream",
     "text": [
      "c:\\Users\\oguzk\\Desktop\\Python TextMining\\.venv\\lib\\site-packages\\sklearn\\svm\\_base.py:1206: ConvergenceWarning: Liblinear failed to converge, increase the number of iterations.\n",
      "  warnings.warn(\n"
     ]
    }
   ],
   "source": [
    "model = LinearSVC(class_weight='balanced', C=0.01, penalty='l2',\n",
    "                  loss='squared_hinge', multi_class='ovr', max_iter=3000).fit(X_, y)\n"
   ]
  },
  {
   "cell_type": "code",
   "execution_count": 22,
   "metadata": {
    "collapsed": false,
    "deletable": true,
    "editable": true
   },
   "outputs": [],
   "source": [
    "model = LogisticRegression(class_weight='balanced',\n",
    "                           penalty='l2', C=0.01, max_iter=3000).fit(X_, y)\n"
   ]
  },
  {
   "cell_type": "code",
   "execution_count": 31,
   "metadata": {
    "collapsed": false,
    "deletable": true,
    "editable": true
   },
   "outputs": [],
   "source": [
    "y_preds = model.predict(X_)"
   ]
  },
  {
   "cell_type": "markdown",
   "metadata": {
    "deletable": true,
    "editable": true
   },
   "source": [
    "## Evaluating the results"
   ]
  },
  {
   "cell_type": "code",
   "execution_count": 32,
   "metadata": {
    "collapsed": false,
    "deletable": true,
    "editable": true
   },
   "outputs": [],
   "source": [
    "report = classification_report( y, y_preds )"
   ]
  },
  {
   "cell_type": "code",
   "execution_count": 33,
   "metadata": {
    "collapsed": false,
    "deletable": true,
    "editable": true
   },
   "outputs": [
    {
     "name": "stdout",
     "output_type": "stream",
     "text": [
      "              precision    recall  f1-score   support\n",
      "\n",
      "           0       0.44      0.50      0.47      1430\n",
      "           1       0.94      0.89      0.92     19190\n",
      "           2       0.71      0.86      0.77      4163\n",
      "\n",
      "    accuracy                           0.86     24783\n",
      "   macro avg       0.70      0.75      0.72     24783\n",
      "weighted avg       0.87      0.86      0.87     24783\n",
      "\n"
     ]
    }
   ],
   "source": [
    "print(report)"
   ]
  },
  {
   "cell_type": "code",
   "execution_count": 26,
   "metadata": {
    "collapsed": false,
    "deletable": true,
    "editable": true
   },
   "outputs": [
    {
     "ename": "RuntimeError",
     "evalue": "Failed to process string with tex because latex could not be found",
     "output_type": "error",
     "traceback": [
      "\u001b[1;31m---------------------------------------------------------------------------\u001b[0m",
      "\u001b[1;31mFileNotFoundError\u001b[0m                         Traceback (most recent call last)",
      "File \u001b[1;32mc:\\Users\\oguzk\\Desktop\\Python TextMining\\.venv\\lib\\site-packages\\matplotlib\\texmanager.py:233\u001b[0m, in \u001b[0;36mTexManager._run_checked_subprocess\u001b[1;34m(self, command, tex, cwd)\u001b[0m\n\u001b[0;32m    <a href='file:///c%3A/Users/oguzk/Desktop/Python%20TextMining/.venv/lib/site-packages/matplotlib/texmanager.py?line=231'>232</a>\u001b[0m \u001b[39mtry\u001b[39;00m:\n\u001b[1;32m--> <a href='file:///c%3A/Users/oguzk/Desktop/Python%20TextMining/.venv/lib/site-packages/matplotlib/texmanager.py?line=232'>233</a>\u001b[0m     report \u001b[39m=\u001b[39m subprocess\u001b[39m.\u001b[39;49mcheck_output(\n\u001b[0;32m    <a href='file:///c%3A/Users/oguzk/Desktop/Python%20TextMining/.venv/lib/site-packages/matplotlib/texmanager.py?line=233'>234</a>\u001b[0m         command, cwd\u001b[39m=\u001b[39;49mcwd \u001b[39mif\u001b[39;49;00m cwd \u001b[39mis\u001b[39;49;00m \u001b[39mnot\u001b[39;49;00m \u001b[39mNone\u001b[39;49;00m \u001b[39melse\u001b[39;49;00m \u001b[39mself\u001b[39;49m\u001b[39m.\u001b[39;49mtexcache,\n\u001b[0;32m    <a href='file:///c%3A/Users/oguzk/Desktop/Python%20TextMining/.venv/lib/site-packages/matplotlib/texmanager.py?line=234'>235</a>\u001b[0m         stderr\u001b[39m=\u001b[39;49msubprocess\u001b[39m.\u001b[39;49mSTDOUT)\n\u001b[0;32m    <a href='file:///c%3A/Users/oguzk/Desktop/Python%20TextMining/.venv/lib/site-packages/matplotlib/texmanager.py?line=235'>236</a>\u001b[0m \u001b[39mexcept\u001b[39;00m \u001b[39mFileNotFoundError\u001b[39;00m \u001b[39mas\u001b[39;00m exc:\n",
      "File \u001b[1;32mC:\\Python39\\lib\\subprocess.py:424\u001b[0m, in \u001b[0;36mcheck_output\u001b[1;34m(timeout, *popenargs, **kwargs)\u001b[0m\n\u001b[0;32m    <a href='file:///c%3A/Python39/lib/subprocess.py?line=421'>422</a>\u001b[0m     kwargs[\u001b[39m'\u001b[39m\u001b[39minput\u001b[39m\u001b[39m'\u001b[39m] \u001b[39m=\u001b[39m empty\n\u001b[1;32m--> <a href='file:///c%3A/Python39/lib/subprocess.py?line=423'>424</a>\u001b[0m \u001b[39mreturn\u001b[39;00m run(\u001b[39m*\u001b[39mpopenargs, stdout\u001b[39m=\u001b[39mPIPE, timeout\u001b[39m=\u001b[39mtimeout, check\u001b[39m=\u001b[39m\u001b[39mTrue\u001b[39;00m,\n\u001b[0;32m    <a href='file:///c%3A/Python39/lib/subprocess.py?line=424'>425</a>\u001b[0m            \u001b[39m*\u001b[39m\u001b[39m*\u001b[39mkwargs)\u001b[39m.\u001b[39mstdout\n",
      "File \u001b[1;32mC:\\Python39\\lib\\subprocess.py:505\u001b[0m, in \u001b[0;36mrun\u001b[1;34m(input, capture_output, timeout, check, *popenargs, **kwargs)\u001b[0m\n\u001b[0;32m    <a href='file:///c%3A/Python39/lib/subprocess.py?line=502'>503</a>\u001b[0m     kwargs[\u001b[39m'\u001b[39m\u001b[39mstderr\u001b[39m\u001b[39m'\u001b[39m] \u001b[39m=\u001b[39m PIPE\n\u001b[1;32m--> <a href='file:///c%3A/Python39/lib/subprocess.py?line=504'>505</a>\u001b[0m \u001b[39mwith\u001b[39;00m Popen(\u001b[39m*\u001b[39mpopenargs, \u001b[39m*\u001b[39m\u001b[39m*\u001b[39mkwargs) \u001b[39mas\u001b[39;00m process:\n\u001b[0;32m    <a href='file:///c%3A/Python39/lib/subprocess.py?line=505'>506</a>\u001b[0m     \u001b[39mtry\u001b[39;00m:\n",
      "File \u001b[1;32mC:\\Python39\\lib\\subprocess.py:951\u001b[0m, in \u001b[0;36mPopen.__init__\u001b[1;34m(self, args, bufsize, executable, stdin, stdout, stderr, preexec_fn, close_fds, shell, cwd, env, universal_newlines, startupinfo, creationflags, restore_signals, start_new_session, pass_fds, user, group, extra_groups, encoding, errors, text, umask)\u001b[0m\n\u001b[0;32m    <a href='file:///c%3A/Python39/lib/subprocess.py?line=947'>948</a>\u001b[0m             \u001b[39mself\u001b[39m\u001b[39m.\u001b[39mstderr \u001b[39m=\u001b[39m io\u001b[39m.\u001b[39mTextIOWrapper(\u001b[39mself\u001b[39m\u001b[39m.\u001b[39mstderr,\n\u001b[0;32m    <a href='file:///c%3A/Python39/lib/subprocess.py?line=948'>949</a>\u001b[0m                     encoding\u001b[39m=\u001b[39mencoding, errors\u001b[39m=\u001b[39merrors)\n\u001b[1;32m--> <a href='file:///c%3A/Python39/lib/subprocess.py?line=950'>951</a>\u001b[0m     \u001b[39mself\u001b[39;49m\u001b[39m.\u001b[39;49m_execute_child(args, executable, preexec_fn, close_fds,\n\u001b[0;32m    <a href='file:///c%3A/Python39/lib/subprocess.py?line=951'>952</a>\u001b[0m                         pass_fds, cwd, env,\n\u001b[0;32m    <a href='file:///c%3A/Python39/lib/subprocess.py?line=952'>953</a>\u001b[0m                         startupinfo, creationflags, shell,\n\u001b[0;32m    <a href='file:///c%3A/Python39/lib/subprocess.py?line=953'>954</a>\u001b[0m                         p2cread, p2cwrite,\n\u001b[0;32m    <a href='file:///c%3A/Python39/lib/subprocess.py?line=954'>955</a>\u001b[0m                         c2pread, c2pwrite,\n\u001b[0;32m    <a href='file:///c%3A/Python39/lib/subprocess.py?line=955'>956</a>\u001b[0m                         errread, errwrite,\n\u001b[0;32m    <a href='file:///c%3A/Python39/lib/subprocess.py?line=956'>957</a>\u001b[0m                         restore_signals,\n\u001b[0;32m    <a href='file:///c%3A/Python39/lib/subprocess.py?line=957'>958</a>\u001b[0m                         gid, gids, uid, umask,\n\u001b[0;32m    <a href='file:///c%3A/Python39/lib/subprocess.py?line=958'>959</a>\u001b[0m                         start_new_session)\n\u001b[0;32m    <a href='file:///c%3A/Python39/lib/subprocess.py?line=959'>960</a>\u001b[0m \u001b[39mexcept\u001b[39;00m:\n\u001b[0;32m    <a href='file:///c%3A/Python39/lib/subprocess.py?line=960'>961</a>\u001b[0m     \u001b[39m# Cleanup if the child failed starting.\u001b[39;00m\n",
      "File \u001b[1;32mC:\\Python39\\lib\\subprocess.py:1420\u001b[0m, in \u001b[0;36mPopen._execute_child\u001b[1;34m(self, args, executable, preexec_fn, close_fds, pass_fds, cwd, env, startupinfo, creationflags, shell, p2cread, p2cwrite, c2pread, c2pwrite, errread, errwrite, unused_restore_signals, unused_gid, unused_gids, unused_uid, unused_umask, unused_start_new_session)\u001b[0m\n\u001b[0;32m   <a href='file:///c%3A/Python39/lib/subprocess.py?line=1418'>1419</a>\u001b[0m \u001b[39mtry\u001b[39;00m:\n\u001b[1;32m-> <a href='file:///c%3A/Python39/lib/subprocess.py?line=1419'>1420</a>\u001b[0m     hp, ht, pid, tid \u001b[39m=\u001b[39m _winapi\u001b[39m.\u001b[39;49mCreateProcess(executable, args,\n\u001b[0;32m   <a href='file:///c%3A/Python39/lib/subprocess.py?line=1420'>1421</a>\u001b[0m                              \u001b[39m# no special security\u001b[39;49;00m\n\u001b[0;32m   <a href='file:///c%3A/Python39/lib/subprocess.py?line=1421'>1422</a>\u001b[0m                              \u001b[39mNone\u001b[39;49;00m, \u001b[39mNone\u001b[39;49;00m,\n\u001b[0;32m   <a href='file:///c%3A/Python39/lib/subprocess.py?line=1422'>1423</a>\u001b[0m                              \u001b[39mint\u001b[39;49m(\u001b[39mnot\u001b[39;49;00m close_fds),\n\u001b[0;32m   <a href='file:///c%3A/Python39/lib/subprocess.py?line=1423'>1424</a>\u001b[0m                              creationflags,\n\u001b[0;32m   <a href='file:///c%3A/Python39/lib/subprocess.py?line=1424'>1425</a>\u001b[0m                              env,\n\u001b[0;32m   <a href='file:///c%3A/Python39/lib/subprocess.py?line=1425'>1426</a>\u001b[0m                              cwd,\n\u001b[0;32m   <a href='file:///c%3A/Python39/lib/subprocess.py?line=1426'>1427</a>\u001b[0m                              startupinfo)\n\u001b[0;32m   <a href='file:///c%3A/Python39/lib/subprocess.py?line=1427'>1428</a>\u001b[0m \u001b[39mfinally\u001b[39;00m:\n\u001b[0;32m   <a href='file:///c%3A/Python39/lib/subprocess.py?line=1428'>1429</a>\u001b[0m     \u001b[39m# Child is launched. Close the parent's copy of those pipe\u001b[39;00m\n\u001b[0;32m   <a href='file:///c%3A/Python39/lib/subprocess.py?line=1429'>1430</a>\u001b[0m     \u001b[39m# handles that only the child should have open.  You need\u001b[39;00m\n\u001b[1;32m   (...)\u001b[0m\n\u001b[0;32m   <a href='file:///c%3A/Python39/lib/subprocess.py?line=1432'>1433</a>\u001b[0m     \u001b[39m# pipe will not close when the child process exits and the\u001b[39;00m\n\u001b[0;32m   <a href='file:///c%3A/Python39/lib/subprocess.py?line=1433'>1434</a>\u001b[0m     \u001b[39m# ReadFile will hang.\u001b[39;00m\n",
      "\u001b[1;31mFileNotFoundError\u001b[0m: [WinError 2] The system cannot find the file specified",
      "\nThe above exception was the direct cause of the following exception:\n",
      "\u001b[1;31mRuntimeError\u001b[0m                              Traceback (most recent call last)",
      "\u001b[1;32mc:\\Users\\oguzk\\Desktop\\Python TextMining\\src\\essence.ipynb Cell 33'\u001b[0m in \u001b[0;36m<cell line: 16>\u001b[1;34m()\u001b[0m\n\u001b[0;32m     <a href='vscode-notebook-cell:/c%3A/Users/oguzk/Desktop/Python%20TextMining/src/essence.ipynb#ch0000032?line=13'>14</a>\u001b[0m confusion_df \u001b[39m=\u001b[39m pd\u001b[39m.\u001b[39mDataFrame(matrix_proportions, index\u001b[39m=\u001b[39mnames,columns\u001b[39m=\u001b[39mnames)\n\u001b[0;32m     <a href='vscode-notebook-cell:/c%3A/Users/oguzk/Desktop/Python%20TextMining/src/essence.ipynb#ch0000032?line=14'>15</a>\u001b[0m plt\u001b[39m.\u001b[39mfigure(figsize\u001b[39m=\u001b[39m(\u001b[39m5\u001b[39m,\u001b[39m5\u001b[39m))\n\u001b[1;32m---> <a href='vscode-notebook-cell:/c%3A/Users/oguzk/Desktop/Python%20TextMining/src/essence.ipynb#ch0000032?line=15'>16</a>\u001b[0m seaborn\u001b[39m.\u001b[39;49mheatmap(confusion_df,annot\u001b[39m=\u001b[39;49m\u001b[39mTrue\u001b[39;49;00m,annot_kws\u001b[39m=\u001b[39;49m{\u001b[39m\"\u001b[39;49m\u001b[39msize\u001b[39;49m\u001b[39m\"\u001b[39;49m: \u001b[39m12\u001b[39;49m},cmap\u001b[39m=\u001b[39;49m\u001b[39m'\u001b[39;49m\u001b[39mgist_gray_r\u001b[39;49m\u001b[39m'\u001b[39;49m,cbar\u001b[39m=\u001b[39;49m\u001b[39mFalse\u001b[39;49;00m, square\u001b[39m=\u001b[39;49m\u001b[39mTrue\u001b[39;49;00m,fmt\u001b[39m=\u001b[39;49m\u001b[39m'\u001b[39;49m\u001b[39m.2f\u001b[39;49m\u001b[39m'\u001b[39;49m)\n\u001b[0;32m     <a href='vscode-notebook-cell:/c%3A/Users/oguzk/Desktop/Python%20TextMining/src/essence.ipynb#ch0000032?line=16'>17</a>\u001b[0m plt\u001b[39m.\u001b[39mylabel(\u001b[39mr\u001b[39m\u001b[39m'\u001b[39m\u001b[39m\\\u001b[39m\u001b[39mtextbf\u001b[39m\u001b[39m{\u001b[39m\u001b[39mTrue categories}\u001b[39m\u001b[39m'\u001b[39m,fontsize\u001b[39m=\u001b[39m\u001b[39m14\u001b[39m)\n\u001b[0;32m     <a href='vscode-notebook-cell:/c%3A/Users/oguzk/Desktop/Python%20TextMining/src/essence.ipynb#ch0000032?line=17'>18</a>\u001b[0m plt\u001b[39m.\u001b[39mxlabel(\u001b[39mr\u001b[39m\u001b[39m'\u001b[39m\u001b[39m\\\u001b[39m\u001b[39mtextbf\u001b[39m\u001b[39m{\u001b[39m\u001b[39mPredicted categories}\u001b[39m\u001b[39m'\u001b[39m,fontsize\u001b[39m=\u001b[39m\u001b[39m14\u001b[39m)\n",
      "File \u001b[1;32mc:\\Users\\oguzk\\Desktop\\Python TextMining\\.venv\\lib\\site-packages\\seaborn\\_decorators.py:46\u001b[0m, in \u001b[0;36m_deprecate_positional_args.<locals>.inner_f\u001b[1;34m(*args, **kwargs)\u001b[0m\n\u001b[0;32m     <a href='file:///c%3A/Users/oguzk/Desktop/Python%20TextMining/.venv/lib/site-packages/seaborn/_decorators.py?line=35'>36</a>\u001b[0m     warnings\u001b[39m.\u001b[39mwarn(\n\u001b[0;32m     <a href='file:///c%3A/Users/oguzk/Desktop/Python%20TextMining/.venv/lib/site-packages/seaborn/_decorators.py?line=36'>37</a>\u001b[0m         \u001b[39m\"\u001b[39m\u001b[39mPass the following variable\u001b[39m\u001b[39m{}\u001b[39;00m\u001b[39m as \u001b[39m\u001b[39m{}\u001b[39;00m\u001b[39mkeyword arg\u001b[39m\u001b[39m{}\u001b[39;00m\u001b[39m: \u001b[39m\u001b[39m{}\u001b[39;00m\u001b[39m. \u001b[39m\u001b[39m\"\u001b[39m\n\u001b[0;32m     <a href='file:///c%3A/Users/oguzk/Desktop/Python%20TextMining/.venv/lib/site-packages/seaborn/_decorators.py?line=37'>38</a>\u001b[0m         \u001b[39m\"\u001b[39m\u001b[39mFrom version 0.12, the only valid positional argument \u001b[39m\u001b[39m\"\u001b[39m\n\u001b[1;32m   (...)\u001b[0m\n\u001b[0;32m     <a href='file:///c%3A/Users/oguzk/Desktop/Python%20TextMining/.venv/lib/site-packages/seaborn/_decorators.py?line=42'>43</a>\u001b[0m         \u001b[39mFutureWarning\u001b[39;00m\n\u001b[0;32m     <a href='file:///c%3A/Users/oguzk/Desktop/Python%20TextMining/.venv/lib/site-packages/seaborn/_decorators.py?line=43'>44</a>\u001b[0m     )\n\u001b[0;32m     <a href='file:///c%3A/Users/oguzk/Desktop/Python%20TextMining/.venv/lib/site-packages/seaborn/_decorators.py?line=44'>45</a>\u001b[0m kwargs\u001b[39m.\u001b[39mupdate({k: arg \u001b[39mfor\u001b[39;00m k, arg \u001b[39min\u001b[39;00m \u001b[39mzip\u001b[39m(sig\u001b[39m.\u001b[39mparameters, args)})\n\u001b[1;32m---> <a href='file:///c%3A/Users/oguzk/Desktop/Python%20TextMining/.venv/lib/site-packages/seaborn/_decorators.py?line=45'>46</a>\u001b[0m \u001b[39mreturn\u001b[39;00m f(\u001b[39m*\u001b[39m\u001b[39m*\u001b[39mkwargs)\n",
      "File \u001b[1;32mc:\\Users\\oguzk\\Desktop\\Python TextMining\\.venv\\lib\\site-packages\\seaborn\\matrix.py:553\u001b[0m, in \u001b[0;36mheatmap\u001b[1;34m(data, vmin, vmax, cmap, center, robust, annot, fmt, annot_kws, linewidths, linecolor, cbar, cbar_kws, cbar_ax, square, xticklabels, yticklabels, mask, ax, **kwargs)\u001b[0m\n\u001b[0;32m    <a href='file:///c%3A/Users/oguzk/Desktop/Python%20TextMining/.venv/lib/site-packages/seaborn/matrix.py?line=550'>551</a>\u001b[0m \u001b[39mif\u001b[39;00m square:\n\u001b[0;32m    <a href='file:///c%3A/Users/oguzk/Desktop/Python%20TextMining/.venv/lib/site-packages/seaborn/matrix.py?line=551'>552</a>\u001b[0m     ax\u001b[39m.\u001b[39mset_aspect(\u001b[39m\"\u001b[39m\u001b[39mequal\u001b[39m\u001b[39m\"\u001b[39m)\n\u001b[1;32m--> <a href='file:///c%3A/Users/oguzk/Desktop/Python%20TextMining/.venv/lib/site-packages/seaborn/matrix.py?line=552'>553</a>\u001b[0m plotter\u001b[39m.\u001b[39;49mplot(ax, cbar_ax, kwargs)\n\u001b[0;32m    <a href='file:///c%3A/Users/oguzk/Desktop/Python%20TextMining/.venv/lib/site-packages/seaborn/matrix.py?line=553'>554</a>\u001b[0m \u001b[39mreturn\u001b[39;00m ax\n",
      "File \u001b[1;32mc:\\Users\\oguzk\\Desktop\\Python TextMining\\.venv\\lib\\site-packages\\seaborn\\matrix.py:336\u001b[0m, in \u001b[0;36m_HeatMapper.plot\u001b[1;34m(self, ax, cax, kws)\u001b[0m\n\u001b[0;32m    <a href='file:///c%3A/Users/oguzk/Desktop/Python%20TextMining/.venv/lib/site-packages/seaborn/matrix.py?line=332'>333</a>\u001b[0m plt\u001b[39m.\u001b[39msetp(ytl, va\u001b[39m=\u001b[39m\u001b[39m\"\u001b[39m\u001b[39mcenter\u001b[39m\u001b[39m\"\u001b[39m)  \u001b[39m# GH2484\u001b[39;00m\n\u001b[0;32m    <a href='file:///c%3A/Users/oguzk/Desktop/Python%20TextMining/.venv/lib/site-packages/seaborn/matrix.py?line=334'>335</a>\u001b[0m \u001b[39m# Possibly rotate them if they overlap\u001b[39;00m\n\u001b[1;32m--> <a href='file:///c%3A/Users/oguzk/Desktop/Python%20TextMining/.venv/lib/site-packages/seaborn/matrix.py?line=335'>336</a>\u001b[0m _draw_figure(ax\u001b[39m.\u001b[39;49mfigure)\n\u001b[0;32m    <a href='file:///c%3A/Users/oguzk/Desktop/Python%20TextMining/.venv/lib/site-packages/seaborn/matrix.py?line=337'>338</a>\u001b[0m \u001b[39mif\u001b[39;00m axis_ticklabels_overlap(xtl):\n\u001b[0;32m    <a href='file:///c%3A/Users/oguzk/Desktop/Python%20TextMining/.venv/lib/site-packages/seaborn/matrix.py?line=338'>339</a>\u001b[0m     plt\u001b[39m.\u001b[39msetp(xtl, rotation\u001b[39m=\u001b[39m\u001b[39m\"\u001b[39m\u001b[39mvertical\u001b[39m\u001b[39m\"\u001b[39m)\n",
      "File \u001b[1;32mc:\\Users\\oguzk\\Desktop\\Python TextMining\\.venv\\lib\\site-packages\\seaborn\\utils.py:95\u001b[0m, in \u001b[0;36m_draw_figure\u001b[1;34m(fig)\u001b[0m\n\u001b[0;32m     <a href='file:///c%3A/Users/oguzk/Desktop/Python%20TextMining/.venv/lib/site-packages/seaborn/utils.py?line=92'>93</a>\u001b[0m \u001b[39m\"\"\"Force draw of a matplotlib figure, accounting for back-compat.\"\"\"\u001b[39;00m\n\u001b[0;32m     <a href='file:///c%3A/Users/oguzk/Desktop/Python%20TextMining/.venv/lib/site-packages/seaborn/utils.py?line=93'>94</a>\u001b[0m \u001b[39m# See https://github.com/matplotlib/matplotlib/issues/19197 for context\u001b[39;00m\n\u001b[1;32m---> <a href='file:///c%3A/Users/oguzk/Desktop/Python%20TextMining/.venv/lib/site-packages/seaborn/utils.py?line=94'>95</a>\u001b[0m fig\u001b[39m.\u001b[39;49mcanvas\u001b[39m.\u001b[39;49mdraw()\n\u001b[0;32m     <a href='file:///c%3A/Users/oguzk/Desktop/Python%20TextMining/.venv/lib/site-packages/seaborn/utils.py?line=95'>96</a>\u001b[0m \u001b[39mif\u001b[39;00m fig\u001b[39m.\u001b[39mstale:\n\u001b[0;32m     <a href='file:///c%3A/Users/oguzk/Desktop/Python%20TextMining/.venv/lib/site-packages/seaborn/utils.py?line=96'>97</a>\u001b[0m     \u001b[39mtry\u001b[39;00m:\n",
      "File \u001b[1;32mc:\\Users\\oguzk\\Desktop\\Python TextMining\\.venv\\lib\\site-packages\\matplotlib\\backends\\backend_agg.py:436\u001b[0m, in \u001b[0;36mFigureCanvasAgg.draw\u001b[1;34m(self)\u001b[0m\n\u001b[0;32m    <a href='file:///c%3A/Users/oguzk/Desktop/Python%20TextMining/.venv/lib/site-packages/matplotlib/backends/backend_agg.py?line=431'>432</a>\u001b[0m \u001b[39m# Acquire a lock on the shared font cache.\u001b[39;00m\n\u001b[0;32m    <a href='file:///c%3A/Users/oguzk/Desktop/Python%20TextMining/.venv/lib/site-packages/matplotlib/backends/backend_agg.py?line=432'>433</a>\u001b[0m \u001b[39mwith\u001b[39;00m RendererAgg\u001b[39m.\u001b[39mlock, \\\n\u001b[0;32m    <a href='file:///c%3A/Users/oguzk/Desktop/Python%20TextMining/.venv/lib/site-packages/matplotlib/backends/backend_agg.py?line=433'>434</a>\u001b[0m      (\u001b[39mself\u001b[39m\u001b[39m.\u001b[39mtoolbar\u001b[39m.\u001b[39m_wait_cursor_for_draw_cm() \u001b[39mif\u001b[39;00m \u001b[39mself\u001b[39m\u001b[39m.\u001b[39mtoolbar\n\u001b[0;32m    <a href='file:///c%3A/Users/oguzk/Desktop/Python%20TextMining/.venv/lib/site-packages/matplotlib/backends/backend_agg.py?line=434'>435</a>\u001b[0m       \u001b[39melse\u001b[39;00m nullcontext()):\n\u001b[1;32m--> <a href='file:///c%3A/Users/oguzk/Desktop/Python%20TextMining/.venv/lib/site-packages/matplotlib/backends/backend_agg.py?line=435'>436</a>\u001b[0m     \u001b[39mself\u001b[39;49m\u001b[39m.\u001b[39;49mfigure\u001b[39m.\u001b[39;49mdraw(\u001b[39mself\u001b[39;49m\u001b[39m.\u001b[39;49mrenderer)\n\u001b[0;32m    <a href='file:///c%3A/Users/oguzk/Desktop/Python%20TextMining/.venv/lib/site-packages/matplotlib/backends/backend_agg.py?line=436'>437</a>\u001b[0m     \u001b[39m# A GUI class may be need to update a window using this draw, so\u001b[39;00m\n\u001b[0;32m    <a href='file:///c%3A/Users/oguzk/Desktop/Python%20TextMining/.venv/lib/site-packages/matplotlib/backends/backend_agg.py?line=437'>438</a>\u001b[0m     \u001b[39m# don't forget to call the superclass.\u001b[39;00m\n\u001b[0;32m    <a href='file:///c%3A/Users/oguzk/Desktop/Python%20TextMining/.venv/lib/site-packages/matplotlib/backends/backend_agg.py?line=438'>439</a>\u001b[0m     \u001b[39msuper\u001b[39m()\u001b[39m.\u001b[39mdraw()\n",
      "File \u001b[1;32mc:\\Users\\oguzk\\Desktop\\Python TextMining\\.venv\\lib\\site-packages\\matplotlib\\artist.py:73\u001b[0m, in \u001b[0;36m_finalize_rasterization.<locals>.draw_wrapper\u001b[1;34m(artist, renderer, *args, **kwargs)\u001b[0m\n\u001b[0;32m     <a href='file:///c%3A/Users/oguzk/Desktop/Python%20TextMining/.venv/lib/site-packages/matplotlib/artist.py?line=70'>71</a>\u001b[0m \u001b[39m@wraps\u001b[39m(draw)\n\u001b[0;32m     <a href='file:///c%3A/Users/oguzk/Desktop/Python%20TextMining/.venv/lib/site-packages/matplotlib/artist.py?line=71'>72</a>\u001b[0m \u001b[39mdef\u001b[39;00m \u001b[39mdraw_wrapper\u001b[39m(artist, renderer, \u001b[39m*\u001b[39margs, \u001b[39m*\u001b[39m\u001b[39m*\u001b[39mkwargs):\n\u001b[1;32m---> <a href='file:///c%3A/Users/oguzk/Desktop/Python%20TextMining/.venv/lib/site-packages/matplotlib/artist.py?line=72'>73</a>\u001b[0m     result \u001b[39m=\u001b[39m draw(artist, renderer, \u001b[39m*\u001b[39margs, \u001b[39m*\u001b[39m\u001b[39m*\u001b[39mkwargs)\n\u001b[0;32m     <a href='file:///c%3A/Users/oguzk/Desktop/Python%20TextMining/.venv/lib/site-packages/matplotlib/artist.py?line=73'>74</a>\u001b[0m     \u001b[39mif\u001b[39;00m renderer\u001b[39m.\u001b[39m_rasterizing:\n\u001b[0;32m     <a href='file:///c%3A/Users/oguzk/Desktop/Python%20TextMining/.venv/lib/site-packages/matplotlib/artist.py?line=74'>75</a>\u001b[0m         renderer\u001b[39m.\u001b[39mstop_rasterizing()\n",
      "File \u001b[1;32mc:\\Users\\oguzk\\Desktop\\Python TextMining\\.venv\\lib\\site-packages\\matplotlib\\artist.py:50\u001b[0m, in \u001b[0;36mallow_rasterization.<locals>.draw_wrapper\u001b[1;34m(artist, renderer)\u001b[0m\n\u001b[0;32m     <a href='file:///c%3A/Users/oguzk/Desktop/Python%20TextMining/.venv/lib/site-packages/matplotlib/artist.py?line=46'>47</a>\u001b[0m     \u001b[39mif\u001b[39;00m artist\u001b[39m.\u001b[39mget_agg_filter() \u001b[39mis\u001b[39;00m \u001b[39mnot\u001b[39;00m \u001b[39mNone\u001b[39;00m:\n\u001b[0;32m     <a href='file:///c%3A/Users/oguzk/Desktop/Python%20TextMining/.venv/lib/site-packages/matplotlib/artist.py?line=47'>48</a>\u001b[0m         renderer\u001b[39m.\u001b[39mstart_filter()\n\u001b[1;32m---> <a href='file:///c%3A/Users/oguzk/Desktop/Python%20TextMining/.venv/lib/site-packages/matplotlib/artist.py?line=49'>50</a>\u001b[0m     \u001b[39mreturn\u001b[39;00m draw(artist, renderer)\n\u001b[0;32m     <a href='file:///c%3A/Users/oguzk/Desktop/Python%20TextMining/.venv/lib/site-packages/matplotlib/artist.py?line=50'>51</a>\u001b[0m \u001b[39mfinally\u001b[39;00m:\n\u001b[0;32m     <a href='file:///c%3A/Users/oguzk/Desktop/Python%20TextMining/.venv/lib/site-packages/matplotlib/artist.py?line=51'>52</a>\u001b[0m     \u001b[39mif\u001b[39;00m artist\u001b[39m.\u001b[39mget_agg_filter() \u001b[39mis\u001b[39;00m \u001b[39mnot\u001b[39;00m \u001b[39mNone\u001b[39;00m:\n",
      "File \u001b[1;32mc:\\Users\\oguzk\\Desktop\\Python TextMining\\.venv\\lib\\site-packages\\matplotlib\\figure.py:2810\u001b[0m, in \u001b[0;36mFigure.draw\u001b[1;34m(self, renderer)\u001b[0m\n\u001b[0;32m   <a href='file:///c%3A/Users/oguzk/Desktop/Python%20TextMining/.venv/lib/site-packages/matplotlib/figure.py?line=2806'>2807</a>\u001b[0m         \u001b[39m# ValueError can occur when resizing a window.\u001b[39;00m\n\u001b[0;32m   <a href='file:///c%3A/Users/oguzk/Desktop/Python%20TextMining/.venv/lib/site-packages/matplotlib/figure.py?line=2808'>2809</a>\u001b[0m \u001b[39mself\u001b[39m\u001b[39m.\u001b[39mpatch\u001b[39m.\u001b[39mdraw(renderer)\n\u001b[1;32m-> <a href='file:///c%3A/Users/oguzk/Desktop/Python%20TextMining/.venv/lib/site-packages/matplotlib/figure.py?line=2809'>2810</a>\u001b[0m mimage\u001b[39m.\u001b[39;49m_draw_list_compositing_images(\n\u001b[0;32m   <a href='file:///c%3A/Users/oguzk/Desktop/Python%20TextMining/.venv/lib/site-packages/matplotlib/figure.py?line=2810'>2811</a>\u001b[0m     renderer, \u001b[39mself\u001b[39;49m, artists, \u001b[39mself\u001b[39;49m\u001b[39m.\u001b[39;49msuppressComposite)\n\u001b[0;32m   <a href='file:///c%3A/Users/oguzk/Desktop/Python%20TextMining/.venv/lib/site-packages/matplotlib/figure.py?line=2812'>2813</a>\u001b[0m \u001b[39mfor\u001b[39;00m sfig \u001b[39min\u001b[39;00m \u001b[39mself\u001b[39m\u001b[39m.\u001b[39msubfigs:\n\u001b[0;32m   <a href='file:///c%3A/Users/oguzk/Desktop/Python%20TextMining/.venv/lib/site-packages/matplotlib/figure.py?line=2813'>2814</a>\u001b[0m     sfig\u001b[39m.\u001b[39mdraw(renderer)\n",
      "File \u001b[1;32mc:\\Users\\oguzk\\Desktop\\Python TextMining\\.venv\\lib\\site-packages\\matplotlib\\image.py:132\u001b[0m, in \u001b[0;36m_draw_list_compositing_images\u001b[1;34m(renderer, parent, artists, suppress_composite)\u001b[0m\n\u001b[0;32m    <a href='file:///c%3A/Users/oguzk/Desktop/Python%20TextMining/.venv/lib/site-packages/matplotlib/image.py?line=129'>130</a>\u001b[0m \u001b[39mif\u001b[39;00m not_composite \u001b[39mor\u001b[39;00m \u001b[39mnot\u001b[39;00m has_images:\n\u001b[0;32m    <a href='file:///c%3A/Users/oguzk/Desktop/Python%20TextMining/.venv/lib/site-packages/matplotlib/image.py?line=130'>131</a>\u001b[0m     \u001b[39mfor\u001b[39;00m a \u001b[39min\u001b[39;00m artists:\n\u001b[1;32m--> <a href='file:///c%3A/Users/oguzk/Desktop/Python%20TextMining/.venv/lib/site-packages/matplotlib/image.py?line=131'>132</a>\u001b[0m         a\u001b[39m.\u001b[39;49mdraw(renderer)\n\u001b[0;32m    <a href='file:///c%3A/Users/oguzk/Desktop/Python%20TextMining/.venv/lib/site-packages/matplotlib/image.py?line=132'>133</a>\u001b[0m \u001b[39melse\u001b[39;00m:\n\u001b[0;32m    <a href='file:///c%3A/Users/oguzk/Desktop/Python%20TextMining/.venv/lib/site-packages/matplotlib/image.py?line=133'>134</a>\u001b[0m     \u001b[39m# Composite any adjacent images together\u001b[39;00m\n\u001b[0;32m    <a href='file:///c%3A/Users/oguzk/Desktop/Python%20TextMining/.venv/lib/site-packages/matplotlib/image.py?line=134'>135</a>\u001b[0m     image_group \u001b[39m=\u001b[39m []\n",
      "File \u001b[1;32mc:\\Users\\oguzk\\Desktop\\Python TextMining\\.venv\\lib\\site-packages\\matplotlib\\artist.py:50\u001b[0m, in \u001b[0;36mallow_rasterization.<locals>.draw_wrapper\u001b[1;34m(artist, renderer)\u001b[0m\n\u001b[0;32m     <a href='file:///c%3A/Users/oguzk/Desktop/Python%20TextMining/.venv/lib/site-packages/matplotlib/artist.py?line=46'>47</a>\u001b[0m     \u001b[39mif\u001b[39;00m artist\u001b[39m.\u001b[39mget_agg_filter() \u001b[39mis\u001b[39;00m \u001b[39mnot\u001b[39;00m \u001b[39mNone\u001b[39;00m:\n\u001b[0;32m     <a href='file:///c%3A/Users/oguzk/Desktop/Python%20TextMining/.venv/lib/site-packages/matplotlib/artist.py?line=47'>48</a>\u001b[0m         renderer\u001b[39m.\u001b[39mstart_filter()\n\u001b[1;32m---> <a href='file:///c%3A/Users/oguzk/Desktop/Python%20TextMining/.venv/lib/site-packages/matplotlib/artist.py?line=49'>50</a>\u001b[0m     \u001b[39mreturn\u001b[39;00m draw(artist, renderer)\n\u001b[0;32m     <a href='file:///c%3A/Users/oguzk/Desktop/Python%20TextMining/.venv/lib/site-packages/matplotlib/artist.py?line=50'>51</a>\u001b[0m \u001b[39mfinally\u001b[39;00m:\n\u001b[0;32m     <a href='file:///c%3A/Users/oguzk/Desktop/Python%20TextMining/.venv/lib/site-packages/matplotlib/artist.py?line=51'>52</a>\u001b[0m     \u001b[39mif\u001b[39;00m artist\u001b[39m.\u001b[39mget_agg_filter() \u001b[39mis\u001b[39;00m \u001b[39mnot\u001b[39;00m \u001b[39mNone\u001b[39;00m:\n",
      "File \u001b[1;32mc:\\Users\\oguzk\\Desktop\\Python TextMining\\.venv\\lib\\site-packages\\matplotlib\\axes\\_base.py:3082\u001b[0m, in \u001b[0;36m_AxesBase.draw\u001b[1;34m(self, renderer)\u001b[0m\n\u001b[0;32m   <a href='file:///c%3A/Users/oguzk/Desktop/Python%20TextMining/.venv/lib/site-packages/matplotlib/axes/_base.py?line=3078'>3079</a>\u001b[0m         a\u001b[39m.\u001b[39mdraw(renderer)\n\u001b[0;32m   <a href='file:///c%3A/Users/oguzk/Desktop/Python%20TextMining/.venv/lib/site-packages/matplotlib/axes/_base.py?line=3079'>3080</a>\u001b[0m     renderer\u001b[39m.\u001b[39mstop_rasterizing()\n\u001b[1;32m-> <a href='file:///c%3A/Users/oguzk/Desktop/Python%20TextMining/.venv/lib/site-packages/matplotlib/axes/_base.py?line=3081'>3082</a>\u001b[0m mimage\u001b[39m.\u001b[39;49m_draw_list_compositing_images(\n\u001b[0;32m   <a href='file:///c%3A/Users/oguzk/Desktop/Python%20TextMining/.venv/lib/site-packages/matplotlib/axes/_base.py?line=3082'>3083</a>\u001b[0m     renderer, \u001b[39mself\u001b[39;49m, artists, \u001b[39mself\u001b[39;49m\u001b[39m.\u001b[39;49mfigure\u001b[39m.\u001b[39;49msuppressComposite)\n\u001b[0;32m   <a href='file:///c%3A/Users/oguzk/Desktop/Python%20TextMining/.venv/lib/site-packages/matplotlib/axes/_base.py?line=3084'>3085</a>\u001b[0m renderer\u001b[39m.\u001b[39mclose_group(\u001b[39m'\u001b[39m\u001b[39maxes\u001b[39m\u001b[39m'\u001b[39m)\n\u001b[0;32m   <a href='file:///c%3A/Users/oguzk/Desktop/Python%20TextMining/.venv/lib/site-packages/matplotlib/axes/_base.py?line=3085'>3086</a>\u001b[0m \u001b[39mself\u001b[39m\u001b[39m.\u001b[39mstale \u001b[39m=\u001b[39m \u001b[39mFalse\u001b[39;00m\n",
      "File \u001b[1;32mc:\\Users\\oguzk\\Desktop\\Python TextMining\\.venv\\lib\\site-packages\\matplotlib\\image.py:132\u001b[0m, in \u001b[0;36m_draw_list_compositing_images\u001b[1;34m(renderer, parent, artists, suppress_composite)\u001b[0m\n\u001b[0;32m    <a href='file:///c%3A/Users/oguzk/Desktop/Python%20TextMining/.venv/lib/site-packages/matplotlib/image.py?line=129'>130</a>\u001b[0m \u001b[39mif\u001b[39;00m not_composite \u001b[39mor\u001b[39;00m \u001b[39mnot\u001b[39;00m has_images:\n\u001b[0;32m    <a href='file:///c%3A/Users/oguzk/Desktop/Python%20TextMining/.venv/lib/site-packages/matplotlib/image.py?line=130'>131</a>\u001b[0m     \u001b[39mfor\u001b[39;00m a \u001b[39min\u001b[39;00m artists:\n\u001b[1;32m--> <a href='file:///c%3A/Users/oguzk/Desktop/Python%20TextMining/.venv/lib/site-packages/matplotlib/image.py?line=131'>132</a>\u001b[0m         a\u001b[39m.\u001b[39;49mdraw(renderer)\n\u001b[0;32m    <a href='file:///c%3A/Users/oguzk/Desktop/Python%20TextMining/.venv/lib/site-packages/matplotlib/image.py?line=132'>133</a>\u001b[0m \u001b[39melse\u001b[39;00m:\n\u001b[0;32m    <a href='file:///c%3A/Users/oguzk/Desktop/Python%20TextMining/.venv/lib/site-packages/matplotlib/image.py?line=133'>134</a>\u001b[0m     \u001b[39m# Composite any adjacent images together\u001b[39;00m\n\u001b[0;32m    <a href='file:///c%3A/Users/oguzk/Desktop/Python%20TextMining/.venv/lib/site-packages/matplotlib/image.py?line=134'>135</a>\u001b[0m     image_group \u001b[39m=\u001b[39m []\n",
      "File \u001b[1;32mc:\\Users\\oguzk\\Desktop\\Python TextMining\\.venv\\lib\\site-packages\\matplotlib\\artist.py:50\u001b[0m, in \u001b[0;36mallow_rasterization.<locals>.draw_wrapper\u001b[1;34m(artist, renderer)\u001b[0m\n\u001b[0;32m     <a href='file:///c%3A/Users/oguzk/Desktop/Python%20TextMining/.venv/lib/site-packages/matplotlib/artist.py?line=46'>47</a>\u001b[0m     \u001b[39mif\u001b[39;00m artist\u001b[39m.\u001b[39mget_agg_filter() \u001b[39mis\u001b[39;00m \u001b[39mnot\u001b[39;00m \u001b[39mNone\u001b[39;00m:\n\u001b[0;32m     <a href='file:///c%3A/Users/oguzk/Desktop/Python%20TextMining/.venv/lib/site-packages/matplotlib/artist.py?line=47'>48</a>\u001b[0m         renderer\u001b[39m.\u001b[39mstart_filter()\n\u001b[1;32m---> <a href='file:///c%3A/Users/oguzk/Desktop/Python%20TextMining/.venv/lib/site-packages/matplotlib/artist.py?line=49'>50</a>\u001b[0m     \u001b[39mreturn\u001b[39;00m draw(artist, renderer)\n\u001b[0;32m     <a href='file:///c%3A/Users/oguzk/Desktop/Python%20TextMining/.venv/lib/site-packages/matplotlib/artist.py?line=50'>51</a>\u001b[0m \u001b[39mfinally\u001b[39;00m:\n\u001b[0;32m     <a href='file:///c%3A/Users/oguzk/Desktop/Python%20TextMining/.venv/lib/site-packages/matplotlib/artist.py?line=51'>52</a>\u001b[0m     \u001b[39mif\u001b[39;00m artist\u001b[39m.\u001b[39mget_agg_filter() \u001b[39mis\u001b[39;00m \u001b[39mnot\u001b[39;00m \u001b[39mNone\u001b[39;00m:\n",
      "File \u001b[1;32mc:\\Users\\oguzk\\Desktop\\Python TextMining\\.venv\\lib\\site-packages\\matplotlib\\axis.py:1159\u001b[0m, in \u001b[0;36mAxis.draw\u001b[1;34m(self, renderer, *args, **kwargs)\u001b[0m\n\u001b[0;32m   <a href='file:///c%3A/Users/oguzk/Desktop/Python%20TextMining/.venv/lib/site-packages/matplotlib/axis.py?line=1155'>1156</a>\u001b[0m renderer\u001b[39m.\u001b[39mopen_group(\u001b[39m__name__\u001b[39m, gid\u001b[39m=\u001b[39m\u001b[39mself\u001b[39m\u001b[39m.\u001b[39mget_gid())\n\u001b[0;32m   <a href='file:///c%3A/Users/oguzk/Desktop/Python%20TextMining/.venv/lib/site-packages/matplotlib/axis.py?line=1157'>1158</a>\u001b[0m ticks_to_draw \u001b[39m=\u001b[39m \u001b[39mself\u001b[39m\u001b[39m.\u001b[39m_update_ticks()\n\u001b[1;32m-> <a href='file:///c%3A/Users/oguzk/Desktop/Python%20TextMining/.venv/lib/site-packages/matplotlib/axis.py?line=1158'>1159</a>\u001b[0m ticklabelBoxes, ticklabelBoxes2 \u001b[39m=\u001b[39m \u001b[39mself\u001b[39;49m\u001b[39m.\u001b[39;49m_get_tick_bboxes(ticks_to_draw,\n\u001b[0;32m   <a href='file:///c%3A/Users/oguzk/Desktop/Python%20TextMining/.venv/lib/site-packages/matplotlib/axis.py?line=1159'>1160</a>\u001b[0m                                                         renderer)\n\u001b[0;32m   <a href='file:///c%3A/Users/oguzk/Desktop/Python%20TextMining/.venv/lib/site-packages/matplotlib/axis.py?line=1161'>1162</a>\u001b[0m \u001b[39mfor\u001b[39;00m tick \u001b[39min\u001b[39;00m ticks_to_draw:\n\u001b[0;32m   <a href='file:///c%3A/Users/oguzk/Desktop/Python%20TextMining/.venv/lib/site-packages/matplotlib/axis.py?line=1162'>1163</a>\u001b[0m     tick\u001b[39m.\u001b[39mdraw(renderer)\n",
      "File \u001b[1;32mc:\\Users\\oguzk\\Desktop\\Python TextMining\\.venv\\lib\\site-packages\\matplotlib\\axis.py:1085\u001b[0m, in \u001b[0;36mAxis._get_tick_bboxes\u001b[1;34m(self, ticks, renderer)\u001b[0m\n\u001b[0;32m   <a href='file:///c%3A/Users/oguzk/Desktop/Python%20TextMining/.venv/lib/site-packages/matplotlib/axis.py?line=1082'>1083</a>\u001b[0m \u001b[39mdef\u001b[39;00m \u001b[39m_get_tick_bboxes\u001b[39m(\u001b[39mself\u001b[39m, ticks, renderer):\n\u001b[0;32m   <a href='file:///c%3A/Users/oguzk/Desktop/Python%20TextMining/.venv/lib/site-packages/matplotlib/axis.py?line=1083'>1084</a>\u001b[0m     \u001b[39m\"\"\"Return lists of bboxes for ticks' label1's and label2's.\"\"\"\u001b[39;00m\n\u001b[1;32m-> <a href='file:///c%3A/Users/oguzk/Desktop/Python%20TextMining/.venv/lib/site-packages/matplotlib/axis.py?line=1084'>1085</a>\u001b[0m     \u001b[39mreturn\u001b[39;00m ([tick\u001b[39m.\u001b[39mlabel1\u001b[39m.\u001b[39mget_window_extent(renderer)\n\u001b[0;32m   <a href='file:///c%3A/Users/oguzk/Desktop/Python%20TextMining/.venv/lib/site-packages/matplotlib/axis.py?line=1085'>1086</a>\u001b[0m              \u001b[39mfor\u001b[39;00m tick \u001b[39min\u001b[39;00m ticks \u001b[39mif\u001b[39;00m tick\u001b[39m.\u001b[39mlabel1\u001b[39m.\u001b[39mget_visible()],\n\u001b[0;32m   <a href='file:///c%3A/Users/oguzk/Desktop/Python%20TextMining/.venv/lib/site-packages/matplotlib/axis.py?line=1086'>1087</a>\u001b[0m             [tick\u001b[39m.\u001b[39mlabel2\u001b[39m.\u001b[39mget_window_extent(renderer)\n\u001b[0;32m   <a href='file:///c%3A/Users/oguzk/Desktop/Python%20TextMining/.venv/lib/site-packages/matplotlib/axis.py?line=1087'>1088</a>\u001b[0m              \u001b[39mfor\u001b[39;00m tick \u001b[39min\u001b[39;00m ticks \u001b[39mif\u001b[39;00m tick\u001b[39m.\u001b[39mlabel2\u001b[39m.\u001b[39mget_visible()])\n",
      "File \u001b[1;32mc:\\Users\\oguzk\\Desktop\\Python TextMining\\.venv\\lib\\site-packages\\matplotlib\\axis.py:1085\u001b[0m, in \u001b[0;36m<listcomp>\u001b[1;34m(.0)\u001b[0m\n\u001b[0;32m   <a href='file:///c%3A/Users/oguzk/Desktop/Python%20TextMining/.venv/lib/site-packages/matplotlib/axis.py?line=1082'>1083</a>\u001b[0m \u001b[39mdef\u001b[39;00m \u001b[39m_get_tick_bboxes\u001b[39m(\u001b[39mself\u001b[39m, ticks, renderer):\n\u001b[0;32m   <a href='file:///c%3A/Users/oguzk/Desktop/Python%20TextMining/.venv/lib/site-packages/matplotlib/axis.py?line=1083'>1084</a>\u001b[0m     \u001b[39m\"\"\"Return lists of bboxes for ticks' label1's and label2's.\"\"\"\u001b[39;00m\n\u001b[1;32m-> <a href='file:///c%3A/Users/oguzk/Desktop/Python%20TextMining/.venv/lib/site-packages/matplotlib/axis.py?line=1084'>1085</a>\u001b[0m     \u001b[39mreturn\u001b[39;00m ([tick\u001b[39m.\u001b[39;49mlabel1\u001b[39m.\u001b[39;49mget_window_extent(renderer)\n\u001b[0;32m   <a href='file:///c%3A/Users/oguzk/Desktop/Python%20TextMining/.venv/lib/site-packages/matplotlib/axis.py?line=1085'>1086</a>\u001b[0m              \u001b[39mfor\u001b[39;00m tick \u001b[39min\u001b[39;00m ticks \u001b[39mif\u001b[39;00m tick\u001b[39m.\u001b[39mlabel1\u001b[39m.\u001b[39mget_visible()],\n\u001b[0;32m   <a href='file:///c%3A/Users/oguzk/Desktop/Python%20TextMining/.venv/lib/site-packages/matplotlib/axis.py?line=1086'>1087</a>\u001b[0m             [tick\u001b[39m.\u001b[39mlabel2\u001b[39m.\u001b[39mget_window_extent(renderer)\n\u001b[0;32m   <a href='file:///c%3A/Users/oguzk/Desktop/Python%20TextMining/.venv/lib/site-packages/matplotlib/axis.py?line=1087'>1088</a>\u001b[0m              \u001b[39mfor\u001b[39;00m tick \u001b[39min\u001b[39;00m ticks \u001b[39mif\u001b[39;00m tick\u001b[39m.\u001b[39mlabel2\u001b[39m.\u001b[39mget_visible()])\n",
      "File \u001b[1;32mc:\\Users\\oguzk\\Desktop\\Python TextMining\\.venv\\lib\\site-packages\\matplotlib\\text.py:910\u001b[0m, in \u001b[0;36mText.get_window_extent\u001b[1;34m(self, renderer, dpi)\u001b[0m\n\u001b[0;32m    <a href='file:///c%3A/Users/oguzk/Desktop/Python%20TextMining/.venv/lib/site-packages/matplotlib/text.py?line=906'>907</a>\u001b[0m     \u001b[39mraise\u001b[39;00m \u001b[39mRuntimeError\u001b[39;00m(\u001b[39m'\u001b[39m\u001b[39mCannot get window extent w/o renderer\u001b[39m\u001b[39m'\u001b[39m)\n\u001b[0;32m    <a href='file:///c%3A/Users/oguzk/Desktop/Python%20TextMining/.venv/lib/site-packages/matplotlib/text.py?line=908'>909</a>\u001b[0m \u001b[39mwith\u001b[39;00m cbook\u001b[39m.\u001b[39m_setattr_cm(\u001b[39mself\u001b[39m\u001b[39m.\u001b[39mfigure, dpi\u001b[39m=\u001b[39mdpi):\n\u001b[1;32m--> <a href='file:///c%3A/Users/oguzk/Desktop/Python%20TextMining/.venv/lib/site-packages/matplotlib/text.py?line=909'>910</a>\u001b[0m     bbox, info, descent \u001b[39m=\u001b[39m \u001b[39mself\u001b[39;49m\u001b[39m.\u001b[39;49m_get_layout(\u001b[39mself\u001b[39;49m\u001b[39m.\u001b[39;49m_renderer)\n\u001b[0;32m    <a href='file:///c%3A/Users/oguzk/Desktop/Python%20TextMining/.venv/lib/site-packages/matplotlib/text.py?line=910'>911</a>\u001b[0m     x, y \u001b[39m=\u001b[39m \u001b[39mself\u001b[39m\u001b[39m.\u001b[39mget_unitless_position()\n\u001b[0;32m    <a href='file:///c%3A/Users/oguzk/Desktop/Python%20TextMining/.venv/lib/site-packages/matplotlib/text.py?line=911'>912</a>\u001b[0m     x, y \u001b[39m=\u001b[39m \u001b[39mself\u001b[39m\u001b[39m.\u001b[39mget_transform()\u001b[39m.\u001b[39mtransform((x, y))\n",
      "File \u001b[1;32mc:\\Users\\oguzk\\Desktop\\Python TextMining\\.venv\\lib\\site-packages\\matplotlib\\text.py:309\u001b[0m, in \u001b[0;36mText._get_layout\u001b[1;34m(self, renderer)\u001b[0m\n\u001b[0;32m    <a href='file:///c%3A/Users/oguzk/Desktop/Python%20TextMining/.venv/lib/site-packages/matplotlib/text.py?line=305'>306</a>\u001b[0m ys \u001b[39m=\u001b[39m []\n\u001b[0;32m    <a href='file:///c%3A/Users/oguzk/Desktop/Python%20TextMining/.venv/lib/site-packages/matplotlib/text.py?line=307'>308</a>\u001b[0m \u001b[39m# Full vertical extent of font, including ascenders and descenders:\u001b[39;00m\n\u001b[1;32m--> <a href='file:///c%3A/Users/oguzk/Desktop/Python%20TextMining/.venv/lib/site-packages/matplotlib/text.py?line=308'>309</a>\u001b[0m _, lp_h, lp_d \u001b[39m=\u001b[39m renderer\u001b[39m.\u001b[39;49mget_text_width_height_descent(\n\u001b[0;32m    <a href='file:///c%3A/Users/oguzk/Desktop/Python%20TextMining/.venv/lib/site-packages/matplotlib/text.py?line=309'>310</a>\u001b[0m     \u001b[39m\"\u001b[39;49m\u001b[39mlp\u001b[39;49m\u001b[39m\"\u001b[39;49m, \u001b[39mself\u001b[39;49m\u001b[39m.\u001b[39;49m_fontproperties,\n\u001b[0;32m    <a href='file:///c%3A/Users/oguzk/Desktop/Python%20TextMining/.venv/lib/site-packages/matplotlib/text.py?line=310'>311</a>\u001b[0m     ismath\u001b[39m=\u001b[39;49m\u001b[39m\"\u001b[39;49m\u001b[39mTeX\u001b[39;49m\u001b[39m\"\u001b[39;49m \u001b[39mif\u001b[39;49;00m \u001b[39mself\u001b[39;49m\u001b[39m.\u001b[39;49mget_usetex() \u001b[39melse\u001b[39;49;00m \u001b[39mFalse\u001b[39;49;00m)\n\u001b[0;32m    <a href='file:///c%3A/Users/oguzk/Desktop/Python%20TextMining/.venv/lib/site-packages/matplotlib/text.py?line=311'>312</a>\u001b[0m min_dy \u001b[39m=\u001b[39m (lp_h \u001b[39m-\u001b[39m lp_d) \u001b[39m*\u001b[39m \u001b[39mself\u001b[39m\u001b[39m.\u001b[39m_linespacing\n\u001b[0;32m    <a href='file:///c%3A/Users/oguzk/Desktop/Python%20TextMining/.venv/lib/site-packages/matplotlib/text.py?line=313'>314</a>\u001b[0m \u001b[39mfor\u001b[39;00m i, line \u001b[39min\u001b[39;00m \u001b[39menumerate\u001b[39m(lines):\n",
      "File \u001b[1;32mc:\\Users\\oguzk\\Desktop\\Python TextMining\\.venv\\lib\\site-packages\\matplotlib\\backends\\backend_agg.py:259\u001b[0m, in \u001b[0;36mRendererAgg.get_text_width_height_descent\u001b[1;34m(self, s, prop, ismath)\u001b[0m\n\u001b[0;32m    <a href='file:///c%3A/Users/oguzk/Desktop/Python%20TextMining/.venv/lib/site-packages/matplotlib/backends/backend_agg.py?line=256'>257</a>\u001b[0m     texmanager \u001b[39m=\u001b[39m \u001b[39mself\u001b[39m\u001b[39m.\u001b[39mget_texmanager()\n\u001b[0;32m    <a href='file:///c%3A/Users/oguzk/Desktop/Python%20TextMining/.venv/lib/site-packages/matplotlib/backends/backend_agg.py?line=257'>258</a>\u001b[0m     fontsize \u001b[39m=\u001b[39m prop\u001b[39m.\u001b[39mget_size_in_points()\n\u001b[1;32m--> <a href='file:///c%3A/Users/oguzk/Desktop/Python%20TextMining/.venv/lib/site-packages/matplotlib/backends/backend_agg.py?line=258'>259</a>\u001b[0m     w, h, d \u001b[39m=\u001b[39m texmanager\u001b[39m.\u001b[39;49mget_text_width_height_descent(\n\u001b[0;32m    <a href='file:///c%3A/Users/oguzk/Desktop/Python%20TextMining/.venv/lib/site-packages/matplotlib/backends/backend_agg.py?line=259'>260</a>\u001b[0m         s, fontsize, renderer\u001b[39m=\u001b[39;49m\u001b[39mself\u001b[39;49m)\n\u001b[0;32m    <a href='file:///c%3A/Users/oguzk/Desktop/Python%20TextMining/.venv/lib/site-packages/matplotlib/backends/backend_agg.py?line=260'>261</a>\u001b[0m     \u001b[39mreturn\u001b[39;00m w, h, d\n\u001b[0;32m    <a href='file:///c%3A/Users/oguzk/Desktop/Python%20TextMining/.venv/lib/site-packages/matplotlib/backends/backend_agg.py?line=262'>263</a>\u001b[0m \u001b[39mif\u001b[39;00m ismath:\n",
      "File \u001b[1;32mc:\\Users\\oguzk\\Desktop\\Python TextMining\\.venv\\lib\\site-packages\\matplotlib\\texmanager.py:335\u001b[0m, in \u001b[0;36mTexManager.get_text_width_height_descent\u001b[1;34m(self, tex, fontsize, renderer)\u001b[0m\n\u001b[0;32m    <a href='file:///c%3A/Users/oguzk/Desktop/Python%20TextMining/.venv/lib/site-packages/matplotlib/texmanager.py?line=332'>333</a>\u001b[0m \u001b[39mif\u001b[39;00m tex\u001b[39m.\u001b[39mstrip() \u001b[39m==\u001b[39m \u001b[39m'\u001b[39m\u001b[39m'\u001b[39m:\n\u001b[0;32m    <a href='file:///c%3A/Users/oguzk/Desktop/Python%20TextMining/.venv/lib/site-packages/matplotlib/texmanager.py?line=333'>334</a>\u001b[0m     \u001b[39mreturn\u001b[39;00m \u001b[39m0\u001b[39m, \u001b[39m0\u001b[39m, \u001b[39m0\u001b[39m\n\u001b[1;32m--> <a href='file:///c%3A/Users/oguzk/Desktop/Python%20TextMining/.venv/lib/site-packages/matplotlib/texmanager.py?line=334'>335</a>\u001b[0m dvifile \u001b[39m=\u001b[39m \u001b[39mself\u001b[39;49m\u001b[39m.\u001b[39;49mmake_dvi(tex, fontsize)\n\u001b[0;32m    <a href='file:///c%3A/Users/oguzk/Desktop/Python%20TextMining/.venv/lib/site-packages/matplotlib/texmanager.py?line=335'>336</a>\u001b[0m dpi_fraction \u001b[39m=\u001b[39m renderer\u001b[39m.\u001b[39mpoints_to_pixels(\u001b[39m1.\u001b[39m) \u001b[39mif\u001b[39;00m renderer \u001b[39melse\u001b[39;00m \u001b[39m1\u001b[39m\n\u001b[0;32m    <a href='file:///c%3A/Users/oguzk/Desktop/Python%20TextMining/.venv/lib/site-packages/matplotlib/texmanager.py?line=336'>337</a>\u001b[0m \u001b[39mwith\u001b[39;00m dviread\u001b[39m.\u001b[39mDvi(dvifile, \u001b[39m72\u001b[39m \u001b[39m*\u001b[39m dpi_fraction) \u001b[39mas\u001b[39;00m dvi:\n",
      "File \u001b[1;32mc:\\Users\\oguzk\\Desktop\\Python TextMining\\.venv\\lib\\site-packages\\matplotlib\\texmanager.py:271\u001b[0m, in \u001b[0;36mTexManager.make_dvi\u001b[1;34m(self, tex, fontsize)\u001b[0m\n\u001b[0;32m    <a href='file:///c%3A/Users/oguzk/Desktop/Python%20TextMining/.venv/lib/site-packages/matplotlib/texmanager.py?line=261'>262</a>\u001b[0m     \u001b[39m# Generate the dvi in a temporary directory to avoid race\u001b[39;00m\n\u001b[0;32m    <a href='file:///c%3A/Users/oguzk/Desktop/Python%20TextMining/.venv/lib/site-packages/matplotlib/texmanager.py?line=262'>263</a>\u001b[0m     \u001b[39m# conditions e.g. if multiple processes try to process the same tex\u001b[39;00m\n\u001b[0;32m    <a href='file:///c%3A/Users/oguzk/Desktop/Python%20TextMining/.venv/lib/site-packages/matplotlib/texmanager.py?line=263'>264</a>\u001b[0m     \u001b[39m# string at the same time.  Having tmpdir be a subdirectory of the\u001b[39;00m\n\u001b[1;32m   (...)\u001b[0m\n\u001b[0;32m    <a href='file:///c%3A/Users/oguzk/Desktop/Python%20TextMining/.venv/lib/site-packages/matplotlib/texmanager.py?line=267'>268</a>\u001b[0m     \u001b[39m# the absolute path may contain characters (e.g. ~) that TeX does\u001b[39;00m\n\u001b[0;32m    <a href='file:///c%3A/Users/oguzk/Desktop/Python%20TextMining/.venv/lib/site-packages/matplotlib/texmanager.py?line=268'>269</a>\u001b[0m     \u001b[39m# not support.)\u001b[39;00m\n\u001b[0;32m    <a href='file:///c%3A/Users/oguzk/Desktop/Python%20TextMining/.venv/lib/site-packages/matplotlib/texmanager.py?line=269'>270</a>\u001b[0m     \u001b[39mwith\u001b[39;00m TemporaryDirectory(\u001b[39mdir\u001b[39m\u001b[39m=\u001b[39mPath(dvifile)\u001b[39m.\u001b[39mparent) \u001b[39mas\u001b[39;00m tmpdir:\n\u001b[1;32m--> <a href='file:///c%3A/Users/oguzk/Desktop/Python%20TextMining/.venv/lib/site-packages/matplotlib/texmanager.py?line=270'>271</a>\u001b[0m         \u001b[39mself\u001b[39;49m\u001b[39m.\u001b[39;49m_run_checked_subprocess(\n\u001b[0;32m    <a href='file:///c%3A/Users/oguzk/Desktop/Python%20TextMining/.venv/lib/site-packages/matplotlib/texmanager.py?line=271'>272</a>\u001b[0m             [\u001b[39m\"\u001b[39;49m\u001b[39mlatex\u001b[39;49m\u001b[39m\"\u001b[39;49m, \u001b[39m\"\u001b[39;49m\u001b[39m-interaction=nonstopmode\u001b[39;49m\u001b[39m\"\u001b[39;49m, \u001b[39m\"\u001b[39;49m\u001b[39m--halt-on-error\u001b[39;49m\u001b[39m\"\u001b[39;49m,\n\u001b[0;32m    <a href='file:///c%3A/Users/oguzk/Desktop/Python%20TextMining/.venv/lib/site-packages/matplotlib/texmanager.py?line=272'>273</a>\u001b[0m              \u001b[39mf\u001b[39;49m\u001b[39m\"\u001b[39;49m\u001b[39m../\u001b[39;49m\u001b[39m{\u001b[39;49;00mtexfile\u001b[39m.\u001b[39;49mname\u001b[39m}\u001b[39;49;00m\u001b[39m\"\u001b[39;49m], tex, cwd\u001b[39m=\u001b[39;49mtmpdir)\n\u001b[0;32m    <a href='file:///c%3A/Users/oguzk/Desktop/Python%20TextMining/.venv/lib/site-packages/matplotlib/texmanager.py?line=273'>274</a>\u001b[0m         (Path(tmpdir) \u001b[39m/\u001b[39m Path(dvifile)\u001b[39m.\u001b[39mname)\u001b[39m.\u001b[39mreplace(dvifile)\n\u001b[0;32m    <a href='file:///c%3A/Users/oguzk/Desktop/Python%20TextMining/.venv/lib/site-packages/matplotlib/texmanager.py?line=274'>275</a>\u001b[0m \u001b[39mreturn\u001b[39;00m dvifile\n",
      "File \u001b[1;32mc:\\Users\\oguzk\\Desktop\\Python TextMining\\.venv\\lib\\site-packages\\matplotlib\\texmanager.py:237\u001b[0m, in \u001b[0;36mTexManager._run_checked_subprocess\u001b[1;34m(self, command, tex, cwd)\u001b[0m\n\u001b[0;32m    <a href='file:///c%3A/Users/oguzk/Desktop/Python%20TextMining/.venv/lib/site-packages/matplotlib/texmanager.py?line=232'>233</a>\u001b[0m     report \u001b[39m=\u001b[39m subprocess\u001b[39m.\u001b[39mcheck_output(\n\u001b[0;32m    <a href='file:///c%3A/Users/oguzk/Desktop/Python%20TextMining/.venv/lib/site-packages/matplotlib/texmanager.py?line=233'>234</a>\u001b[0m         command, cwd\u001b[39m=\u001b[39mcwd \u001b[39mif\u001b[39;00m cwd \u001b[39mis\u001b[39;00m \u001b[39mnot\u001b[39;00m \u001b[39mNone\u001b[39;00m \u001b[39melse\u001b[39;00m \u001b[39mself\u001b[39m\u001b[39m.\u001b[39mtexcache,\n\u001b[0;32m    <a href='file:///c%3A/Users/oguzk/Desktop/Python%20TextMining/.venv/lib/site-packages/matplotlib/texmanager.py?line=234'>235</a>\u001b[0m         stderr\u001b[39m=\u001b[39msubprocess\u001b[39m.\u001b[39mSTDOUT)\n\u001b[0;32m    <a href='file:///c%3A/Users/oguzk/Desktop/Python%20TextMining/.venv/lib/site-packages/matplotlib/texmanager.py?line=235'>236</a>\u001b[0m \u001b[39mexcept\u001b[39;00m \u001b[39mFileNotFoundError\u001b[39;00m \u001b[39mas\u001b[39;00m exc:\n\u001b[1;32m--> <a href='file:///c%3A/Users/oguzk/Desktop/Python%20TextMining/.venv/lib/site-packages/matplotlib/texmanager.py?line=236'>237</a>\u001b[0m     \u001b[39mraise\u001b[39;00m \u001b[39mRuntimeError\u001b[39;00m(\n\u001b[0;32m    <a href='file:///c%3A/Users/oguzk/Desktop/Python%20TextMining/.venv/lib/site-packages/matplotlib/texmanager.py?line=237'>238</a>\u001b[0m         \u001b[39m'\u001b[39m\u001b[39mFailed to process string with tex because \u001b[39m\u001b[39m{}\u001b[39;00m\u001b[39m could not be \u001b[39m\u001b[39m'\u001b[39m\n\u001b[0;32m    <a href='file:///c%3A/Users/oguzk/Desktop/Python%20TextMining/.venv/lib/site-packages/matplotlib/texmanager.py?line=238'>239</a>\u001b[0m         \u001b[39m'\u001b[39m\u001b[39mfound\u001b[39m\u001b[39m'\u001b[39m\u001b[39m.\u001b[39mformat(command[\u001b[39m0\u001b[39m])) \u001b[39mfrom\u001b[39;00m \u001b[39mexc\u001b[39;00m\n\u001b[0;32m    <a href='file:///c%3A/Users/oguzk/Desktop/Python%20TextMining/.venv/lib/site-packages/matplotlib/texmanager.py?line=239'>240</a>\u001b[0m \u001b[39mexcept\u001b[39;00m subprocess\u001b[39m.\u001b[39mCalledProcessError \u001b[39mas\u001b[39;00m exc:\n\u001b[0;32m    <a href='file:///c%3A/Users/oguzk/Desktop/Python%20TextMining/.venv/lib/site-packages/matplotlib/texmanager.py?line=240'>241</a>\u001b[0m     \u001b[39mraise\u001b[39;00m \u001b[39mRuntimeError\u001b[39;00m(\n\u001b[0;32m    <a href='file:///c%3A/Users/oguzk/Desktop/Python%20TextMining/.venv/lib/site-packages/matplotlib/texmanager.py?line=241'>242</a>\u001b[0m         \u001b[39m'\u001b[39m\u001b[39m{prog}\u001b[39;00m\u001b[39m was not able to process the following string:\u001b[39m\u001b[39m\\n\u001b[39;00m\u001b[39m'\u001b[39m\n\u001b[0;32m    <a href='file:///c%3A/Users/oguzk/Desktop/Python%20TextMining/.venv/lib/site-packages/matplotlib/texmanager.py?line=242'>243</a>\u001b[0m         \u001b[39m'\u001b[39m\u001b[39m{tex!r}\u001b[39;00m\u001b[39m\\n\u001b[39;00m\u001b[39m\\n\u001b[39;00m\u001b[39m'\u001b[39m\n\u001b[1;32m   (...)\u001b[0m\n\u001b[0;32m    <a href='file:///c%3A/Users/oguzk/Desktop/Python%20TextMining/.venv/lib/site-packages/matplotlib/texmanager.py?line=246'>247</a>\u001b[0m             tex\u001b[39m=\u001b[39mtex\u001b[39m.\u001b[39mencode(\u001b[39m'\u001b[39m\u001b[39municode_escape\u001b[39m\u001b[39m'\u001b[39m),\n\u001b[0;32m    <a href='file:///c%3A/Users/oguzk/Desktop/Python%20TextMining/.venv/lib/site-packages/matplotlib/texmanager.py?line=247'>248</a>\u001b[0m             exc\u001b[39m=\u001b[39mexc\u001b[39m.\u001b[39moutput\u001b[39m.\u001b[39mdecode(\u001b[39m'\u001b[39m\u001b[39mutf-8\u001b[39m\u001b[39m'\u001b[39m))) \u001b[39mfrom\u001b[39;00m \u001b[39mexc\u001b[39;00m\n",
      "\u001b[1;31mRuntimeError\u001b[0m: Failed to process string with tex because latex could not be found"
     ]
    },
    {
     "ename": "RuntimeError",
     "evalue": "Failed to process string with tex because latex could not be found",
     "output_type": "error",
     "traceback": [
      "\u001b[1;31m---------------------------------------------------------------------------\u001b[0m",
      "\u001b[1;31mFileNotFoundError\u001b[0m                         Traceback (most recent call last)",
      "File \u001b[1;32mc:\\Users\\oguzk\\Desktop\\Python TextMining\\.venv\\lib\\site-packages\\matplotlib\\texmanager.py:233\u001b[0m, in \u001b[0;36mTexManager._run_checked_subprocess\u001b[1;34m(self, command, tex, cwd)\u001b[0m\n\u001b[0;32m    <a href='file:///c%3A/Users/oguzk/Desktop/Python%20TextMining/.venv/lib/site-packages/matplotlib/texmanager.py?line=231'>232</a>\u001b[0m \u001b[39mtry\u001b[39;00m:\n\u001b[1;32m--> <a href='file:///c%3A/Users/oguzk/Desktop/Python%20TextMining/.venv/lib/site-packages/matplotlib/texmanager.py?line=232'>233</a>\u001b[0m     report \u001b[39m=\u001b[39m subprocess\u001b[39m.\u001b[39;49mcheck_output(\n\u001b[0;32m    <a href='file:///c%3A/Users/oguzk/Desktop/Python%20TextMining/.venv/lib/site-packages/matplotlib/texmanager.py?line=233'>234</a>\u001b[0m         command, cwd\u001b[39m=\u001b[39;49mcwd \u001b[39mif\u001b[39;49;00m cwd \u001b[39mis\u001b[39;49;00m \u001b[39mnot\u001b[39;49;00m \u001b[39mNone\u001b[39;49;00m \u001b[39melse\u001b[39;49;00m \u001b[39mself\u001b[39;49m\u001b[39m.\u001b[39;49mtexcache,\n\u001b[0;32m    <a href='file:///c%3A/Users/oguzk/Desktop/Python%20TextMining/.venv/lib/site-packages/matplotlib/texmanager.py?line=234'>235</a>\u001b[0m         stderr\u001b[39m=\u001b[39;49msubprocess\u001b[39m.\u001b[39;49mSTDOUT)\n\u001b[0;32m    <a href='file:///c%3A/Users/oguzk/Desktop/Python%20TextMining/.venv/lib/site-packages/matplotlib/texmanager.py?line=235'>236</a>\u001b[0m \u001b[39mexcept\u001b[39;00m \u001b[39mFileNotFoundError\u001b[39;00m \u001b[39mas\u001b[39;00m exc:\n",
      "File \u001b[1;32mC:\\Python39\\lib\\subprocess.py:424\u001b[0m, in \u001b[0;36mcheck_output\u001b[1;34m(timeout, *popenargs, **kwargs)\u001b[0m\n\u001b[0;32m    <a href='file:///c%3A/Python39/lib/subprocess.py?line=421'>422</a>\u001b[0m     kwargs[\u001b[39m'\u001b[39m\u001b[39minput\u001b[39m\u001b[39m'\u001b[39m] \u001b[39m=\u001b[39m empty\n\u001b[1;32m--> <a href='file:///c%3A/Python39/lib/subprocess.py?line=423'>424</a>\u001b[0m \u001b[39mreturn\u001b[39;00m run(\u001b[39m*\u001b[39mpopenargs, stdout\u001b[39m=\u001b[39mPIPE, timeout\u001b[39m=\u001b[39mtimeout, check\u001b[39m=\u001b[39m\u001b[39mTrue\u001b[39;00m,\n\u001b[0;32m    <a href='file:///c%3A/Python39/lib/subprocess.py?line=424'>425</a>\u001b[0m            \u001b[39m*\u001b[39m\u001b[39m*\u001b[39mkwargs)\u001b[39m.\u001b[39mstdout\n",
      "File \u001b[1;32mC:\\Python39\\lib\\subprocess.py:505\u001b[0m, in \u001b[0;36mrun\u001b[1;34m(input, capture_output, timeout, check, *popenargs, **kwargs)\u001b[0m\n\u001b[0;32m    <a href='file:///c%3A/Python39/lib/subprocess.py?line=502'>503</a>\u001b[0m     kwargs[\u001b[39m'\u001b[39m\u001b[39mstderr\u001b[39m\u001b[39m'\u001b[39m] \u001b[39m=\u001b[39m PIPE\n\u001b[1;32m--> <a href='file:///c%3A/Python39/lib/subprocess.py?line=504'>505</a>\u001b[0m \u001b[39mwith\u001b[39;00m Popen(\u001b[39m*\u001b[39mpopenargs, \u001b[39m*\u001b[39m\u001b[39m*\u001b[39mkwargs) \u001b[39mas\u001b[39;00m process:\n\u001b[0;32m    <a href='file:///c%3A/Python39/lib/subprocess.py?line=505'>506</a>\u001b[0m     \u001b[39mtry\u001b[39;00m:\n",
      "File \u001b[1;32mC:\\Python39\\lib\\subprocess.py:951\u001b[0m, in \u001b[0;36mPopen.__init__\u001b[1;34m(self, args, bufsize, executable, stdin, stdout, stderr, preexec_fn, close_fds, shell, cwd, env, universal_newlines, startupinfo, creationflags, restore_signals, start_new_session, pass_fds, user, group, extra_groups, encoding, errors, text, umask)\u001b[0m\n\u001b[0;32m    <a href='file:///c%3A/Python39/lib/subprocess.py?line=947'>948</a>\u001b[0m             \u001b[39mself\u001b[39m\u001b[39m.\u001b[39mstderr \u001b[39m=\u001b[39m io\u001b[39m.\u001b[39mTextIOWrapper(\u001b[39mself\u001b[39m\u001b[39m.\u001b[39mstderr,\n\u001b[0;32m    <a href='file:///c%3A/Python39/lib/subprocess.py?line=948'>949</a>\u001b[0m                     encoding\u001b[39m=\u001b[39mencoding, errors\u001b[39m=\u001b[39merrors)\n\u001b[1;32m--> <a href='file:///c%3A/Python39/lib/subprocess.py?line=950'>951</a>\u001b[0m     \u001b[39mself\u001b[39;49m\u001b[39m.\u001b[39;49m_execute_child(args, executable, preexec_fn, close_fds,\n\u001b[0;32m    <a href='file:///c%3A/Python39/lib/subprocess.py?line=951'>952</a>\u001b[0m                         pass_fds, cwd, env,\n\u001b[0;32m    <a href='file:///c%3A/Python39/lib/subprocess.py?line=952'>953</a>\u001b[0m                         startupinfo, creationflags, shell,\n\u001b[0;32m    <a href='file:///c%3A/Python39/lib/subprocess.py?line=953'>954</a>\u001b[0m                         p2cread, p2cwrite,\n\u001b[0;32m    <a href='file:///c%3A/Python39/lib/subprocess.py?line=954'>955</a>\u001b[0m                         c2pread, c2pwrite,\n\u001b[0;32m    <a href='file:///c%3A/Python39/lib/subprocess.py?line=955'>956</a>\u001b[0m                         errread, errwrite,\n\u001b[0;32m    <a href='file:///c%3A/Python39/lib/subprocess.py?line=956'>957</a>\u001b[0m                         restore_signals,\n\u001b[0;32m    <a href='file:///c%3A/Python39/lib/subprocess.py?line=957'>958</a>\u001b[0m                         gid, gids, uid, umask,\n\u001b[0;32m    <a href='file:///c%3A/Python39/lib/subprocess.py?line=958'>959</a>\u001b[0m                         start_new_session)\n\u001b[0;32m    <a href='file:///c%3A/Python39/lib/subprocess.py?line=959'>960</a>\u001b[0m \u001b[39mexcept\u001b[39;00m:\n\u001b[0;32m    <a href='file:///c%3A/Python39/lib/subprocess.py?line=960'>961</a>\u001b[0m     \u001b[39m# Cleanup if the child failed starting.\u001b[39;00m\n",
      "File \u001b[1;32mC:\\Python39\\lib\\subprocess.py:1420\u001b[0m, in \u001b[0;36mPopen._execute_child\u001b[1;34m(self, args, executable, preexec_fn, close_fds, pass_fds, cwd, env, startupinfo, creationflags, shell, p2cread, p2cwrite, c2pread, c2pwrite, errread, errwrite, unused_restore_signals, unused_gid, unused_gids, unused_uid, unused_umask, unused_start_new_session)\u001b[0m\n\u001b[0;32m   <a href='file:///c%3A/Python39/lib/subprocess.py?line=1418'>1419</a>\u001b[0m \u001b[39mtry\u001b[39;00m:\n\u001b[1;32m-> <a href='file:///c%3A/Python39/lib/subprocess.py?line=1419'>1420</a>\u001b[0m     hp, ht, pid, tid \u001b[39m=\u001b[39m _winapi\u001b[39m.\u001b[39;49mCreateProcess(executable, args,\n\u001b[0;32m   <a href='file:///c%3A/Python39/lib/subprocess.py?line=1420'>1421</a>\u001b[0m                              \u001b[39m# no special security\u001b[39;49;00m\n\u001b[0;32m   <a href='file:///c%3A/Python39/lib/subprocess.py?line=1421'>1422</a>\u001b[0m                              \u001b[39mNone\u001b[39;49;00m, \u001b[39mNone\u001b[39;49;00m,\n\u001b[0;32m   <a href='file:///c%3A/Python39/lib/subprocess.py?line=1422'>1423</a>\u001b[0m                              \u001b[39mint\u001b[39;49m(\u001b[39mnot\u001b[39;49;00m close_fds),\n\u001b[0;32m   <a href='file:///c%3A/Python39/lib/subprocess.py?line=1423'>1424</a>\u001b[0m                              creationflags,\n\u001b[0;32m   <a href='file:///c%3A/Python39/lib/subprocess.py?line=1424'>1425</a>\u001b[0m                              env,\n\u001b[0;32m   <a href='file:///c%3A/Python39/lib/subprocess.py?line=1425'>1426</a>\u001b[0m                              cwd,\n\u001b[0;32m   <a href='file:///c%3A/Python39/lib/subprocess.py?line=1426'>1427</a>\u001b[0m                              startupinfo)\n\u001b[0;32m   <a href='file:///c%3A/Python39/lib/subprocess.py?line=1427'>1428</a>\u001b[0m \u001b[39mfinally\u001b[39;00m:\n\u001b[0;32m   <a href='file:///c%3A/Python39/lib/subprocess.py?line=1428'>1429</a>\u001b[0m     \u001b[39m# Child is launched. Close the parent's copy of those pipe\u001b[39;00m\n\u001b[0;32m   <a href='file:///c%3A/Python39/lib/subprocess.py?line=1429'>1430</a>\u001b[0m     \u001b[39m# handles that only the child should have open.  You need\u001b[39;00m\n\u001b[1;32m   (...)\u001b[0m\n\u001b[0;32m   <a href='file:///c%3A/Python39/lib/subprocess.py?line=1432'>1433</a>\u001b[0m     \u001b[39m# pipe will not close when the child process exits and the\u001b[39;00m\n\u001b[0;32m   <a href='file:///c%3A/Python39/lib/subprocess.py?line=1433'>1434</a>\u001b[0m     \u001b[39m# ReadFile will hang.\u001b[39;00m\n",
      "\u001b[1;31mFileNotFoundError\u001b[0m: [WinError 2] The system cannot find the file specified",
      "\nThe above exception was the direct cause of the following exception:\n",
      "\u001b[1;31mRuntimeError\u001b[0m                              Traceback (most recent call last)",
      "File \u001b[1;32mc:\\Users\\oguzk\\Desktop\\Python TextMining\\.venv\\lib\\site-packages\\IPython\\core\\formatters.py:339\u001b[0m, in \u001b[0;36mBaseFormatter.__call__\u001b[1;34m(self, obj)\u001b[0m\n\u001b[0;32m    <a href='file:///c%3A/Users/oguzk/Desktop/Python%20TextMining/.venv/lib/site-packages/IPython/core/formatters.py?line=336'>337</a>\u001b[0m     \u001b[39mpass\u001b[39;00m\n\u001b[0;32m    <a href='file:///c%3A/Users/oguzk/Desktop/Python%20TextMining/.venv/lib/site-packages/IPython/core/formatters.py?line=337'>338</a>\u001b[0m \u001b[39melse\u001b[39;00m:\n\u001b[1;32m--> <a href='file:///c%3A/Users/oguzk/Desktop/Python%20TextMining/.venv/lib/site-packages/IPython/core/formatters.py?line=338'>339</a>\u001b[0m     \u001b[39mreturn\u001b[39;00m printer(obj)\n\u001b[0;32m    <a href='file:///c%3A/Users/oguzk/Desktop/Python%20TextMining/.venv/lib/site-packages/IPython/core/formatters.py?line=339'>340</a>\u001b[0m \u001b[39m# Finally look for special method names\u001b[39;00m\n\u001b[0;32m    <a href='file:///c%3A/Users/oguzk/Desktop/Python%20TextMining/.venv/lib/site-packages/IPython/core/formatters.py?line=340'>341</a>\u001b[0m method \u001b[39m=\u001b[39m get_real_method(obj, \u001b[39mself\u001b[39m\u001b[39m.\u001b[39mprint_method)\n",
      "File \u001b[1;32mc:\\Users\\oguzk\\Desktop\\Python TextMining\\.venv\\lib\\site-packages\\IPython\\core\\pylabtools.py:151\u001b[0m, in \u001b[0;36mprint_figure\u001b[1;34m(fig, fmt, bbox_inches, base64, **kwargs)\u001b[0m\n\u001b[0;32m    <a href='file:///c%3A/Users/oguzk/Desktop/Python%20TextMining/.venv/lib/site-packages/IPython/core/pylabtools.py?line=147'>148</a>\u001b[0m     \u001b[39mfrom\u001b[39;00m \u001b[39mmatplotlib\u001b[39;00m\u001b[39m.\u001b[39;00m\u001b[39mbackend_bases\u001b[39;00m \u001b[39mimport\u001b[39;00m FigureCanvasBase\n\u001b[0;32m    <a href='file:///c%3A/Users/oguzk/Desktop/Python%20TextMining/.venv/lib/site-packages/IPython/core/pylabtools.py?line=148'>149</a>\u001b[0m     FigureCanvasBase(fig)\n\u001b[1;32m--> <a href='file:///c%3A/Users/oguzk/Desktop/Python%20TextMining/.venv/lib/site-packages/IPython/core/pylabtools.py?line=150'>151</a>\u001b[0m fig\u001b[39m.\u001b[39mcanvas\u001b[39m.\u001b[39mprint_figure(bytes_io, \u001b[39m*\u001b[39m\u001b[39m*\u001b[39mkw)\n\u001b[0;32m    <a href='file:///c%3A/Users/oguzk/Desktop/Python%20TextMining/.venv/lib/site-packages/IPython/core/pylabtools.py?line=151'>152</a>\u001b[0m data \u001b[39m=\u001b[39m bytes_io\u001b[39m.\u001b[39mgetvalue()\n\u001b[0;32m    <a href='file:///c%3A/Users/oguzk/Desktop/Python%20TextMining/.venv/lib/site-packages/IPython/core/pylabtools.py?line=152'>153</a>\u001b[0m \u001b[39mif\u001b[39;00m fmt \u001b[39m==\u001b[39m \u001b[39m'\u001b[39m\u001b[39msvg\u001b[39m\u001b[39m'\u001b[39m:\n",
      "File \u001b[1;32mc:\\Users\\oguzk\\Desktop\\Python TextMining\\.venv\\lib\\site-packages\\matplotlib\\backend_bases.py:2295\u001b[0m, in \u001b[0;36mFigureCanvasBase.print_figure\u001b[1;34m(self, filename, dpi, facecolor, edgecolor, orientation, format, bbox_inches, pad_inches, bbox_extra_artists, backend, **kwargs)\u001b[0m\n\u001b[0;32m   <a href='file:///c%3A/Users/oguzk/Desktop/Python%20TextMining/.venv/lib/site-packages/matplotlib/backend_bases.py?line=2288'>2289</a>\u001b[0m     renderer \u001b[39m=\u001b[39m _get_renderer(\n\u001b[0;32m   <a href='file:///c%3A/Users/oguzk/Desktop/Python%20TextMining/.venv/lib/site-packages/matplotlib/backend_bases.py?line=2289'>2290</a>\u001b[0m         \u001b[39mself\u001b[39m\u001b[39m.\u001b[39mfigure,\n\u001b[0;32m   <a href='file:///c%3A/Users/oguzk/Desktop/Python%20TextMining/.venv/lib/site-packages/matplotlib/backend_bases.py?line=2290'>2291</a>\u001b[0m         functools\u001b[39m.\u001b[39mpartial(\n\u001b[0;32m   <a href='file:///c%3A/Users/oguzk/Desktop/Python%20TextMining/.venv/lib/site-packages/matplotlib/backend_bases.py?line=2291'>2292</a>\u001b[0m             print_method, orientation\u001b[39m=\u001b[39morientation)\n\u001b[0;32m   <a href='file:///c%3A/Users/oguzk/Desktop/Python%20TextMining/.venv/lib/site-packages/matplotlib/backend_bases.py?line=2292'>2293</a>\u001b[0m     )\n\u001b[0;32m   <a href='file:///c%3A/Users/oguzk/Desktop/Python%20TextMining/.venv/lib/site-packages/matplotlib/backend_bases.py?line=2293'>2294</a>\u001b[0m     \u001b[39mwith\u001b[39;00m \u001b[39mgetattr\u001b[39m(renderer, \u001b[39m\"\u001b[39m\u001b[39m_draw_disabled\u001b[39m\u001b[39m\"\u001b[39m, nullcontext)():\n\u001b[1;32m-> <a href='file:///c%3A/Users/oguzk/Desktop/Python%20TextMining/.venv/lib/site-packages/matplotlib/backend_bases.py?line=2294'>2295</a>\u001b[0m         \u001b[39mself\u001b[39;49m\u001b[39m.\u001b[39;49mfigure\u001b[39m.\u001b[39;49mdraw(renderer)\n\u001b[0;32m   <a href='file:///c%3A/Users/oguzk/Desktop/Python%20TextMining/.venv/lib/site-packages/matplotlib/backend_bases.py?line=2296'>2297</a>\u001b[0m \u001b[39mif\u001b[39;00m bbox_inches:\n\u001b[0;32m   <a href='file:///c%3A/Users/oguzk/Desktop/Python%20TextMining/.venv/lib/site-packages/matplotlib/backend_bases.py?line=2297'>2298</a>\u001b[0m     \u001b[39mif\u001b[39;00m bbox_inches \u001b[39m==\u001b[39m \u001b[39m\"\u001b[39m\u001b[39mtight\u001b[39m\u001b[39m\"\u001b[39m:\n",
      "File \u001b[1;32mc:\\Users\\oguzk\\Desktop\\Python TextMining\\.venv\\lib\\site-packages\\matplotlib\\artist.py:73\u001b[0m, in \u001b[0;36m_finalize_rasterization.<locals>.draw_wrapper\u001b[1;34m(artist, renderer, *args, **kwargs)\u001b[0m\n\u001b[0;32m     <a href='file:///c%3A/Users/oguzk/Desktop/Python%20TextMining/.venv/lib/site-packages/matplotlib/artist.py?line=70'>71</a>\u001b[0m \u001b[39m@wraps\u001b[39m(draw)\n\u001b[0;32m     <a href='file:///c%3A/Users/oguzk/Desktop/Python%20TextMining/.venv/lib/site-packages/matplotlib/artist.py?line=71'>72</a>\u001b[0m \u001b[39mdef\u001b[39;00m \u001b[39mdraw_wrapper\u001b[39m(artist, renderer, \u001b[39m*\u001b[39margs, \u001b[39m*\u001b[39m\u001b[39m*\u001b[39mkwargs):\n\u001b[1;32m---> <a href='file:///c%3A/Users/oguzk/Desktop/Python%20TextMining/.venv/lib/site-packages/matplotlib/artist.py?line=72'>73</a>\u001b[0m     result \u001b[39m=\u001b[39m draw(artist, renderer, \u001b[39m*\u001b[39margs, \u001b[39m*\u001b[39m\u001b[39m*\u001b[39mkwargs)\n\u001b[0;32m     <a href='file:///c%3A/Users/oguzk/Desktop/Python%20TextMining/.venv/lib/site-packages/matplotlib/artist.py?line=73'>74</a>\u001b[0m     \u001b[39mif\u001b[39;00m renderer\u001b[39m.\u001b[39m_rasterizing:\n\u001b[0;32m     <a href='file:///c%3A/Users/oguzk/Desktop/Python%20TextMining/.venv/lib/site-packages/matplotlib/artist.py?line=74'>75</a>\u001b[0m         renderer\u001b[39m.\u001b[39mstop_rasterizing()\n",
      "File \u001b[1;32mc:\\Users\\oguzk\\Desktop\\Python TextMining\\.venv\\lib\\site-packages\\matplotlib\\artist.py:50\u001b[0m, in \u001b[0;36mallow_rasterization.<locals>.draw_wrapper\u001b[1;34m(artist, renderer)\u001b[0m\n\u001b[0;32m     <a href='file:///c%3A/Users/oguzk/Desktop/Python%20TextMining/.venv/lib/site-packages/matplotlib/artist.py?line=46'>47</a>\u001b[0m     \u001b[39mif\u001b[39;00m artist\u001b[39m.\u001b[39mget_agg_filter() \u001b[39mis\u001b[39;00m \u001b[39mnot\u001b[39;00m \u001b[39mNone\u001b[39;00m:\n\u001b[0;32m     <a href='file:///c%3A/Users/oguzk/Desktop/Python%20TextMining/.venv/lib/site-packages/matplotlib/artist.py?line=47'>48</a>\u001b[0m         renderer\u001b[39m.\u001b[39mstart_filter()\n\u001b[1;32m---> <a href='file:///c%3A/Users/oguzk/Desktop/Python%20TextMining/.venv/lib/site-packages/matplotlib/artist.py?line=49'>50</a>\u001b[0m     \u001b[39mreturn\u001b[39;00m draw(artist, renderer)\n\u001b[0;32m     <a href='file:///c%3A/Users/oguzk/Desktop/Python%20TextMining/.venv/lib/site-packages/matplotlib/artist.py?line=50'>51</a>\u001b[0m \u001b[39mfinally\u001b[39;00m:\n\u001b[0;32m     <a href='file:///c%3A/Users/oguzk/Desktop/Python%20TextMining/.venv/lib/site-packages/matplotlib/artist.py?line=51'>52</a>\u001b[0m     \u001b[39mif\u001b[39;00m artist\u001b[39m.\u001b[39mget_agg_filter() \u001b[39mis\u001b[39;00m \u001b[39mnot\u001b[39;00m \u001b[39mNone\u001b[39;00m:\n",
      "File \u001b[1;32mc:\\Users\\oguzk\\Desktop\\Python TextMining\\.venv\\lib\\site-packages\\matplotlib\\figure.py:2810\u001b[0m, in \u001b[0;36mFigure.draw\u001b[1;34m(self, renderer)\u001b[0m\n\u001b[0;32m   <a href='file:///c%3A/Users/oguzk/Desktop/Python%20TextMining/.venv/lib/site-packages/matplotlib/figure.py?line=2806'>2807</a>\u001b[0m         \u001b[39m# ValueError can occur when resizing a window.\u001b[39;00m\n\u001b[0;32m   <a href='file:///c%3A/Users/oguzk/Desktop/Python%20TextMining/.venv/lib/site-packages/matplotlib/figure.py?line=2808'>2809</a>\u001b[0m \u001b[39mself\u001b[39m\u001b[39m.\u001b[39mpatch\u001b[39m.\u001b[39mdraw(renderer)\n\u001b[1;32m-> <a href='file:///c%3A/Users/oguzk/Desktop/Python%20TextMining/.venv/lib/site-packages/matplotlib/figure.py?line=2809'>2810</a>\u001b[0m mimage\u001b[39m.\u001b[39;49m_draw_list_compositing_images(\n\u001b[0;32m   <a href='file:///c%3A/Users/oguzk/Desktop/Python%20TextMining/.venv/lib/site-packages/matplotlib/figure.py?line=2810'>2811</a>\u001b[0m     renderer, \u001b[39mself\u001b[39;49m, artists, \u001b[39mself\u001b[39;49m\u001b[39m.\u001b[39;49msuppressComposite)\n\u001b[0;32m   <a href='file:///c%3A/Users/oguzk/Desktop/Python%20TextMining/.venv/lib/site-packages/matplotlib/figure.py?line=2812'>2813</a>\u001b[0m \u001b[39mfor\u001b[39;00m sfig \u001b[39min\u001b[39;00m \u001b[39mself\u001b[39m\u001b[39m.\u001b[39msubfigs:\n\u001b[0;32m   <a href='file:///c%3A/Users/oguzk/Desktop/Python%20TextMining/.venv/lib/site-packages/matplotlib/figure.py?line=2813'>2814</a>\u001b[0m     sfig\u001b[39m.\u001b[39mdraw(renderer)\n",
      "File \u001b[1;32mc:\\Users\\oguzk\\Desktop\\Python TextMining\\.venv\\lib\\site-packages\\matplotlib\\image.py:132\u001b[0m, in \u001b[0;36m_draw_list_compositing_images\u001b[1;34m(renderer, parent, artists, suppress_composite)\u001b[0m\n\u001b[0;32m    <a href='file:///c%3A/Users/oguzk/Desktop/Python%20TextMining/.venv/lib/site-packages/matplotlib/image.py?line=129'>130</a>\u001b[0m \u001b[39mif\u001b[39;00m not_composite \u001b[39mor\u001b[39;00m \u001b[39mnot\u001b[39;00m has_images:\n\u001b[0;32m    <a href='file:///c%3A/Users/oguzk/Desktop/Python%20TextMining/.venv/lib/site-packages/matplotlib/image.py?line=130'>131</a>\u001b[0m     \u001b[39mfor\u001b[39;00m a \u001b[39min\u001b[39;00m artists:\n\u001b[1;32m--> <a href='file:///c%3A/Users/oguzk/Desktop/Python%20TextMining/.venv/lib/site-packages/matplotlib/image.py?line=131'>132</a>\u001b[0m         a\u001b[39m.\u001b[39;49mdraw(renderer)\n\u001b[0;32m    <a href='file:///c%3A/Users/oguzk/Desktop/Python%20TextMining/.venv/lib/site-packages/matplotlib/image.py?line=132'>133</a>\u001b[0m \u001b[39melse\u001b[39;00m:\n\u001b[0;32m    <a href='file:///c%3A/Users/oguzk/Desktop/Python%20TextMining/.venv/lib/site-packages/matplotlib/image.py?line=133'>134</a>\u001b[0m     \u001b[39m# Composite any adjacent images together\u001b[39;00m\n\u001b[0;32m    <a href='file:///c%3A/Users/oguzk/Desktop/Python%20TextMining/.venv/lib/site-packages/matplotlib/image.py?line=134'>135</a>\u001b[0m     image_group \u001b[39m=\u001b[39m []\n",
      "File \u001b[1;32mc:\\Users\\oguzk\\Desktop\\Python TextMining\\.venv\\lib\\site-packages\\matplotlib\\artist.py:50\u001b[0m, in \u001b[0;36mallow_rasterization.<locals>.draw_wrapper\u001b[1;34m(artist, renderer)\u001b[0m\n\u001b[0;32m     <a href='file:///c%3A/Users/oguzk/Desktop/Python%20TextMining/.venv/lib/site-packages/matplotlib/artist.py?line=46'>47</a>\u001b[0m     \u001b[39mif\u001b[39;00m artist\u001b[39m.\u001b[39mget_agg_filter() \u001b[39mis\u001b[39;00m \u001b[39mnot\u001b[39;00m \u001b[39mNone\u001b[39;00m:\n\u001b[0;32m     <a href='file:///c%3A/Users/oguzk/Desktop/Python%20TextMining/.venv/lib/site-packages/matplotlib/artist.py?line=47'>48</a>\u001b[0m         renderer\u001b[39m.\u001b[39mstart_filter()\n\u001b[1;32m---> <a href='file:///c%3A/Users/oguzk/Desktop/Python%20TextMining/.venv/lib/site-packages/matplotlib/artist.py?line=49'>50</a>\u001b[0m     \u001b[39mreturn\u001b[39;00m draw(artist, renderer)\n\u001b[0;32m     <a href='file:///c%3A/Users/oguzk/Desktop/Python%20TextMining/.venv/lib/site-packages/matplotlib/artist.py?line=50'>51</a>\u001b[0m \u001b[39mfinally\u001b[39;00m:\n\u001b[0;32m     <a href='file:///c%3A/Users/oguzk/Desktop/Python%20TextMining/.venv/lib/site-packages/matplotlib/artist.py?line=51'>52</a>\u001b[0m     \u001b[39mif\u001b[39;00m artist\u001b[39m.\u001b[39mget_agg_filter() \u001b[39mis\u001b[39;00m \u001b[39mnot\u001b[39;00m \u001b[39mNone\u001b[39;00m:\n",
      "File \u001b[1;32mc:\\Users\\oguzk\\Desktop\\Python TextMining\\.venv\\lib\\site-packages\\matplotlib\\axes\\_base.py:3082\u001b[0m, in \u001b[0;36m_AxesBase.draw\u001b[1;34m(self, renderer)\u001b[0m\n\u001b[0;32m   <a href='file:///c%3A/Users/oguzk/Desktop/Python%20TextMining/.venv/lib/site-packages/matplotlib/axes/_base.py?line=3078'>3079</a>\u001b[0m         a\u001b[39m.\u001b[39mdraw(renderer)\n\u001b[0;32m   <a href='file:///c%3A/Users/oguzk/Desktop/Python%20TextMining/.venv/lib/site-packages/matplotlib/axes/_base.py?line=3079'>3080</a>\u001b[0m     renderer\u001b[39m.\u001b[39mstop_rasterizing()\n\u001b[1;32m-> <a href='file:///c%3A/Users/oguzk/Desktop/Python%20TextMining/.venv/lib/site-packages/matplotlib/axes/_base.py?line=3081'>3082</a>\u001b[0m mimage\u001b[39m.\u001b[39;49m_draw_list_compositing_images(\n\u001b[0;32m   <a href='file:///c%3A/Users/oguzk/Desktop/Python%20TextMining/.venv/lib/site-packages/matplotlib/axes/_base.py?line=3082'>3083</a>\u001b[0m     renderer, \u001b[39mself\u001b[39;49m, artists, \u001b[39mself\u001b[39;49m\u001b[39m.\u001b[39;49mfigure\u001b[39m.\u001b[39;49msuppressComposite)\n\u001b[0;32m   <a href='file:///c%3A/Users/oguzk/Desktop/Python%20TextMining/.venv/lib/site-packages/matplotlib/axes/_base.py?line=3084'>3085</a>\u001b[0m renderer\u001b[39m.\u001b[39mclose_group(\u001b[39m'\u001b[39m\u001b[39maxes\u001b[39m\u001b[39m'\u001b[39m)\n\u001b[0;32m   <a href='file:///c%3A/Users/oguzk/Desktop/Python%20TextMining/.venv/lib/site-packages/matplotlib/axes/_base.py?line=3085'>3086</a>\u001b[0m \u001b[39mself\u001b[39m\u001b[39m.\u001b[39mstale \u001b[39m=\u001b[39m \u001b[39mFalse\u001b[39;00m\n",
      "File \u001b[1;32mc:\\Users\\oguzk\\Desktop\\Python TextMining\\.venv\\lib\\site-packages\\matplotlib\\image.py:132\u001b[0m, in \u001b[0;36m_draw_list_compositing_images\u001b[1;34m(renderer, parent, artists, suppress_composite)\u001b[0m\n\u001b[0;32m    <a href='file:///c%3A/Users/oguzk/Desktop/Python%20TextMining/.venv/lib/site-packages/matplotlib/image.py?line=129'>130</a>\u001b[0m \u001b[39mif\u001b[39;00m not_composite \u001b[39mor\u001b[39;00m \u001b[39mnot\u001b[39;00m has_images:\n\u001b[0;32m    <a href='file:///c%3A/Users/oguzk/Desktop/Python%20TextMining/.venv/lib/site-packages/matplotlib/image.py?line=130'>131</a>\u001b[0m     \u001b[39mfor\u001b[39;00m a \u001b[39min\u001b[39;00m artists:\n\u001b[1;32m--> <a href='file:///c%3A/Users/oguzk/Desktop/Python%20TextMining/.venv/lib/site-packages/matplotlib/image.py?line=131'>132</a>\u001b[0m         a\u001b[39m.\u001b[39;49mdraw(renderer)\n\u001b[0;32m    <a href='file:///c%3A/Users/oguzk/Desktop/Python%20TextMining/.venv/lib/site-packages/matplotlib/image.py?line=132'>133</a>\u001b[0m \u001b[39melse\u001b[39;00m:\n\u001b[0;32m    <a href='file:///c%3A/Users/oguzk/Desktop/Python%20TextMining/.venv/lib/site-packages/matplotlib/image.py?line=133'>134</a>\u001b[0m     \u001b[39m# Composite any adjacent images together\u001b[39;00m\n\u001b[0;32m    <a href='file:///c%3A/Users/oguzk/Desktop/Python%20TextMining/.venv/lib/site-packages/matplotlib/image.py?line=134'>135</a>\u001b[0m     image_group \u001b[39m=\u001b[39m []\n",
      "File \u001b[1;32mc:\\Users\\oguzk\\Desktop\\Python TextMining\\.venv\\lib\\site-packages\\matplotlib\\artist.py:50\u001b[0m, in \u001b[0;36mallow_rasterization.<locals>.draw_wrapper\u001b[1;34m(artist, renderer)\u001b[0m\n\u001b[0;32m     <a href='file:///c%3A/Users/oguzk/Desktop/Python%20TextMining/.venv/lib/site-packages/matplotlib/artist.py?line=46'>47</a>\u001b[0m     \u001b[39mif\u001b[39;00m artist\u001b[39m.\u001b[39mget_agg_filter() \u001b[39mis\u001b[39;00m \u001b[39mnot\u001b[39;00m \u001b[39mNone\u001b[39;00m:\n\u001b[0;32m     <a href='file:///c%3A/Users/oguzk/Desktop/Python%20TextMining/.venv/lib/site-packages/matplotlib/artist.py?line=47'>48</a>\u001b[0m         renderer\u001b[39m.\u001b[39mstart_filter()\n\u001b[1;32m---> <a href='file:///c%3A/Users/oguzk/Desktop/Python%20TextMining/.venv/lib/site-packages/matplotlib/artist.py?line=49'>50</a>\u001b[0m     \u001b[39mreturn\u001b[39;00m draw(artist, renderer)\n\u001b[0;32m     <a href='file:///c%3A/Users/oguzk/Desktop/Python%20TextMining/.venv/lib/site-packages/matplotlib/artist.py?line=50'>51</a>\u001b[0m \u001b[39mfinally\u001b[39;00m:\n\u001b[0;32m     <a href='file:///c%3A/Users/oguzk/Desktop/Python%20TextMining/.venv/lib/site-packages/matplotlib/artist.py?line=51'>52</a>\u001b[0m     \u001b[39mif\u001b[39;00m artist\u001b[39m.\u001b[39mget_agg_filter() \u001b[39mis\u001b[39;00m \u001b[39mnot\u001b[39;00m \u001b[39mNone\u001b[39;00m:\n",
      "File \u001b[1;32mc:\\Users\\oguzk\\Desktop\\Python TextMining\\.venv\\lib\\site-packages\\matplotlib\\axis.py:1159\u001b[0m, in \u001b[0;36mAxis.draw\u001b[1;34m(self, renderer, *args, **kwargs)\u001b[0m\n\u001b[0;32m   <a href='file:///c%3A/Users/oguzk/Desktop/Python%20TextMining/.venv/lib/site-packages/matplotlib/axis.py?line=1155'>1156</a>\u001b[0m renderer\u001b[39m.\u001b[39mopen_group(\u001b[39m__name__\u001b[39m, gid\u001b[39m=\u001b[39m\u001b[39mself\u001b[39m\u001b[39m.\u001b[39mget_gid())\n\u001b[0;32m   <a href='file:///c%3A/Users/oguzk/Desktop/Python%20TextMining/.venv/lib/site-packages/matplotlib/axis.py?line=1157'>1158</a>\u001b[0m ticks_to_draw \u001b[39m=\u001b[39m \u001b[39mself\u001b[39m\u001b[39m.\u001b[39m_update_ticks()\n\u001b[1;32m-> <a href='file:///c%3A/Users/oguzk/Desktop/Python%20TextMining/.venv/lib/site-packages/matplotlib/axis.py?line=1158'>1159</a>\u001b[0m ticklabelBoxes, ticklabelBoxes2 \u001b[39m=\u001b[39m \u001b[39mself\u001b[39;49m\u001b[39m.\u001b[39;49m_get_tick_bboxes(ticks_to_draw,\n\u001b[0;32m   <a href='file:///c%3A/Users/oguzk/Desktop/Python%20TextMining/.venv/lib/site-packages/matplotlib/axis.py?line=1159'>1160</a>\u001b[0m                                                         renderer)\n\u001b[0;32m   <a href='file:///c%3A/Users/oguzk/Desktop/Python%20TextMining/.venv/lib/site-packages/matplotlib/axis.py?line=1161'>1162</a>\u001b[0m \u001b[39mfor\u001b[39;00m tick \u001b[39min\u001b[39;00m ticks_to_draw:\n\u001b[0;32m   <a href='file:///c%3A/Users/oguzk/Desktop/Python%20TextMining/.venv/lib/site-packages/matplotlib/axis.py?line=1162'>1163</a>\u001b[0m     tick\u001b[39m.\u001b[39mdraw(renderer)\n",
      "File \u001b[1;32mc:\\Users\\oguzk\\Desktop\\Python TextMining\\.venv\\lib\\site-packages\\matplotlib\\axis.py:1085\u001b[0m, in \u001b[0;36mAxis._get_tick_bboxes\u001b[1;34m(self, ticks, renderer)\u001b[0m\n\u001b[0;32m   <a href='file:///c%3A/Users/oguzk/Desktop/Python%20TextMining/.venv/lib/site-packages/matplotlib/axis.py?line=1082'>1083</a>\u001b[0m \u001b[39mdef\u001b[39;00m \u001b[39m_get_tick_bboxes\u001b[39m(\u001b[39mself\u001b[39m, ticks, renderer):\n\u001b[0;32m   <a href='file:///c%3A/Users/oguzk/Desktop/Python%20TextMining/.venv/lib/site-packages/matplotlib/axis.py?line=1083'>1084</a>\u001b[0m     \u001b[39m\"\"\"Return lists of bboxes for ticks' label1's and label2's.\"\"\"\u001b[39;00m\n\u001b[1;32m-> <a href='file:///c%3A/Users/oguzk/Desktop/Python%20TextMining/.venv/lib/site-packages/matplotlib/axis.py?line=1084'>1085</a>\u001b[0m     \u001b[39mreturn\u001b[39;00m ([tick\u001b[39m.\u001b[39mlabel1\u001b[39m.\u001b[39mget_window_extent(renderer)\n\u001b[0;32m   <a href='file:///c%3A/Users/oguzk/Desktop/Python%20TextMining/.venv/lib/site-packages/matplotlib/axis.py?line=1085'>1086</a>\u001b[0m              \u001b[39mfor\u001b[39;00m tick \u001b[39min\u001b[39;00m ticks \u001b[39mif\u001b[39;00m tick\u001b[39m.\u001b[39mlabel1\u001b[39m.\u001b[39mget_visible()],\n\u001b[0;32m   <a href='file:///c%3A/Users/oguzk/Desktop/Python%20TextMining/.venv/lib/site-packages/matplotlib/axis.py?line=1086'>1087</a>\u001b[0m             [tick\u001b[39m.\u001b[39mlabel2\u001b[39m.\u001b[39mget_window_extent(renderer)\n\u001b[0;32m   <a href='file:///c%3A/Users/oguzk/Desktop/Python%20TextMining/.venv/lib/site-packages/matplotlib/axis.py?line=1087'>1088</a>\u001b[0m              \u001b[39mfor\u001b[39;00m tick \u001b[39min\u001b[39;00m ticks \u001b[39mif\u001b[39;00m tick\u001b[39m.\u001b[39mlabel2\u001b[39m.\u001b[39mget_visible()])\n",
      "File \u001b[1;32mc:\\Users\\oguzk\\Desktop\\Python TextMining\\.venv\\lib\\site-packages\\matplotlib\\axis.py:1085\u001b[0m, in \u001b[0;36m<listcomp>\u001b[1;34m(.0)\u001b[0m\n\u001b[0;32m   <a href='file:///c%3A/Users/oguzk/Desktop/Python%20TextMining/.venv/lib/site-packages/matplotlib/axis.py?line=1082'>1083</a>\u001b[0m \u001b[39mdef\u001b[39;00m \u001b[39m_get_tick_bboxes\u001b[39m(\u001b[39mself\u001b[39m, ticks, renderer):\n\u001b[0;32m   <a href='file:///c%3A/Users/oguzk/Desktop/Python%20TextMining/.venv/lib/site-packages/matplotlib/axis.py?line=1083'>1084</a>\u001b[0m     \u001b[39m\"\"\"Return lists of bboxes for ticks' label1's and label2's.\"\"\"\u001b[39;00m\n\u001b[1;32m-> <a href='file:///c%3A/Users/oguzk/Desktop/Python%20TextMining/.venv/lib/site-packages/matplotlib/axis.py?line=1084'>1085</a>\u001b[0m     \u001b[39mreturn\u001b[39;00m ([tick\u001b[39m.\u001b[39;49mlabel1\u001b[39m.\u001b[39;49mget_window_extent(renderer)\n\u001b[0;32m   <a href='file:///c%3A/Users/oguzk/Desktop/Python%20TextMining/.venv/lib/site-packages/matplotlib/axis.py?line=1085'>1086</a>\u001b[0m              \u001b[39mfor\u001b[39;00m tick \u001b[39min\u001b[39;00m ticks \u001b[39mif\u001b[39;00m tick\u001b[39m.\u001b[39mlabel1\u001b[39m.\u001b[39mget_visible()],\n\u001b[0;32m   <a href='file:///c%3A/Users/oguzk/Desktop/Python%20TextMining/.venv/lib/site-packages/matplotlib/axis.py?line=1086'>1087</a>\u001b[0m             [tick\u001b[39m.\u001b[39mlabel2\u001b[39m.\u001b[39mget_window_extent(renderer)\n\u001b[0;32m   <a href='file:///c%3A/Users/oguzk/Desktop/Python%20TextMining/.venv/lib/site-packages/matplotlib/axis.py?line=1087'>1088</a>\u001b[0m              \u001b[39mfor\u001b[39;00m tick \u001b[39min\u001b[39;00m ticks \u001b[39mif\u001b[39;00m tick\u001b[39m.\u001b[39mlabel2\u001b[39m.\u001b[39mget_visible()])\n",
      "File \u001b[1;32mc:\\Users\\oguzk\\Desktop\\Python TextMining\\.venv\\lib\\site-packages\\matplotlib\\text.py:910\u001b[0m, in \u001b[0;36mText.get_window_extent\u001b[1;34m(self, renderer, dpi)\u001b[0m\n\u001b[0;32m    <a href='file:///c%3A/Users/oguzk/Desktop/Python%20TextMining/.venv/lib/site-packages/matplotlib/text.py?line=906'>907</a>\u001b[0m     \u001b[39mraise\u001b[39;00m \u001b[39mRuntimeError\u001b[39;00m(\u001b[39m'\u001b[39m\u001b[39mCannot get window extent w/o renderer\u001b[39m\u001b[39m'\u001b[39m)\n\u001b[0;32m    <a href='file:///c%3A/Users/oguzk/Desktop/Python%20TextMining/.venv/lib/site-packages/matplotlib/text.py?line=908'>909</a>\u001b[0m \u001b[39mwith\u001b[39;00m cbook\u001b[39m.\u001b[39m_setattr_cm(\u001b[39mself\u001b[39m\u001b[39m.\u001b[39mfigure, dpi\u001b[39m=\u001b[39mdpi):\n\u001b[1;32m--> <a href='file:///c%3A/Users/oguzk/Desktop/Python%20TextMining/.venv/lib/site-packages/matplotlib/text.py?line=909'>910</a>\u001b[0m     bbox, info, descent \u001b[39m=\u001b[39m \u001b[39mself\u001b[39;49m\u001b[39m.\u001b[39;49m_get_layout(\u001b[39mself\u001b[39;49m\u001b[39m.\u001b[39;49m_renderer)\n\u001b[0;32m    <a href='file:///c%3A/Users/oguzk/Desktop/Python%20TextMining/.venv/lib/site-packages/matplotlib/text.py?line=910'>911</a>\u001b[0m     x, y \u001b[39m=\u001b[39m \u001b[39mself\u001b[39m\u001b[39m.\u001b[39mget_unitless_position()\n\u001b[0;32m    <a href='file:///c%3A/Users/oguzk/Desktop/Python%20TextMining/.venv/lib/site-packages/matplotlib/text.py?line=911'>912</a>\u001b[0m     x, y \u001b[39m=\u001b[39m \u001b[39mself\u001b[39m\u001b[39m.\u001b[39mget_transform()\u001b[39m.\u001b[39mtransform((x, y))\n",
      "File \u001b[1;32mc:\\Users\\oguzk\\Desktop\\Python TextMining\\.venv\\lib\\site-packages\\matplotlib\\text.py:309\u001b[0m, in \u001b[0;36mText._get_layout\u001b[1;34m(self, renderer)\u001b[0m\n\u001b[0;32m    <a href='file:///c%3A/Users/oguzk/Desktop/Python%20TextMining/.venv/lib/site-packages/matplotlib/text.py?line=305'>306</a>\u001b[0m ys \u001b[39m=\u001b[39m []\n\u001b[0;32m    <a href='file:///c%3A/Users/oguzk/Desktop/Python%20TextMining/.venv/lib/site-packages/matplotlib/text.py?line=307'>308</a>\u001b[0m \u001b[39m# Full vertical extent of font, including ascenders and descenders:\u001b[39;00m\n\u001b[1;32m--> <a href='file:///c%3A/Users/oguzk/Desktop/Python%20TextMining/.venv/lib/site-packages/matplotlib/text.py?line=308'>309</a>\u001b[0m _, lp_h, lp_d \u001b[39m=\u001b[39m renderer\u001b[39m.\u001b[39;49mget_text_width_height_descent(\n\u001b[0;32m    <a href='file:///c%3A/Users/oguzk/Desktop/Python%20TextMining/.venv/lib/site-packages/matplotlib/text.py?line=309'>310</a>\u001b[0m     \u001b[39m\"\u001b[39;49m\u001b[39mlp\u001b[39;49m\u001b[39m\"\u001b[39;49m, \u001b[39mself\u001b[39;49m\u001b[39m.\u001b[39;49m_fontproperties,\n\u001b[0;32m    <a href='file:///c%3A/Users/oguzk/Desktop/Python%20TextMining/.venv/lib/site-packages/matplotlib/text.py?line=310'>311</a>\u001b[0m     ismath\u001b[39m=\u001b[39;49m\u001b[39m\"\u001b[39;49m\u001b[39mTeX\u001b[39;49m\u001b[39m\"\u001b[39;49m \u001b[39mif\u001b[39;49;00m \u001b[39mself\u001b[39;49m\u001b[39m.\u001b[39;49mget_usetex() \u001b[39melse\u001b[39;49;00m \u001b[39mFalse\u001b[39;49;00m)\n\u001b[0;32m    <a href='file:///c%3A/Users/oguzk/Desktop/Python%20TextMining/.venv/lib/site-packages/matplotlib/text.py?line=311'>312</a>\u001b[0m min_dy \u001b[39m=\u001b[39m (lp_h \u001b[39m-\u001b[39m lp_d) \u001b[39m*\u001b[39m \u001b[39mself\u001b[39m\u001b[39m.\u001b[39m_linespacing\n\u001b[0;32m    <a href='file:///c%3A/Users/oguzk/Desktop/Python%20TextMining/.venv/lib/site-packages/matplotlib/text.py?line=313'>314</a>\u001b[0m \u001b[39mfor\u001b[39;00m i, line \u001b[39min\u001b[39;00m \u001b[39menumerate\u001b[39m(lines):\n",
      "File \u001b[1;32mc:\\Users\\oguzk\\Desktop\\Python TextMining\\.venv\\lib\\site-packages\\matplotlib\\backends\\backend_agg.py:259\u001b[0m, in \u001b[0;36mRendererAgg.get_text_width_height_descent\u001b[1;34m(self, s, prop, ismath)\u001b[0m\n\u001b[0;32m    <a href='file:///c%3A/Users/oguzk/Desktop/Python%20TextMining/.venv/lib/site-packages/matplotlib/backends/backend_agg.py?line=256'>257</a>\u001b[0m     texmanager \u001b[39m=\u001b[39m \u001b[39mself\u001b[39m\u001b[39m.\u001b[39mget_texmanager()\n\u001b[0;32m    <a href='file:///c%3A/Users/oguzk/Desktop/Python%20TextMining/.venv/lib/site-packages/matplotlib/backends/backend_agg.py?line=257'>258</a>\u001b[0m     fontsize \u001b[39m=\u001b[39m prop\u001b[39m.\u001b[39mget_size_in_points()\n\u001b[1;32m--> <a href='file:///c%3A/Users/oguzk/Desktop/Python%20TextMining/.venv/lib/site-packages/matplotlib/backends/backend_agg.py?line=258'>259</a>\u001b[0m     w, h, d \u001b[39m=\u001b[39m texmanager\u001b[39m.\u001b[39;49mget_text_width_height_descent(\n\u001b[0;32m    <a href='file:///c%3A/Users/oguzk/Desktop/Python%20TextMining/.venv/lib/site-packages/matplotlib/backends/backend_agg.py?line=259'>260</a>\u001b[0m         s, fontsize, renderer\u001b[39m=\u001b[39;49m\u001b[39mself\u001b[39;49m)\n\u001b[0;32m    <a href='file:///c%3A/Users/oguzk/Desktop/Python%20TextMining/.venv/lib/site-packages/matplotlib/backends/backend_agg.py?line=260'>261</a>\u001b[0m     \u001b[39mreturn\u001b[39;00m w, h, d\n\u001b[0;32m    <a href='file:///c%3A/Users/oguzk/Desktop/Python%20TextMining/.venv/lib/site-packages/matplotlib/backends/backend_agg.py?line=262'>263</a>\u001b[0m \u001b[39mif\u001b[39;00m ismath:\n",
      "File \u001b[1;32mc:\\Users\\oguzk\\Desktop\\Python TextMining\\.venv\\lib\\site-packages\\matplotlib\\texmanager.py:335\u001b[0m, in \u001b[0;36mTexManager.get_text_width_height_descent\u001b[1;34m(self, tex, fontsize, renderer)\u001b[0m\n\u001b[0;32m    <a href='file:///c%3A/Users/oguzk/Desktop/Python%20TextMining/.venv/lib/site-packages/matplotlib/texmanager.py?line=332'>333</a>\u001b[0m \u001b[39mif\u001b[39;00m tex\u001b[39m.\u001b[39mstrip() \u001b[39m==\u001b[39m \u001b[39m'\u001b[39m\u001b[39m'\u001b[39m:\n\u001b[0;32m    <a href='file:///c%3A/Users/oguzk/Desktop/Python%20TextMining/.venv/lib/site-packages/matplotlib/texmanager.py?line=333'>334</a>\u001b[0m     \u001b[39mreturn\u001b[39;00m \u001b[39m0\u001b[39m, \u001b[39m0\u001b[39m, \u001b[39m0\u001b[39m\n\u001b[1;32m--> <a href='file:///c%3A/Users/oguzk/Desktop/Python%20TextMining/.venv/lib/site-packages/matplotlib/texmanager.py?line=334'>335</a>\u001b[0m dvifile \u001b[39m=\u001b[39m \u001b[39mself\u001b[39;49m\u001b[39m.\u001b[39;49mmake_dvi(tex, fontsize)\n\u001b[0;32m    <a href='file:///c%3A/Users/oguzk/Desktop/Python%20TextMining/.venv/lib/site-packages/matplotlib/texmanager.py?line=335'>336</a>\u001b[0m dpi_fraction \u001b[39m=\u001b[39m renderer\u001b[39m.\u001b[39mpoints_to_pixels(\u001b[39m1.\u001b[39m) \u001b[39mif\u001b[39;00m renderer \u001b[39melse\u001b[39;00m \u001b[39m1\u001b[39m\n\u001b[0;32m    <a href='file:///c%3A/Users/oguzk/Desktop/Python%20TextMining/.venv/lib/site-packages/matplotlib/texmanager.py?line=336'>337</a>\u001b[0m \u001b[39mwith\u001b[39;00m dviread\u001b[39m.\u001b[39mDvi(dvifile, \u001b[39m72\u001b[39m \u001b[39m*\u001b[39m dpi_fraction) \u001b[39mas\u001b[39;00m dvi:\n",
      "File \u001b[1;32mc:\\Users\\oguzk\\Desktop\\Python TextMining\\.venv\\lib\\site-packages\\matplotlib\\texmanager.py:271\u001b[0m, in \u001b[0;36mTexManager.make_dvi\u001b[1;34m(self, tex, fontsize)\u001b[0m\n\u001b[0;32m    <a href='file:///c%3A/Users/oguzk/Desktop/Python%20TextMining/.venv/lib/site-packages/matplotlib/texmanager.py?line=261'>262</a>\u001b[0m     \u001b[39m# Generate the dvi in a temporary directory to avoid race\u001b[39;00m\n\u001b[0;32m    <a href='file:///c%3A/Users/oguzk/Desktop/Python%20TextMining/.venv/lib/site-packages/matplotlib/texmanager.py?line=262'>263</a>\u001b[0m     \u001b[39m# conditions e.g. if multiple processes try to process the same tex\u001b[39;00m\n\u001b[0;32m    <a href='file:///c%3A/Users/oguzk/Desktop/Python%20TextMining/.venv/lib/site-packages/matplotlib/texmanager.py?line=263'>264</a>\u001b[0m     \u001b[39m# string at the same time.  Having tmpdir be a subdirectory of the\u001b[39;00m\n\u001b[1;32m   (...)\u001b[0m\n\u001b[0;32m    <a href='file:///c%3A/Users/oguzk/Desktop/Python%20TextMining/.venv/lib/site-packages/matplotlib/texmanager.py?line=267'>268</a>\u001b[0m     \u001b[39m# the absolute path may contain characters (e.g. ~) that TeX does\u001b[39;00m\n\u001b[0;32m    <a href='file:///c%3A/Users/oguzk/Desktop/Python%20TextMining/.venv/lib/site-packages/matplotlib/texmanager.py?line=268'>269</a>\u001b[0m     \u001b[39m# not support.)\u001b[39;00m\n\u001b[0;32m    <a href='file:///c%3A/Users/oguzk/Desktop/Python%20TextMining/.venv/lib/site-packages/matplotlib/texmanager.py?line=269'>270</a>\u001b[0m     \u001b[39mwith\u001b[39;00m TemporaryDirectory(\u001b[39mdir\u001b[39m\u001b[39m=\u001b[39mPath(dvifile)\u001b[39m.\u001b[39mparent) \u001b[39mas\u001b[39;00m tmpdir:\n\u001b[1;32m--> <a href='file:///c%3A/Users/oguzk/Desktop/Python%20TextMining/.venv/lib/site-packages/matplotlib/texmanager.py?line=270'>271</a>\u001b[0m         \u001b[39mself\u001b[39;49m\u001b[39m.\u001b[39;49m_run_checked_subprocess(\n\u001b[0;32m    <a href='file:///c%3A/Users/oguzk/Desktop/Python%20TextMining/.venv/lib/site-packages/matplotlib/texmanager.py?line=271'>272</a>\u001b[0m             [\u001b[39m\"\u001b[39;49m\u001b[39mlatex\u001b[39;49m\u001b[39m\"\u001b[39;49m, \u001b[39m\"\u001b[39;49m\u001b[39m-interaction=nonstopmode\u001b[39;49m\u001b[39m\"\u001b[39;49m, \u001b[39m\"\u001b[39;49m\u001b[39m--halt-on-error\u001b[39;49m\u001b[39m\"\u001b[39;49m,\n\u001b[0;32m    <a href='file:///c%3A/Users/oguzk/Desktop/Python%20TextMining/.venv/lib/site-packages/matplotlib/texmanager.py?line=272'>273</a>\u001b[0m              \u001b[39mf\u001b[39;49m\u001b[39m\"\u001b[39;49m\u001b[39m../\u001b[39;49m\u001b[39m{\u001b[39;49;00mtexfile\u001b[39m.\u001b[39;49mname\u001b[39m}\u001b[39;49;00m\u001b[39m\"\u001b[39;49m], tex, cwd\u001b[39m=\u001b[39;49mtmpdir)\n\u001b[0;32m    <a href='file:///c%3A/Users/oguzk/Desktop/Python%20TextMining/.venv/lib/site-packages/matplotlib/texmanager.py?line=273'>274</a>\u001b[0m         (Path(tmpdir) \u001b[39m/\u001b[39m Path(dvifile)\u001b[39m.\u001b[39mname)\u001b[39m.\u001b[39mreplace(dvifile)\n\u001b[0;32m    <a href='file:///c%3A/Users/oguzk/Desktop/Python%20TextMining/.venv/lib/site-packages/matplotlib/texmanager.py?line=274'>275</a>\u001b[0m \u001b[39mreturn\u001b[39;00m dvifile\n",
      "File \u001b[1;32mc:\\Users\\oguzk\\Desktop\\Python TextMining\\.venv\\lib\\site-packages\\matplotlib\\texmanager.py:237\u001b[0m, in \u001b[0;36mTexManager._run_checked_subprocess\u001b[1;34m(self, command, tex, cwd)\u001b[0m\n\u001b[0;32m    <a href='file:///c%3A/Users/oguzk/Desktop/Python%20TextMining/.venv/lib/site-packages/matplotlib/texmanager.py?line=232'>233</a>\u001b[0m     report \u001b[39m=\u001b[39m subprocess\u001b[39m.\u001b[39mcheck_output(\n\u001b[0;32m    <a href='file:///c%3A/Users/oguzk/Desktop/Python%20TextMining/.venv/lib/site-packages/matplotlib/texmanager.py?line=233'>234</a>\u001b[0m         command, cwd\u001b[39m=\u001b[39mcwd \u001b[39mif\u001b[39;00m cwd \u001b[39mis\u001b[39;00m \u001b[39mnot\u001b[39;00m \u001b[39mNone\u001b[39;00m \u001b[39melse\u001b[39;00m \u001b[39mself\u001b[39m\u001b[39m.\u001b[39mtexcache,\n\u001b[0;32m    <a href='file:///c%3A/Users/oguzk/Desktop/Python%20TextMining/.venv/lib/site-packages/matplotlib/texmanager.py?line=234'>235</a>\u001b[0m         stderr\u001b[39m=\u001b[39msubprocess\u001b[39m.\u001b[39mSTDOUT)\n\u001b[0;32m    <a href='file:///c%3A/Users/oguzk/Desktop/Python%20TextMining/.venv/lib/site-packages/matplotlib/texmanager.py?line=235'>236</a>\u001b[0m \u001b[39mexcept\u001b[39;00m \u001b[39mFileNotFoundError\u001b[39;00m \u001b[39mas\u001b[39;00m exc:\n\u001b[1;32m--> <a href='file:///c%3A/Users/oguzk/Desktop/Python%20TextMining/.venv/lib/site-packages/matplotlib/texmanager.py?line=236'>237</a>\u001b[0m     \u001b[39mraise\u001b[39;00m \u001b[39mRuntimeError\u001b[39;00m(\n\u001b[0;32m    <a href='file:///c%3A/Users/oguzk/Desktop/Python%20TextMining/.venv/lib/site-packages/matplotlib/texmanager.py?line=237'>238</a>\u001b[0m         \u001b[39m'\u001b[39m\u001b[39mFailed to process string with tex because \u001b[39m\u001b[39m{}\u001b[39;00m\u001b[39m could not be \u001b[39m\u001b[39m'\u001b[39m\n\u001b[0;32m    <a href='file:///c%3A/Users/oguzk/Desktop/Python%20TextMining/.venv/lib/site-packages/matplotlib/texmanager.py?line=238'>239</a>\u001b[0m         \u001b[39m'\u001b[39m\u001b[39mfound\u001b[39m\u001b[39m'\u001b[39m\u001b[39m.\u001b[39mformat(command[\u001b[39m0\u001b[39m])) \u001b[39mfrom\u001b[39;00m \u001b[39mexc\u001b[39;00m\n\u001b[0;32m    <a href='file:///c%3A/Users/oguzk/Desktop/Python%20TextMining/.venv/lib/site-packages/matplotlib/texmanager.py?line=239'>240</a>\u001b[0m \u001b[39mexcept\u001b[39;00m subprocess\u001b[39m.\u001b[39mCalledProcessError \u001b[39mas\u001b[39;00m exc:\n\u001b[0;32m    <a href='file:///c%3A/Users/oguzk/Desktop/Python%20TextMining/.venv/lib/site-packages/matplotlib/texmanager.py?line=240'>241</a>\u001b[0m     \u001b[39mraise\u001b[39;00m \u001b[39mRuntimeError\u001b[39;00m(\n\u001b[0;32m    <a href='file:///c%3A/Users/oguzk/Desktop/Python%20TextMining/.venv/lib/site-packages/matplotlib/texmanager.py?line=241'>242</a>\u001b[0m         \u001b[39m'\u001b[39m\u001b[39m{prog}\u001b[39;00m\u001b[39m was not able to process the following string:\u001b[39m\u001b[39m\\n\u001b[39;00m\u001b[39m'\u001b[39m\n\u001b[0;32m    <a href='file:///c%3A/Users/oguzk/Desktop/Python%20TextMining/.venv/lib/site-packages/matplotlib/texmanager.py?line=242'>243</a>\u001b[0m         \u001b[39m'\u001b[39m\u001b[39m{tex!r}\u001b[39;00m\u001b[39m\\n\u001b[39;00m\u001b[39m\\n\u001b[39;00m\u001b[39m'\u001b[39m\n\u001b[1;32m   (...)\u001b[0m\n\u001b[0;32m    <a href='file:///c%3A/Users/oguzk/Desktop/Python%20TextMining/.venv/lib/site-packages/matplotlib/texmanager.py?line=246'>247</a>\u001b[0m             tex\u001b[39m=\u001b[39mtex\u001b[39m.\u001b[39mencode(\u001b[39m'\u001b[39m\u001b[39municode_escape\u001b[39m\u001b[39m'\u001b[39m),\n\u001b[0;32m    <a href='file:///c%3A/Users/oguzk/Desktop/Python%20TextMining/.venv/lib/site-packages/matplotlib/texmanager.py?line=247'>248</a>\u001b[0m             exc\u001b[39m=\u001b[39mexc\u001b[39m.\u001b[39moutput\u001b[39m.\u001b[39mdecode(\u001b[39m'\u001b[39m\u001b[39mutf-8\u001b[39m\u001b[39m'\u001b[39m))) \u001b[39mfrom\u001b[39;00m \u001b[39mexc\u001b[39;00m\n",
      "\u001b[1;31mRuntimeError\u001b[0m: Failed to process string with tex because latex could not be found"
     ]
    },
    {
     "data": {
      "text/plain": [
       "<Figure size 360x360 with 1 Axes>"
      ]
     },
     "metadata": {
      "needs_background": "light"
     },
     "output_type": "display_data"
    }
   ],
   "source": [
    "plt.rc('pdf', fonttype=42)\n",
    "plt.rcParams['ps.useafm'] = True\n",
    "plt.rcParams['pdf.use14corefonts'] = True\n",
    "plt.rcParams['text.usetex'] = True\n",
    "plt.rcParams['font.serif'] = 'Times'\n",
    "plt.rcParams['font.family'] = 'serif'\n",
    "from sklearn.metrics import confusion_matrix\n",
    "\n",
    "confusion_matrix = confusion_matrix(y,y_preds)\n",
    "matrix_proportions = np.zeros((3,3))\n",
    "for i in range(0,3):\n",
    "    matrix_proportions[i,:] = confusion_matrix[i,:]/float(confusion_matrix[i,:].sum())\n",
    "names=['Hate','Offensive','Neither']\n",
    "confusion_df = pd.DataFrame(matrix_proportions, index=names,columns=names)\n",
    "plt.figure(figsize=(5,5))\n",
    "seaborn.heatmap(confusion_df,annot=True,annot_kws={\"size\": 12},cmap='gist_gray_r',cbar=False, square=True,fmt='.2f')\n",
    "plt.ylabel(r'\\textbf{True categories}',fontsize=14)\n",
    "plt.xlabel(r'\\textbf{Predicted categories}',fontsize=14)\n",
    "plt.tick_params(labelsize=12)\n",
    "\n",
    "#Uncomment line below if you want to save the output\n",
    "#plt.savefig('confusion.pdf')"
   ]
  },
  {
   "cell_type": "code",
   "execution_count": null,
   "metadata": {
    "collapsed": false,
    "deletable": true,
    "editable": true
   },
   "outputs": [
    {
     "data": {
      "text/plain": [
       "<matplotlib.axes._subplots.AxesSubplot at 0x121eb5890>"
      ]
     },
     "execution_count": 28,
     "metadata": {},
     "output_type": "execute_result"
    },
    {
     "data": {
      "image/png": "[encoded data removed]",
      "text/plain": [
       "<matplotlib.figure.Figure at 0x11ead58d0>"
      ]
     },
     "metadata": {},
     "output_type": "display_data"
    }
   ],
   "source": [
    "#True distribution\n",
    "y.hist()"
   ]
  },
  {
   "cell_type": "code",
   "execution_count": null,
   "metadata": {
    "collapsed": false,
    "deletable": true,
    "editable": true
   },
   "outputs": [
    {
     "data": {
      "text/plain": [
       "<matplotlib.axes._subplots.AxesSubplot at 0x123f48a90>"
      ]
     },
     "execution_count": 29,
     "metadata": {},
     "output_type": "execute_result"
    },
    {
     "data": {
      "image/png": "[encoded data removed]",
      "text/plain": [
       "<matplotlib.figure.Figure at 0x123fe09d0>"
      ]
     },
     "metadata": {},
     "output_type": "display_data"
    }
   ],
   "source": [
    "pd.Series(y_preds).hist()"
   ]
  }
 ],
 "metadata": {
  "interpreter": {
   "hash": "c047e4f238d5fe78626bcd01c69b703364150532d06f7934515722fa30359329"
  },
  "kernelspec": {
   "display_name": "Python 2",
   "language": "python",
   "name": "python3"
  },
  "language_info": {
   "codemirror_mode": {
    "name": "ipython",
    "version": 3
   },
   "file_extension": ".py",
   "mimetype": "text/x-python",
   "name": "python",
   "nbconvert_exporter": "python",
   "pygments_lexer": "ipython3",
   "version": "3.9.6"
  }
 },
 "nbformat": 4,
 "nbformat_minor": 2
}
